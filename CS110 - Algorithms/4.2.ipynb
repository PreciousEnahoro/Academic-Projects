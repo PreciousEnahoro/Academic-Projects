{
 "cells": [
  {
   "cell_type": "code",
   "execution_count": 121,
   "metadata": {
    "collapsed": false
   },
   "outputs": [
    {
     "name": "stdout",
     "output_type": "stream",
     "text": [
      "Run time for Random is: 8.20159912109e-05 seconds.\n"
     ]
    }
   ],
   "source": [
    "import random\n",
    "import numpy as np\n",
    "import time\n",
    "\n",
    "start = time.time()\n",
    "random.uniform(0,1)\n",
    "end = time.time()\n",
    "print \"Run time for Random is: \" + str(end - start) + \" seconds.\"\n",
    "\n"
   ]
  },
  {
   "cell_type": "code",
   "execution_count": 107,
   "metadata": {
    "collapsed": false
   },
   "outputs": [
    {
     "name": "stdout",
     "output_type": "stream",
     "text": [
      "10\n",
      "0.731993576678\n",
      "0.0742314001971\n",
      "0.331870987609\n",
      "0.893656545754\n",
      "0.120045842288\n",
      "0.334964469166\n",
      "0.0138718503701\n",
      "0.337860637734\n",
      "0.290748477339\n",
      "0.22454261449\n"
     ]
    },
    {
     "data": {
      "text/plain": [
       "1"
      ]
     },
     "execution_count": 107,
     "metadata": {},
     "output_type": "execute_result"
    }
   ],
   "source": [
    "def hire_assistant(n):\n",
    "    hire = 0\n",
    "    best = 0.3\n",
    "    for i in range(0,n):\n",
    "        if A[i] > best:\n",
    "            best = i\n",
    "            hire += 1\n",
    "            #print 'Hire Number',i\n",
    "        return np.sum(hire)\n",
    "        \n",
    "                  \n",
    "A = []\n",
    "n = int(raw_input())\n",
    "for p in range(0,n):\n",
    "    A.append(random.uniform(0,1))\n",
    "    print A[-1]\n",
    "\n",
    "hire_assistant(10)"
   ]
  },
  {
   "cell_type": "code",
   "execution_count": 108,
   "metadata": {
    "collapsed": false
   },
   "outputs": [
    {
     "name": "stdout",
     "output_type": "stream",
     "text": [
      "[1.0, 1.0, 1.0, 1.0, 1.0, 1.0, 1.0, 1.0, 1.0, 1.0, 1.0, 1.0, 1.0, 1.0, 1.0, 1.0, 1.0, 1.0, 1.0, 1.0, 1.0, 1.0, 1.0, 1.0, 1.0, 1.0, 1.0, 1.0, 1.0, 1.0, 1.0, 1.0, 1.0, 1.0, 1.0, 1.0, 1.0, 1.0, 1.0, 1.0, 1.0, 1.0, 1.0, 1.0, 1.0, 1.0, 1.0, 1.0, 1.0, 1.0, 1.0, 1.0, 1.0, 1.0, 1.0, 1.0, 1.0, 1.0, 1.0, 1.0, 1.0, 1.0, 1.0, 1.0, 1.0, 1.0, 1.0, 1.0, 1.0, 1.0, 1.0, 1.0, 1.0, 1.0, 1.0, 1.0, 1.0, 1.0, 1.0, 1.0, 1.0, 1.0, 1.0, 1.0, 1.0, 1.0, 1.0, 1.0, 1.0, 1.0, 1.0, 1.0, 1.0, 1.0, 1.0, 1.0, 1.0, 1.0, 1.0, 1.0]\n"
     ]
    }
   ],
   "source": [
    "average_hires=[]\n",
    "for n in range(1,101):\n",
    "    average_hires.append(np.mean(hire_assistant(10)))\n",
    "print(average_hires)"
   ]
  },
  {
   "cell_type": "code",
   "execution_count": 109,
   "metadata": {
    "collapsed": false
   },
   "outputs": [
    {
     "data": {
      "image/png": "[encoded data removed]",
      "text/plain": [
       "<matplotlib.figure.Figure at 0x10493edd0>"
      ]
     },
     "metadata": {},
     "output_type": "display_data"
    }
   ],
   "source": [
    "plt.plot(range(1,101),average_hires)\n",
    "plt.xlabel(\"Number of interviews\")\n",
    "plt.ylabel(\"Average number of hires\")\n",
    "plt.show()"
   ]
  },
  {
   "cell_type": "code",
   "execution_count": 127,
   "metadata": {
    "collapsed": false
   },
   "outputs": [
    {
     "data": {
      "text/plain": [
       "<matplotlib.text.Text at 0x112985a50>"
      ]
     },
     "execution_count": 127,
     "metadata": {},
     "output_type": "execute_result"
    },
    {
     "data": {
      "image/png": "[encoded data removed]",
      "text/plain": [
       "<matplotlib.figure.Figure at 0x1130c0810>"
      ]
     },
     "metadata": {},
     "output_type": "display_data"
    }
   ],
   "source": [
    "import math\n",
    "x = range(1,1000001)\n",
    "y = []\n",
    "for i in x:\n",
    "    y.append(math.log(i)+1)\n",
    "    \n",
    "plt.plot(x,y)\n",
    "plt.xlabel(\"Number of interviews\")\n",
    "plt.ylabel(\"Average number of hires\")\n",
    "    #theoretical estimate\n"
   ]
  },
  {
   "cell_type": "code",
   "execution_count": 112,
   "metadata": {
    "collapsed": false
   },
   "outputs": [
    {
     "name": "stdout",
     "output_type": "stream",
     "text": [
      "0.01\n",
      "0.010101010101\n"
     ]
    }
   ],
   "source": [
    "#probability that EXACTLY one hire will happen when n=100\n",
    "probability_one = float(math.factorial(99))/float((math.factorial(100)))\n",
    "# for prob 2, we check for the case where the best is NOT the first, but that the best is any one after the first, but\\n\",\n",
    "#between the first and the best, tehre is nothing better than the first P(index2>index1) or P(index3>index1 but index2<index1)\\n\",\n",
    "print probability_one\n",
    "#Let n = 100\\n\",\n",
    "\n",
    "probability =0\n",
    "for target in range (1,100):\n",
    "    probability+=(float(math.factorial(target-1))/math.factorial(target))*((math.factorial((100-target)-1))/math.factorial(100-target))\n",
    "print probability\n"
   ]
  },
  {
   "cell_type": "code",
   "execution_count": 134,
   "metadata": {
    "collapsed": false
   },
   "outputs": [
    {
     "data": {
      "text/plain": [
       "0"
      ]
     },
     "execution_count": 134,
     "metadata": {},
     "output_type": "execute_result"
    }
   ],
   "source": [
    "def hat_check(n):\n",
    "    given = np.random.choice(np.asarray(range(n)),n,replace=False)\n",
    "    returned = np.random.choice(np.asarray(range(n)),n,replace=False)\n",
    "    correct = 0\n",
    "    for i in range(n):\n",
    "        if given[i]==returned[i]:\n",
    "             correct+=1\n",
    "    return correct\n",
    "\n",
    "#poisson distribution\n",
    "\n",
    "#     #for one round for one length\n",
    "# averages_list=[]\n",
    "# for n in range(1,101):\n",
    "#      hats_spec_n=[]\n",
    "# for i in range(1000):\n",
    "#     hats_spec_n.append(hats(n))\n",
    "#     averages_list.append(np.mean(hats_spec_n))\n",
    "\n",
    "# x = range(1,101)\n",
    "# y = averages_list[::-1]\n",
    "# plt.plot(x,y)\n",
    "# plt.show()\n",
    "\n",
    "hat_check(100)"
   ]
  },
  {
   "cell_type": "code",
   "execution_count": 44,
   "metadata": {
    "collapsed": false,
    "scrolled": true
   },
   "outputs": [
    {
     "data": {
      "text/plain": [
       "1.0"
      ]
     },
     "execution_count": 44,
     "metadata": {},
     "output_type": "execute_result"
    }
   ],
   "source": [
    "import random\n",
    "import matplotlib.pyplot as plt\n",
    "import numpy as np\n",
    "%matplotlib inline\n",
    "\n",
    "def simulate_hire(n):\n",
    "    hire_numbers = []\n",
    "    for i in range(1000):\n",
    "        best = 0\n",
    "        hire = 0\n",
    "        for e in range(n):\n",
    "            interviewee = random.random()\n",
    "            if interviewee>best:\n",
    "                    best = interviewee\n",
    "                    hire+=1\n",
    "                    hire_numbers.append(hire)\n",
    "            return np.mean(hire_numbers)\n",
    "    \n",
    "average_hires=[]\n",
    "for n in range(1,1001):\n",
    "    average_hires.append(simulate_hire(n))\n",
    "    \n",
    "simulate_hire(1000)"
   ]
  },
  {
   "cell_type": "code",
   "execution_count": null,
   "metadata": {
    "collapsed": true
   },
   "outputs": [],
   "source": [
    "plt.plot(range(1,1001),average_hires)\n",
    "plt.xlabel(\"Number of interviews\")\n",
    "plt.ylabel(\"Average number of hires\")\n",
    "plt.show()"
   ]
  },
  {
   "cell_type": "code",
   "execution_count": null,
   "metadata": {
    "collapsed": true
   },
   "outputs": [],
   "source": [
    "import random\n",
    "import numpy as np\n",
    "\n",
    "def hire_assistant(current_assistant):\n",
    "    new_assistant = random.random()\n",
    "    if new_assistant - current_assistant >= 0.1:\n",
    "        return new_assistant\n",
    "    else:\n",
    "        return current_assistant\n",
    "\n",
    "\n",
    "def hire_assistant_simulation(length, repetitions):\n",
    "    results=[]\n",
    "    for repetition in range(repetitions):\n",
    "        # of assistants hired\n",
    "        num_hired = 0\n",
    "        current_assistant = 0\n",
    "        for assistant in range(length):\n",
    "            new_assistant = hire_assistant(current_assistant)\n",
    "            if new_assistant != current_assistant:\n",
    "                current_assistant = new_assistant\n",
    "                num_hired += 1\n",
    "            if current_assistant > 0.9:\n",
    "                break\n",
    "        results.append(num_hired)\n",
    "    return results\n",
    "\n",
    "assistant_results = hire_assistant_simulation(100, 100)\n",
    "print(assistant_results)\n",
    "print(\"average steps: \", np.mean(assistant_results))"
   ]
  },
  {
   "cell_type": "code",
   "execution_count": null,
   "metadata": {
    "collapsed": true
   },
   "outputs": [],
   "source": [
    " a + sum([RANDOM(0,1) for _ in range(b-a +1)])"
   ]
  },
  {
   "cell_type": "code",
   "execution_count": null,
   "metadata": {
    "collapsed": true
   },
   "outputs": [],
   "source": [
    "# Estimate the probability of hiring exactly two assistants\n",
    "​\n",
    "def twos_hire_assistant_simulation(length, repetitions):\n",
    "    results=[]\n",
    "    for repetition in range(repetitions):\n",
    "        # of assistants hired\n",
    "        num_hired = 0\n",
    "        current_assistant = 0\n",
    "        for assistant in range(length):\n",
    "            new_assistant = hire_assistant(current_assistant)\n",
    "            if new_assistant != current_assistant:\n",
    "                current_assistant = new_assistant\n",
    "                num_hired += 1\n",
    "            if current_assistant > 0.9:\n",
    "                break\n",
    "        results.append(num_hired == 2)\n",
    "    return results\n",
    "​\n",
    "twos_results = twos_hire_assistant_simulation(100,1000)\n",
    "print(np.sum(twos_results)/(len(twos_results)*1.0))"
   ]
  }
 ],
 "metadata": {
  "anaconda-cloud": {},
  "kernelspec": {
   "display_name": "Python [Root]",
   "language": "python",
   "name": "Python [Root]"
  },
  "language_info": {
   "codemirror_mode": {
    "name": "ipython",
    "version": 2
   },
   "file_extension": ".py",
   "mimetype": "text/x-python",
   "name": "python",
   "nbconvert_exporter": "python",
   "pygments_lexer": "ipython2",
   "version": "2.7.12"
  }
 },
 "nbformat": 4,
 "nbformat_minor": 0
}
