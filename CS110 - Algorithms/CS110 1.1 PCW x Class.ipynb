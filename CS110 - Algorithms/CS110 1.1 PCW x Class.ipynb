{
 "cells": [
  {
   "cell_type": "markdown",
   "metadata": {},
   "source": [
    "During class we will be writing Python functions to generate lists of a user-specified length m with certain characteristics, such as a list of m integers randomly sampled from a distribution. \n",
    "\n",
    "Your task before class is to write a function that will call any function generated in class n times, each time with a different specified value of m, to generate a list of the n outputs. The entries of this list will themselves be lists. More specifically:\n",
    "\n",
    "Inputs: a function f that produces as output a list of length m, m itself, and a number n of lists you want to generate. Thus the function would be of the form g(f, m, n).\n",
    "\n",
    "Outputs: a list of n lists the lengths of which are increasing multiples of 2 of m.\n",
    "\n",
    "Example: Suppose f(m) returns a list containing m zeros and g is the function you write for the pre-class work. Then g(f, 2, 3) returns [[0, 0], [0, 0, 0, 0], [0, 0, 0, 0, 0, 0, 0, 0]]."
   ]
  },
  {
   "cell_type": "code",
   "execution_count": 78,
   "metadata": {
    "collapsed": false
   },
   "outputs": [
    {
     "data": {
      "text/plain": [
       "[[0, 0], [0, 0, 0, 0], [0, 0, 0, 0, 0, 0, 0, 0]]"
      ]
     },
     "execution_count": 78,
     "metadata": {},
     "output_type": "execute_result"
    }
   ],
   "source": [
    "#right code\n",
    "\n",
    "def f(m):\n",
    "    p = [0] * m\n",
    "    return p\n",
    "\n",
    "def g(f,m,n):\n",
    "        a = (f(m))\n",
    "        x = [(a*2**i) for i in range(n)]\n",
    "        return x\n",
    "\n",
    "func(f,2,3)           \n",
    "#f(3)"
   ]
  },
  {
   "cell_type": "code",
   "execution_count": 76,
   "metadata": {
    "collapsed": false
   },
   "outputs": [
    {
     "data": {
      "text/plain": [
       "[[458, 193], [458, 193, 458, 193], [458, 193, 458, 193, 458, 193, 458, 193]]"
      ]
     },
     "execution_count": 76,
     "metadata": {},
     "output_type": "execute_result"
    }
   ],
   "source": [
    "from random import randint\n",
    "def rand_list(m):\n",
    "    lis =[]\n",
    "    for i in xrange(m):\n",
    "        lis.append(randint(-1000,1000))\n",
    "    return lis    \n",
    "\n",
    "rand_list(2)\n",
    "\n",
    "def func(rand_list,m,n):\n",
    "        a = (rand_list(m))\n",
    "        x = [(a*2**i) for i in range(n)]\n",
    "        return x\n",
    "    \n",
    "func(rand_list,2,3)"
   ]
  },
  {
   "cell_type": "code",
   "execution_count": 65,
   "metadata": {
    "collapsed": false
   },
   "outputs": [
    {
     "data": {
      "text/plain": [
       "[[0, 0], [0, 0, 0, 0], [0, 0, 0, 0, 0, 0, 0, 0]]"
      ]
     },
     "execution_count": 65,
     "metadata": {},
     "output_type": "execute_result"
    }
   ],
   "source": [
    "def func(f,m,n):\n",
    "        f= [0]*m\n",
    "        x = [(f*2**i) for i in range(n)]\n",
    "        return x\n",
    "\n",
    "    \n",
    "def func(f,m,n):\n",
    "        x = [([0]*m*2**i) for i in range(n)]\n",
    "        return x\n",
    "func(f,2,3)"
   ]
  },
  {
   "cell_type": "markdown",
   "metadata": {},
   "source": [
    "Generating data\n",
    "Write an uncommented function for each of the tasks below given an input of an integer m:\n",
    "\n",
    "Outputs a list of m equally-spaced numbers going from 0 to 100 (inclusive).\n",
    "Outputs a list of length m with each entry containing the sentence “Algorithms are interesting”.\n",
    "Outputs a list of the first m prime numbers.\n",
    "Apply the function you wrote for your pre-class work to a sample of these lists."
   ]
  },
  {
   "cell_type": "code",
   "execution_count": 85,
   "metadata": {
    "collapsed": false
   },
   "outputs": [
    {
     "name": "stdout",
     "output_type": "stream",
     "text": [
      "[0, 1, 2, 3, 4, 5, 6, 7, 8, 9, 10, 11, 12, 13, 14, 15, 16, 17, 18, 19, 20, 21, 22, 23, 24, 25, 26, 27, 28, 29, 30, 31, 32, 33, 34, 35, 36, 37, 38, 39, 40, 41, 42, 43, 44, 45, 46, 47, 48, 49, 50, 51, 52, 53, 54, 55, 56, 57, 58, 59, 60, 61, 62, 63, 64, 65, 66, 67, 68, 69, 70, 71, 72, 73, 74, 75, 76, 77, 78, 79, 80, 81, 82, 83, 84, 85, 86, 87, 88, 89, 90, 91, 92, 93, 94, 95, 96, 97, 98, 99, 100]\n"
     ]
    }
   ],
   "source": [
    "def FunctionA(m):\n",
    "    f = []\n",
    "    for i in range(m):\n",
    "        f.append(i)\n",
    "    return f\n",
    "\n",
    "print(FunctionA(101))"
   ]
  },
  {
   "cell_type": "code",
   "execution_count": 87,
   "metadata": {
    "collapsed": false
   },
   "outputs": [
    {
     "data": {
      "text/plain": [
       "['Algorithms are interesting',\n",
       " 'Algorithms are interesting',\n",
       " 'Algorithms are interesting',\n",
       " 'Algorithms are interesting',\n",
       " 'Algorithms are interesting',\n",
       " 'Algorithms are interesting',\n",
       " 'Algorithms are interesting',\n",
       " 'Algorithms are interesting',\n",
       " 'Algorithms are interesting',\n",
       " 'Algorithms are interesting',\n",
       " 'Algorithms are interesting',\n",
       " 'Algorithms are interesting',\n",
       " 'Algorithms are interesting',\n",
       " 'Algorithms are interesting']"
      ]
     },
     "execution_count": 87,
     "metadata": {},
     "output_type": "execute_result"
    }
   ],
   "source": [
    "def FunctionB(m):\n",
    "    x = []\n",
    "    for i in range(m):\n",
    "        x.append(\"Algorithms are interesting\")\n",
    "    return x\n",
    "\n",
    "FunctionB(14)"
   ]
  },
  {
   "cell_type": "code",
   "execution_count": 88,
   "metadata": {
    "collapsed": false
   },
   "outputs": [
    {
     "name": "stdout",
     "output_type": "stream",
     "text": [
      "[2, 3, 5, 7, 11, 13, 17]\n"
     ]
    }
   ],
   "source": [
    "def FunctionC(m):\n",
    "    lis = []\n",
    "    i = 2\n",
    "    while len(lis)< m:\n",
    "        divisible = False\n",
    "        for j in range(2,i-1):\n",
    "            if i%j == 0:\n",
    "                divisible = True\n",
    "        if divisible == False:\n",
    "            lis.append(i)\n",
    "        i += 1\n",
    "    return lis\n",
    "\n",
    "print (FunctionC(7))"
   ]
  },
  {
   "cell_type": "code",
   "execution_count": null,
   "metadata": {
    "collapsed": true
   },
   "outputs": [],
   "source": [
    "GROUP B\n",
    "def first(m, p):\n",
    "    return [p] * m\n",
    "def second(m):\n",
    "    return [random.randint(0,1) for _ in xrange(m)]\n",
    "def third(lis, m):\n",
    "    return [random.choice(lis) for _ in xrange(m)]\n",
    "\n",
    "\n",
    "Group A:\n",
    "def FunctionA(m):\n",
    "    f = []\n",
    "    for i in range(m):\n",
    "        f.append(i)\n",
    "    return f\n",
    "def FunctionB(m):\n",
    "    x = []\n",
    "    for i in range(m):\n",
    "        x.append(\"Algorithms are interesting\")\n",
    "    return x\n",
    "def FunctionC(m):\n",
    "    lis = []\n",
    "    i = 2\n",
    "    while len(lis)< m:\n",
    "        divisible = False\n",
    "        for j in range(2,i-1):\n",
    "            if i%j == 0:\n",
    "                divisible = True\n",
    "        if divisible == False:\n",
    "            lis.append(i)\n",
    "        i += 1\n",
    "    return lis\n",
    "\n",
    "\n",
    "Group C:\n",
    "import random\n",
    "def random_sample(m, dist):\n",
    "    return float(random.sample(dist, k=m))\n",
    "def generate_list(fun, m, n):\n",
    "    return[fun(m*2**exp) for exp in range(n)]\n",
    "#dist = int(raw_input(\"Specify a distribution\"))\n",
    "#m = int(raw_input(\"Provide a length of output\"))\n",
    "#generate_list(random_sample(m, dist), m, 3)\n",
    "random_sample(4, [1, 2, 3, 4, 5, 6, 7, 8])\n",
    "generate_list(random_sample,4,2)\n",
    "\n",
    "\n",
    "Group D:\n",
    "import random as rand\n",
    "max_len = raw_input(\"Max length:\")\n",
    "alphabet = raw_input(\"Alphabet:\")\n",
    "def fn(m, max_len, alphabet):\n",
    "    results = []\n",
    "    for i in range(m):\n",
    "        str = \"\"\n",
    "        str_len = rand.randint(1, max_len)\n",
    "        for k in range(str_len):\n",
    "            num = rand.randint(0,len(alphabet))\n",
    "            str.append(alphabet[num])\n",
    "        results.append(str)\n",
    "    return results\n",
    "        \n",
    "fn(2, max_len, alphabet)\n"
   ]
  }
 ],
 "metadata": {
  "anaconda-cloud": {},
  "kernelspec": {
   "display_name": "Python [Root]",
   "language": "python",
   "name": "Python [Root]"
  },
  "language_info": {
   "codemirror_mode": {
    "name": "ipython",
    "version": 2
   },
   "file_extension": ".py",
   "mimetype": "text/x-python",
   "name": "python",
   "nbconvert_exporter": "python",
   "pygments_lexer": "ipython2",
   "version": "2.7.12"
  }
 },
 "nbformat": 4,
 "nbformat_minor": 0
}
