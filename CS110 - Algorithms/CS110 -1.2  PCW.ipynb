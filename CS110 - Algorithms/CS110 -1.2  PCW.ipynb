{
 "cells": [
  {
   "cell_type": "code",
   "execution_count": 1,
   "metadata": {},
   "outputs": [
    {
     "ename": "NameError",
     "evalue": "name 'main' is not defined",
     "output_type": "error",
     "traceback": [
      "\u001b[0;31m---------------------------------------------------------------------------\u001b[0m",
      "\u001b[0;31mNameError\u001b[0m                                 Traceback (most recent call last)",
      "\u001b[0;32m<ipython-input-1-fc90c15bb0ac>\u001b[0m in \u001b[0;36m<module>\u001b[0;34m()\u001b[0m\n\u001b[1;32m      1\u001b[0m \u001b[0;32mimport\u001b[0m \u001b[0mtime\u001b[0m\u001b[0;34m\u001b[0m\u001b[0m\n\u001b[1;32m      2\u001b[0m \u001b[0mstart_time\u001b[0m \u001b[0;34m=\u001b[0m \u001b[0mtime\u001b[0m\u001b[0;34m.\u001b[0m\u001b[0mtime\u001b[0m\u001b[0;34m(\u001b[0m\u001b[0;34m)\u001b[0m\u001b[0;34m\u001b[0m\u001b[0m\n\u001b[0;32m----> 3\u001b[0;31m \u001b[0mmain\u001b[0m\u001b[0;34m(\u001b[0m\u001b[0;34m)\u001b[0m\u001b[0;34m\u001b[0m\u001b[0m\n\u001b[0m\u001b[1;32m      4\u001b[0m \u001b[0;32mprint\u001b[0m\u001b[0;34m(\u001b[0m\u001b[0;34m\"--- %s seconds ---\"\u001b[0m \u001b[0;34m%\u001b[0m \u001b[0;34m(\u001b[0m\u001b[0mtime\u001b[0m\u001b[0;34m.\u001b[0m\u001b[0mtime\u001b[0m\u001b[0;34m(\u001b[0m\u001b[0;34m)\u001b[0m \u001b[0;34m-\u001b[0m \u001b[0mstart_time\u001b[0m\u001b[0;34m)\u001b[0m\u001b[0;34m)\u001b[0m\u001b[0;34m\u001b[0m\u001b[0m\n",
      "\u001b[0;31mNameError\u001b[0m: name 'main' is not defined"
     ]
    }
   ],
   "source": [
    "import time\n",
    "start_time = time.time()\n",
    "main()\n",
    "print(\"--- %s seconds ---\" % (time.time() - start_time))"
   ]
  },
  {
   "cell_type": "code",
   "execution_count": 1,
   "metadata": {},
   "outputs": [
    {
     "name": "stdout",
     "output_type": "stream",
     "text": [
      "[3, 7, 16, 53, 74, 81, 84, 97, 100]\n"
     ]
    }
   ],
   "source": [
    "def insertionSort(x):\n",
    "    for i in range(1,len(x)):\n",
    "\n",
    "        current_value = x[i]\n",
    "        place = i\n",
    "\n",
    "        while place>0 and x[place-1]>current_value:\n",
    "            x[place]=x[place-1]\n",
    "            place = place-1\n",
    "\n",
    "        x[place]=current_value\n",
    "\n",
    "setlist = [84,16,3,7,97,81,74,53,100]\n",
    "insertionSort(setlist)\n",
    "print(setlist)"
   ]
  },
  {
   "cell_type": "code",
   "execution_count": 4,
   "metadata": {},
   "outputs": [
    {
     "data": {
      "text/plain": [
       "[1,\n",
       " 2,\n",
       " 3,\n",
       " 4,\n",
       " 5,\n",
       " 6,\n",
       " 7,\n",
       " 8,\n",
       " 9,\n",
       " 10,\n",
       " 11,\n",
       " 12,\n",
       " 13,\n",
       " 14,\n",
       " 15,\n",
       " 16,\n",
       " 17,\n",
       " 18,\n",
       " 19,\n",
       " 20,\n",
       " 21,\n",
       " 22,\n",
       " 23,\n",
       " 24,\n",
       " 25,\n",
       " 26,\n",
       " 27,\n",
       " 28,\n",
       " 29,\n",
       " 30,\n",
       " 31,\n",
       " 32,\n",
       " 33,\n",
       " 34,\n",
       " 35,\n",
       " 36,\n",
       " 37,\n",
       " 38,\n",
       " 39,\n",
       " 40,\n",
       " 41,\n",
       " 42,\n",
       " 43,\n",
       " 44,\n",
       " 45,\n",
       " 46,\n",
       " 47,\n",
       " 48,\n",
       " 49,\n",
       " 50,\n",
       " 51,\n",
       " 52,\n",
       " 53,\n",
       " 54,\n",
       " 55,\n",
       " 56,\n",
       " 57,\n",
       " 58,\n",
       " 59,\n",
       " 60,\n",
       " 61,\n",
       " 62,\n",
       " 63,\n",
       " 64,\n",
       " 65,\n",
       " 66,\n",
       " 67,\n",
       " 68,\n",
       " 69,\n",
       " 70,\n",
       " 71,\n",
       " 72,\n",
       " 73,\n",
       " 74,\n",
       " 75,\n",
       " 76,\n",
       " 77,\n",
       " 78,\n",
       " 79,\n",
       " 80,\n",
       " 81,\n",
       " 82,\n",
       " 83,\n",
       " 84,\n",
       " 85,\n",
       " 86,\n",
       " 87,\n",
       " 88,\n",
       " 89,\n",
       " 90,\n",
       " 91,\n",
       " 92,\n",
       " 93,\n",
       " 94,\n",
       " 95,\n",
       " 96,\n",
       " 97,\n",
       " 98,\n",
       " 99,\n",
       " 100]"
      ]
     },
     "execution_count": 4,
     "metadata": {},
     "output_type": "execute_result"
    }
   ],
   "source": [
    "def insertion(a):\n",
    "    for j in range(1,len(a)):\n",
    "        key = a[j]\n",
    "        i = j\n",
    "        while i > 0 and a[i-1] > key:\n",
    "            a[i] = a[i-1]\n",
    "            i = i - 1\n",
    "        a[i] = key\n",
    "        #replaces the last repeating number\n",
    "    return a\n",
    "\n",
    "def shellSort(m, initial_interval_size):\n",
    "    interval = initial_interval_size\n",
    "    while interval > 0:\n",
    "        for index in range(interval):\n",
    "            m[index::interval] = insertion(m[index::interval])\n",
    "        interval = interval // 2\n",
    "    return m\n",
    "\n",
    "shellSort(list(range(100, 0, -1)), 50)\n",
    "    "
   ]
  },
  {
   "cell_type": "code",
   "execution_count": 5,
   "metadata": {},
   "outputs": [
    {
     "name": "stdout",
     "output_type": "stream",
     "text": [
      "Shell run time is: 0.000663042068481 seconds.\n",
      "Bubble run time is: 0.00131011009216 seconds.\n",
      "Shell run time is: 0.119814872742 seconds.\n",
      "Bubble run time is: 10.2897291183 seconds.\n"
     ]
    },
    {
     "ename": "NameError",
     "evalue": "name 'insert' is not defined",
     "output_type": "error",
     "traceback": [
      "\u001b[0;31m---------------------------------------------------------------------------\u001b[0m",
      "\u001b[0;31mNameError\u001b[0m                                 Traceback (most recent call last)",
      "\u001b[0;32m<ipython-input-5-a626f28a8419>\u001b[0m in \u001b[0;36m<module>\u001b[0;34m()\u001b[0m\n\u001b[1;32m     38\u001b[0m \u001b[0mShell\u001b[0m\u001b[0;34m(\u001b[0m\u001b[0mhuge\u001b[0m\u001b[0;34m)\u001b[0m\u001b[0;34m\u001b[0m\u001b[0m\n\u001b[1;32m     39\u001b[0m \u001b[0mBubble\u001b[0m\u001b[0;34m(\u001b[0m\u001b[0mhuge\u001b[0m\u001b[0;34m)\u001b[0m\u001b[0;34m\u001b[0m\u001b[0m\n\u001b[0;32m---> 40\u001b[0;31m \u001b[0minsert\u001b[0m\u001b[0;34m\u001b[0m\u001b[0m\n\u001b[0m\u001b[1;32m     41\u001b[0m \u001b[0mShell\u001b[0m\u001b[0;34m(\u001b[0m\u001b[0msmall\u001b[0m\u001b[0;34m)\u001b[0m\u001b[0;34m\u001b[0m\u001b[0m\n",
      "\u001b[0;31mNameError\u001b[0m: name 'insert' is not defined"
     ]
    }
   ],
   "source": [
    "import time\n",
    "\n",
    "normal = list(range(100,1,-1))\n",
    "huge = list(range(10000,1,-1))\n",
    "small = list(range(1,3))\n",
    "#Insertion Sort\n",
    "def Insert(list):\n",
    "    for j in xrange(1,len(list)):\n",
    "        key = list[j]\n",
    "        i = j - 1\n",
    "        while i > -1 and list[i]>key:\n",
    "            list[i+1] = list[i]\n",
    "            i = i - 1\n",
    "        list[i+1] = key\n",
    "    return list\n",
    "\n",
    "def Shell(list):\n",
    "    start = time.time()\n",
    "    interval = len(list)//2\n",
    "    while interval > 0:\n",
    "        for k in range(interval):\n",
    "            list[k::interval] = Insert(list[k::interval])        \n",
    "        interval = interval//2\n",
    "    end = time.time()\n",
    "    print \"Shell run time is: \" + str(end - start) + \" seconds.\"\n",
    "\n",
    "def Bubble(list):\n",
    "    start = time.time()\n",
    "    for i in xrange(0,len(list)):\n",
    "        for j in xrange(len(list)-1,i+1,-1):\n",
    "            if list[j] < list[j-1]:\n",
    "                list[j],list[j-1] = list[j-1],list[j]\n",
    "    end = time.time()\n",
    "    print \"Bubble run time is: \" + str(end - start) + \" seconds.\"\n",
    "\n",
    "Shell(normal)\n",
    "Bubble(normal)\n",
    "Shell(huge)\n",
    "Bubble(huge)\n",
    "insert\n",
    "Shell(small)\n"
   ]
  },
  {
   "cell_type": "code",
   "execution_count": null,
   "metadata": {
    "collapsed": true
   },
   "outputs": [],
   "source": []
  }
 ],
 "metadata": {
  "anaconda-cloud": {},
  "kernelspec": {
   "display_name": "Python 3",
   "language": "python",
   "name": "python3"
  },
  "language_info": {
   "codemirror_mode": {
    "name": "ipython",
    "version": 3
   },
   "file_extension": ".py",
   "mimetype": "text/x-python",
   "name": "python",
   "nbconvert_exporter": "python",
   "pygments_lexer": "ipython3",
   "version": "3.6.5"
  }
 },
 "nbformat": 4,
 "nbformat_minor": 1
}
