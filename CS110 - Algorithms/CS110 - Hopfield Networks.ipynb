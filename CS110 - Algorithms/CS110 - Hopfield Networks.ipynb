{
 "cells": [
  {
   "cell_type": "code",
   "execution_count": 3,
   "metadata": {},
   "outputs": [
    {
     "name": "stdout",
     "output_type": "stream",
     "text": [
      "Collecting neupy\n",
      "\u001b[?25l  Downloading https://files.pythonhosted.org/packages/6a/9d/ccbe1f517596a7c91108ebb7dff84551a6f7c9ccf601c0569d3c2bd92136/neupy-0.7.0-py2.py3-none-any.whl (198kB)\n",
      "\u001b[K    100% |████████████████████████████████| 204kB 12.2MB/s a 0:00:01\n",
      "\u001b[?25hRequirement already satisfied: tensorflow<=1.12.0,>=1.10.1 in /anaconda3/lib/python3.6/site-packages (from neupy) (1.11.0)\n",
      "Collecting graphviz==0.5.1 (from neupy)\n",
      "  Downloading https://files.pythonhosted.org/packages/55/8d/18e45d3f57adfde20ac831a5ba7144b9e643185e05eb0a02b6f22d076752/graphviz-0.5.1-py2.py3-none-any.whl\n",
      "Requirement already satisfied: matplotlib>=1.5.1 in /anaconda3/lib/python3.6/site-packages (from neupy) (2.2.2)\n",
      "Requirement already satisfied: scipy>=0.19.0 in /anaconda3/lib/python3.6/site-packages (from neupy) (1.1.0)\n",
      "Collecting tableprint==0.7.1 (from neupy)\n",
      "  Downloading https://files.pythonhosted.org/packages/b4/22/237af092c15d69b93857cb16bf180a650f51d07446a6119f1496c73d419c/tableprint-0.7.1.tar.gz\n",
      "Collecting progressbar2==3.34.3 (from neupy)\n",
      "  Downloading https://files.pythonhosted.org/packages/87/31/b984e17bcc7491c1baeda3906fe3abc14cb5cd5dbd046ab46d9fc7a2edfd/progressbar2-3.34.3-py2.py3-none-any.whl\n",
      "Requirement already satisfied: numpy>=1.9.0 in /anaconda3/lib/python3.6/site-packages (from neupy) (1.14.3)\n",
      "Requirement already satisfied: h5py in /anaconda3/lib/python3.6/site-packages (from neupy) (2.7.1)\n",
      "Requirement already satisfied: keras-applications>=1.0.5 in /anaconda3/lib/python3.6/site-packages (from tensorflow<=1.12.0,>=1.10.1->neupy) (1.0.6)\n",
      "Requirement already satisfied: astor>=0.6.0 in /anaconda3/lib/python3.6/site-packages (from tensorflow<=1.12.0,>=1.10.1->neupy) (0.7.1)\n",
      "Requirement already satisfied: grpcio>=1.8.6 in /anaconda3/lib/python3.6/site-packages (from tensorflow<=1.12.0,>=1.10.1->neupy) (1.16.0)\n",
      "Requirement already satisfied: absl-py>=0.1.6 in /anaconda3/lib/python3.6/site-packages (from tensorflow<=1.12.0,>=1.10.1->neupy) (0.6.1)\n",
      "Requirement already satisfied: six>=1.10.0 in /anaconda3/lib/python3.6/site-packages (from tensorflow<=1.12.0,>=1.10.1->neupy) (1.11.0)\n",
      "Requirement already satisfied: wheel>=0.26 in /anaconda3/lib/python3.6/site-packages (from tensorflow<=1.12.0,>=1.10.1->neupy) (0.31.1)\n",
      "Requirement already satisfied: keras-preprocessing>=1.0.3 in /anaconda3/lib/python3.6/site-packages (from tensorflow<=1.12.0,>=1.10.1->neupy) (1.0.5)\n",
      "Requirement already satisfied: gast>=0.2.0 in /anaconda3/lib/python3.6/site-packages (from tensorflow<=1.12.0,>=1.10.1->neupy) (0.2.0)\n",
      "Requirement already satisfied: protobuf>=3.6.0 in /anaconda3/lib/python3.6/site-packages (from tensorflow<=1.12.0,>=1.10.1->neupy) (3.6.1)\n",
      "Requirement already satisfied: termcolor>=1.1.0 in /anaconda3/lib/python3.6/site-packages (from tensorflow<=1.12.0,>=1.10.1->neupy) (1.1.0)\n",
      "Requirement already satisfied: tensorboard<1.12.0,>=1.11.0 in /anaconda3/lib/python3.6/site-packages (from tensorflow<=1.12.0,>=1.10.1->neupy) (1.11.0)\n",
      "Requirement already satisfied: setuptools<=39.1.0 in /anaconda3/lib/python3.6/site-packages (from tensorflow<=1.12.0,>=1.10.1->neupy) (39.1.0)\n",
      "Requirement already satisfied: cycler>=0.10 in /anaconda3/lib/python3.6/site-packages (from matplotlib>=1.5.1->neupy) (0.10.0)\n",
      "Requirement already satisfied: pyparsing!=2.0.4,!=2.1.2,!=2.1.6,>=2.0.1 in /anaconda3/lib/python3.6/site-packages (from matplotlib>=1.5.1->neupy) (2.2.0)\n",
      "Requirement already satisfied: python-dateutil>=2.1 in /anaconda3/lib/python3.6/site-packages (from matplotlib>=1.5.1->neupy) (2.7.3)\n",
      "Requirement already satisfied: pytz in /anaconda3/lib/python3.6/site-packages (from matplotlib>=1.5.1->neupy) (2018.4)\n",
      "Requirement already satisfied: kiwisolver>=1.0.1 in /anaconda3/lib/python3.6/site-packages (from matplotlib>=1.5.1->neupy) (1.0.1)\n",
      "Collecting future (from tableprint==0.7.1->neupy)\n",
      "\u001b[?25l  Downloading https://files.pythonhosted.org/packages/90/52/e20466b85000a181e1e144fd8305caf2cf475e2f9674e797b222f8105f5f/future-0.17.1.tar.gz (829kB)\n",
      "\u001b[K    100% |████████████████████████████████| 829kB 17.2MB/s ta 0:00:01\n",
      "\u001b[?25hRequirement already satisfied: wcwidth in /anaconda3/lib/python3.6/site-packages (from tableprint==0.7.1->neupy) (0.1.7)\n",
      "Collecting python-utils>=2.1.0 (from progressbar2==3.34.3->neupy)\n",
      "  Downloading https://files.pythonhosted.org/packages/eb/a0/19119d8b7c05be49baf6c593f11c432d571b70d805f2fe94c0585e55e4c8/python_utils-2.3.0-py2.py3-none-any.whl\n",
      "Requirement already satisfied: werkzeug>=0.11.10 in /anaconda3/lib/python3.6/site-packages (from tensorboard<1.12.0,>=1.11.0->tensorflow<=1.12.0,>=1.10.1->neupy) (0.14.1)\n",
      "Requirement already satisfied: markdown>=2.6.8 in /anaconda3/lib/python3.6/site-packages (from tensorboard<1.12.0,>=1.11.0->tensorflow<=1.12.0,>=1.10.1->neupy) (3.0.1)\n",
      "Building wheels for collected packages: tableprint, future\n",
      "  Running setup.py bdist_wheel for tableprint ... \u001b[?25ldone\n",
      "\u001b[?25h  Stored in directory: /Users/precious.enahoro/Library/Caches/pip/wheels/f3/85/50/13fdeeb11b9453c850be1b5b964471e05d5b9454d8c3c56e76\n",
      "  Running setup.py bdist_wheel for future ... \u001b[?25ldone\n",
      "\u001b[?25h  Stored in directory: /Users/precious.enahoro/Library/Caches/pip/wheels/0c/61/d2/d6b7317325828fbb39ee6ad559dbe4664d0896da4721bf379e\n",
      "Successfully built tableprint future\n",
      "\u001b[31mdistributed 1.21.8 requires msgpack, which is not installed.\u001b[0m\n",
      "Installing collected packages: graphviz, future, tableprint, python-utils, progressbar2, neupy\n",
      "Successfully installed future-0.17.1 graphviz-0.5.1 neupy-0.7.0 progressbar2-3.34.3 python-utils-2.3.0 tableprint-0.7.1\n",
      "\u001b[33mYou are using pip version 10.0.1, however version 18.1 is available.\n",
      "You should consider upgrading via the 'pip install --upgrade pip' command.\u001b[0m\n"
     ]
    },
    {
     "name": "stderr",
     "output_type": "stream",
     "text": [
      "/anaconda3/lib/python3.6/site-packages/h5py/__init__.py:36: FutureWarning: Conversion of the second argument of issubdtype from `float` to `np.floating` is deprecated. In future, it will be treated as `np.float64 == np.dtype(float).type`.\n",
      "  from ._conv import register_converters as _register_converters\n"
     ]
    },
    {
     "name": "stdout",
     "output_type": "stream",
     "text": [
      "|   * * *  \n",
      "| *       *\n",
      "| *       *\n",
      "| *       *\n",
      "| *       *\n",
      "|   * * *  \n"
     ]
    }
   ],
   "source": [
    "import numpy as np\n",
    "!pip install neupy\n",
    "from neupy import algorithms\n",
    "\n",
    "def draw_bin_image(image_matrix):\n",
    "    for row in image_matrix.tolist():\n",
    "        print('| ' + ' '.join(' *'[val] for val in row))\n",
    "\n",
    "zero = np.matrix([\n",
    "    0, 1, 1, 1, 0,\n",
    "    1, 0, 0, 0, 1,\n",
    "    1, 0, 0, 0, 1,\n",
    "    1, 0, 0, 0, 1,\n",
    "    1, 0, 0, 0, 1,\n",
    "    0, 1, 1, 1, 0\n",
    "])\n",
    "\n",
    "one = np.matrix([\n",
    "    0, 1, 1, 0, 0,\n",
    "    0, 0, 1, 0, 0,\n",
    "    0, 0, 1, 0, 0,\n",
    "    0, 0, 1, 0, 0,\n",
    "    0, 0, 1, 0, 0,\n",
    "    0, 0, 1, 0, 0\n",
    "])\n",
    "\n",
    "two = np.matrix([\n",
    "    1, 1, 1, 0, 0,\n",
    "    0, 0, 0, 1, 0,\n",
    "    0, 0, 0, 1, 0,\n",
    "    0, 1, 1, 0, 0,\n",
    "    1, 0, 0, 0, 0,\n",
    "    1, 1, 1, 1, 1,\n",
    "])\n",
    "\n",
    "draw_bin_image(zero.reshape((6, 5)))"
   ]
  },
  {
   "cell_type": "code",
   "execution_count": 4,
   "metadata": {},
   "outputs": [],
   "source": [
    "data = np.concatenate([zero, one, two], axis=0)\n",
    "\n",
    "dhnet = algorithms.DiscreteHopfieldNetwork(mode='sync')\n",
    "dhnet.train(data)"
   ]
  },
  {
   "cell_type": "code",
   "execution_count": 5,
   "metadata": {},
   "outputs": [
    {
     "name": "stdout",
     "output_type": "stream",
     "text": [
      "|   * * *  \n",
      "| *       *\n",
      "| *       *\n",
      "|          \n",
      "|          \n",
      "|          \n",
      "|          \n",
      "|          \n",
      "|          \n",
      "|   * *    \n",
      "| *        \n",
      "| * * * * *\n"
     ]
    }
   ],
   "source": [
    "half_zero = np.matrix([\n",
    "    0, 1, 1, 1, 0,\n",
    "    1, 0, 0, 0, 1,\n",
    "    1, 0, 0, 0, 1,\n",
    "    0, 0, 0, 0, 0,\n",
    "    0, 0, 0, 0, 0,\n",
    "    0, 0, 0, 0, 0,\n",
    "])\n",
    "draw_bin_image(half_zero.reshape((6, 5)))\n",
    "\n",
    "\n",
    "\n",
    "\n",
    "\n",
    "\n",
    "\n",
    "half_two = np.matrix([\n",
    "    0, 0, 0, 0, 0,\n",
    "    0, 0, 0, 0, 0,\n",
    "    0, 0, 0, 0, 0,\n",
    "    0, 1, 1, 0, 0,\n",
    "    1, 0, 0, 0, 0,\n",
    "    1, 1, 1, 1, 1,\n",
    "])\n",
    "draw_bin_image(half_two.reshape((6, 5)))\n"
   ]
  },
  {
   "cell_type": "code",
   "execution_count": 6,
   "metadata": {},
   "outputs": [
    {
     "name": "stdout",
     "output_type": "stream",
     "text": [
      "|   * * *  \n",
      "| *       *\n",
      "| *       *\n",
      "| *       *\n",
      "| *       *\n",
      "|   * * *  \n",
      "| * * *    \n",
      "|       *  \n",
      "|       *  \n",
      "|   * *    \n",
      "| *        \n",
      "| * * * * *\n"
     ]
    }
   ],
   "source": [
    "result = dhnet.predict(half_zero)\n",
    "draw_bin_image(result.reshape((6, 5)))\n",
    "\n",
    "\n",
    "\n",
    "\n",
    "\n",
    "\n",
    "\n",
    "result = dhnet.predict(half_two)\n",
    "draw_bin_image(result.reshape((6, 5)))\n",
    "\n"
   ]
  },
  {
   "cell_type": "code",
   "execution_count": 7,
   "metadata": {},
   "outputs": [
    {
     "name": "stdout",
     "output_type": "stream",
     "text": [
      "|   * *    \n",
      "|     *    \n",
      "|     *    \n",
      "|   * *    \n",
      "| *   *    \n",
      "| * * * * *\n"
     ]
    }
   ],
   "source": [
    "half_two = np.matrix([\n",
    "    1, 1, 1, 0, 0,\n",
    "    0, 0, 0, 1, 0,\n",
    "    0, 0, 0, 1, 0,\n",
    "    0, 0, 0, 0, 0,\n",
    "    0, 0, 0, 0, 0,\n",
    "    0, 0, 0, 0, 0,\n",
    "])\n",
    "\n",
    "result = dhnet.predict(half_two)\n",
    "draw_bin_image(result.reshape((6, 5)))\n",
    "\n"
   ]
  },
  {
   "cell_type": "code",
   "execution_count": 8,
   "metadata": {},
   "outputs": [
    {
     "name": "stdout",
     "output_type": "stream",
     "text": [
      "|   * *    \n",
      "|     *    \n",
      "|     *    \n",
      "|     *    \n",
      "|     *    \n",
      "|     *    \n",
      "| * * *    \n",
      "|       *  \n",
      "|       *  \n",
      "|   * *    \n",
      "| *        \n",
      "| * * * *  \n"
     ]
    }
   ],
   "source": [
    "from neupy import environment\n",
    "environment.reproducible()\n",
    "\n",
    "dhnet.mode = 'async'\n",
    "dhnet.n_times = 400\n",
    "\n",
    "result = dhnet.predict(half_two)\n",
    "draw_bin_image(result.reshape((6, 5)))\n",
    "\n",
    "\n",
    "\n",
    "\n",
    "\n",
    "\n",
    "result = dhnet.predict(half_two)\n",
    "draw_bin_image(result.reshape((6, 5)))"
   ]
  },
  {
   "cell_type": "code",
   "execution_count": 9,
   "metadata": {},
   "outputs": [],
   "source": [
    "A = \"\"\"\n",
    ".XXX.\n",
    "X...X\n",
    "XXXXX\n",
    "X...X\n",
    "X...X\n",
    "\"\"\"\n",
    "\n",
    "Z = \"\"\"\n",
    "XXXXX\n",
    "...X.\n",
    "..X..\n",
    ".X...\n",
    "XXXXX\n",
    "\"\"\""
   ]
  },
  {
   "cell_type": "code",
   "execution_count": 10,
   "metadata": {},
   "outputs": [],
   "source": [
    "def to_pattern(letter):\n",
    "    from numpy import array\n",
    "    return array([+1 if c=='X' else -1 for c in letter.replace('\\n','')])"
   ]
  },
  {
   "cell_type": "code",
   "execution_count": 11,
   "metadata": {},
   "outputs": [],
   "source": [
    "def display(pattern):\n",
    "    from pylab import imshow, cm, show\n",
    "    imshow(pattern.reshape((5,5)),cmap=cm.binary, interpolation='nearest')\n",
    "    show()"
   ]
  },
  {
   "cell_type": "code",
   "execution_count": 13,
   "metadata": {},
   "outputs": [],
   "source": [
    "patterns = np.array([to_pattern(A), to_pattern(Z)])\n",
    "\n",
    "  \n",
    "def train(patterns):\n",
    "    from numpy import zeros, outer, diag_indices \n",
    "    r,c = patterns.shape\n",
    "    W = zeros((c,c))\n",
    "    for p in patterns:\n",
    "        W = W + outer(p,p)\n",
    "    W[diag_indices(c)] = 0\n",
    "    return W/r"
   ]
  },
  {
   "cell_type": "code",
   "execution_count": 14,
   "metadata": {},
   "outputs": [],
   "source": [
    "def recall(W, patterns, steps=5):\n",
    "    from numpy import vectorize, dot\n",
    "    sgn = vectorize(lambda x: -1 if x<0 else +1)\n",
    "    for _ in xrange(steps):        \n",
    "        patterns = sgn(dot(patterns,W))\n",
    "    return patterns"
   ]
  },
  {
   "cell_type": "code",
   "execution_count": 15,
   "metadata": {},
   "outputs": [],
   "source": [
    "def hopfield_energy(W, patterns):\n",
    "    from numpy import array, dot\n",
    "    return array([-0.5*dot(dot(p.T,W),p) for p in patterns])\n"
   ]
  },
  {
   "cell_type": "code",
   "execution_count": 18,
   "metadata": {},
   "outputs": [],
   "source": [
    "def create_memory(size):\n",
    "    return [np.random.randint(2,size=size) for i in range(size)]\n",
    "\n",
    "def capacity(size):\n",
    "    counter = 0\n",
    "    memory = create_memory(size)\n",
    "    W= np.zeros((size,size))\n",
    "    train(patterns)\n",
    "    recall(W,memory)\n",
    "    if recall ==1;\n",
    "        counter +=1\n",
    "    return counter/size\n",
    "    \n",
    "\n",
    "def increase_capacity():\n",
    "    size = 1\n",
    "    cap= capacity(size)\n",
    "    while np.all(cap == 1) and size < 80:\n",
    "        size += 1\n",
    "        cap = capacity(size)\n",
    "    return size\n",
    "\n",
    "#increase_capacity()"
   ]
  },
  {
   "cell_type": "code",
   "execution_count": 27,
   "metadata": {},
   "outputs": [
    {
     "data": {
      "text/plain": [
       "[array([0, 0, 0, 0, 0]),\n",
       " array([0, 0, 0, 1, 0]),\n",
       " array([1, 0, 1, 0, 0]),\n",
       " array([0, 1, 0, 1, 1]),\n",
       " array([0, 0, 0, 1, 0])]"
      ]
     },
     "execution_count": 27,
     "metadata": {},
     "output_type": "execute_result"
    }
   ],
   "source": [
    "size =5\n",
    "[np.random.randint(2,size=size) for i in range(size)]"
   ]
  },
  {
   "cell_type": "markdown",
   "metadata": {},
   "source": [
    "Write a function to determine the capacity for a Hopfield network of a given size. This function should have a size parameter, and then initialize an empty Hopfield network. It must then store a random memory and test whether the network is able to recall the correct memory if given a pattern corrupted by a single bit. The function must then return the largest number of memories that were stored and successfully recalled."
   ]
  },
  {
   "cell_type": "code",
   "execution_count": null,
   "metadata": {},
   "outputs": [],
   "source": [
    "def capacity(size):\n",
    "    empty = np.zeros(size, size)\n",
    "    "
   ]
  }
 ],
 "metadata": {
  "kernelspec": {
   "display_name": "Python 3",
   "language": "python",
   "name": "python3"
  },
  "language_info": {
   "codemirror_mode": {
    "name": "ipython",
    "version": 3
   },
   "file_extension": ".py",
   "mimetype": "text/x-python",
   "name": "python",
   "nbconvert_exporter": "python",
   "pygments_lexer": "ipython3",
   "version": "3.6.5"
  }
 },
 "nbformat": 4,
 "nbformat_minor": 2
}
