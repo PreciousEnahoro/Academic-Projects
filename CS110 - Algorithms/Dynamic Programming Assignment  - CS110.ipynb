{
 "cells": [
  {
   "cell_type": "code",
   "execution_count": 4,
   "metadata": {},
   "outputs": [
    {
     "name": "stdout",
     "output_type": "stream",
     "text": [
      "ADH\n",
      "([[0, 0, 0, 0, 0, 0, 0], [0, 1, 1, 1, 1, 1, 1], [0, 1, 1, 1, 1, 1, 1], [0, 1, 1, 1, 1, 1, 1], [0, 1, 1, 2, 2, 2, 2], [0, 1, 1, 2, 2, 2, 2], [0, 1, 1, 2, 2, 3, 3]], 3)\n"
     ]
    }
   ],
   "source": [
    "def calculate_lcs_length(a,b):\n",
    "    a_len = len(a)\n",
    "    b_len = len(b)\n",
    "    dp = []\n",
    "    for i in range(a_len + 1):\n",
    "        dp.append([0 for j in range(b_len + 1)])\n",
    "    for i in range(1, a_len + 1):\n",
    "        for j in range(1, b_len + 1):\n",
    "            if a[i - 1] == b[j - 1]:\n",
    "                dp[i][j] = dp[i - 1][j - 1] + 1\n",
    "            else:\n",
    "                dp[i][j] = max(dp[i-1][j], dp[i][j - 1])\n",
    "    max_length = dp[a_len][b_len]\n",
    "    return dp, max_length\n",
    "\n",
    "def get_path(a, b, dp, i, j):\n",
    "    if i == 0 or j == 0:\n",
    "        return \"\"\n",
    "    if a[i-1] == b[j-1]:\n",
    "        return get_path(a, b, dp, i-1, j-1) + a[i-1]\n",
    "    else:\n",
    "        if dp[i-1][j] > dp[i][j-1]:\n",
    "            return get_path(a, b, dp, i-1, j)\n",
    "        else:\n",
    "            return get_path(a, b, dp, i, j-1)\n",
    "\n",
    "if __name__ == \"__main__\":\n",
    "    a = \"ABCDGH\"\n",
    "    b = \"AEDFHR\"\n",
    "    dp, max_length = calculate_lcs_length(a,b)\n",
    "    lcs_str = get_path(a, b, dp, len(a), len(b))\n",
    "    print(lcs_str)\n",
    "    print (dp, max_length)"
   ]
  },
  {
   "cell_type": "code",
   "execution_count": 5,
   "metadata": {},
   "outputs": [
    {
     "name": "stdout",
     "output_type": "stream",
     "text": [
      "LCS of AGGTAB and GXTXAYB is GTAB\u0000\n"
     ]
    }
   ],
   "source": [
    "# Dynamic programming implementation of LCS problem\n",
    " \n",
    "# Returns length of LCS for X[0..m-1], Y[0..n-1] \n",
    "def lcs(X, Y, m, n):\n",
    "    L = [[0 for x in xrange(n+1)] for x in xrange(m+1)]\n",
    " \n",
    "    # Following steps build L[m+1][n+1] in bottom up fashion. Note\n",
    "    # that L[i][j] contains length of LCS of X[0..i-1] and Y[0..j-1] \n",
    "    for i in xrange(m+1):\n",
    "        for j in xrange(n+1):\n",
    "            if i == 0 or j == 0:\n",
    "                L[i][j] = 0\n",
    "            elif X[i-1] == Y[j-1]:\n",
    "                L[i][j] = L[i-1][j-1] + 1\n",
    "            else:\n",
    "                L[i][j] = max(L[i-1][j], L[i][j-1])\n",
    " \n",
    "    # Following code is used to print LCS\n",
    "    index = L[m][n]\n",
    " \n",
    "    # Create a character array to store the lcs string\n",
    "    lcs = [\"\"] * (index+1)\n",
    "    lcs[index] = \"\\0\"\n",
    " \n",
    "    # Start from the right-most-bottom-most corner and\n",
    "    # one by one store characters in lcs[]\n",
    "    i = m\n",
    "    j = n\n",
    "    while i > 0 and j > 0:\n",
    " \n",
    "        # If current character in X[] and Y are same, then\n",
    "        # current character is part of LCS\n",
    "        if X[i-1] == Y[j-1]:\n",
    "            lcs[index-1] = X[i-1]\n",
    "            i-=1\n",
    "            j-=1\n",
    "            index-=1\n",
    " \n",
    "        # If not same, then find the larger of two and\n",
    "        # go in the direction of larger value\n",
    "        elif L[i-1][j] > L[i][j-1]:\n",
    "            i-=1\n",
    "        else:\n",
    "            j-=1\n",
    " \n",
    "    print \"LCS of \" + X + \" and \" + Y + \" is \" + \"\".join(lcs) \n",
    " \n",
    "# Driver program\n",
    "X = \"AGGTAB\"\n",
    "Y = \"GXTXAYB\"\n",
    "m = len(X)\n",
    "n = len(Y)\n",
    "lcs(X, Y, m, n)"
   ]
  },
  {
   "cell_type": "code",
   "execution_count": 53,
   "metadata": {},
   "outputs": [
    {
     "name": "stdout",
     "output_type": "stream",
     "text": [
      "Length of LCS is  4\n"
     ]
    }
   ],
   "source": [
    "# Dynamic Programming implementation of LCS problem\n",
    " \n",
    "def lcs(X , Y):\n",
    "    # Let the strings be X and Y\n",
    "    # Find the length of the strings\n",
    "    m = len(X)\n",
    "    n = len(Y)\n",
    " \n",
    "    # This creates the array for storing the dynamic programming values\n",
    "    L = [[None]*(n+1) for i in xrange(m+1)]\n",
    " \n",
    "    # L[i][j] contains length of LCS of X[0..i-1]and Y[0..j-1]\n",
    "    \n",
    "    for i in range(m+1):\n",
    "        for j in range(n+1):\n",
    "            if i == 0 or j == 0 :\n",
    "                L[i][j] = 0\n",
    "            elif X[i-1] == Y[j-1]:\n",
    "                L[i][j] = L[i-1][j-1]+1\n",
    "            else:\n",
    "                L[i][j] = max(L[i-1][j] , L[i][j-1])\n",
    " \n",
    "    # L[m][n] contains the length of LCS of X[0..n-1] & Y[0..m-1]\n",
    "    return L[m][n]\n",
    "\n",
    " \n",
    " \n",
    "# Driver program to test the above function\n",
    "X = \"AGGTAB\"\n",
    "Y = \"GXTXAYB\"\n",
    "print \"Length of LCS is \", lcs(X, Y)"
   ]
  },
  {
   "cell_type": "code",
   "execution_count": 8,
   "metadata": {},
   "outputs": [],
   "source": [
    "#I changed the ordering of the genes from numerical to alphabetical\n",
    "\n",
    "A='TTCTACGGGGGGAGACCTTTACGAATCACACCGGTCTTCTTTGTTCTAGCCGCTCTTTTTCATCAGTTGCAGCTAGTGCATAATTGCTCACAAACGTATC'\n",
    "B='TCTACGGGGGGCGTCATTACGGAATCCACACAGGTCGTTATGTTCATCTGTCTCTTTTCACAGTTGCGGCTTGTGCATAATGCTCACGAACGTATC' \n",
    "C='TCTACGGGGGGCGTCTATTACGTCGCCAACAGGTCGTATGTTCATTGTCATCATTTTCATAGTTGCGGCCTGTGCGTGCTTACGAACGTATTCC' \n",
    "D='TCCTAACGGGTAGTGTCATACGGAATCGACACGAGGTCGTATCTTCAATTGTCTCTTCACAGTTGCGGCTGTCCATAAACGCGTCCCGAACGTTATG'\n",
    "E='TATCAGTAGGGCATACTTGTACGACATTCCCCGGATAGCCACTTTTTTCCTACCCGTCTCTTTTTCTGACCCGTTCCAGCTGATAAGTCTGATGACTC'\n",
    "F='TAATCTATAGCATACTTTACGAACTACCCCGGTCCACGTTTTTCCTCGTCTTCTTTCGCTCGATAGCCATGGTAACTTCTACAAAGTTC' \n",
    "G='TATCATAGGGCATACTTTTACGAACTCCCCGGTGCACTTTTTTCCTACCGCTCTTTTTCGACTCGTTGCAGCCATGATAACTGCTACAAACTTC'"
   ]
  },
  {
   "cell_type": "code",
   "execution_count": 54,
   "metadata": {},
   "outputs": [
    {
     "name": "stdout",
     "output_type": "stream",
     "text": [
      "Length of LCS is  100\n",
      "Length of LCS is  82\n",
      "Length of LCS is  73\n",
      "Length of LCS is  72\n",
      "Length of LCS is  72\n",
      "Length of LCS is  70\n",
      "Length of LCS is  80\n",
      "Length of LCS is  96\n",
      "Length of LCS is  83\n",
      "Length of LCS is  81\n",
      "Length of LCS is  67\n",
      "Length of LCS is  65\n",
      "Length of LCS is  70\n",
      "Length of LCS is  94\n",
      "Length of LCS is  73\n",
      "Length of LCS is  62\n",
      "Length of LCS is  61\n",
      "Length of LCS is  67\n",
      "Length of LCS is  97\n",
      "Length of LCS is  62\n",
      "Length of LCS is  60\n",
      "Length of LCS is  63\n",
      "Length of LCS is  98\n",
      "Length of LCS is  71\n",
      "Length of LCS is  82\n",
      "Length of LCS is  89\n",
      "Length of LCS is  79\n",
      "Length of LCS is  94\n"
     ]
    }
   ],
   "source": [
    "#I used this to get the calculations of the LCS between all the gene strings, and put it in a table.\n",
    "\n",
    "print \"Length of LCS is \", lcs(A, A)\n",
    "print \"Length of LCS is \", lcs(A, B)\n",
    "print \"Length of LCS is \", lcs(A, C)\n",
    "print \"Length of LCS is \", lcs(A, D)\n",
    "print \"Length of LCS is \", lcs(A, E)\n",
    "print \"Length of LCS is \", lcs(A, F)\n",
    "print \"Length of LCS is \", lcs(A, G)\n",
    "print \"Length of LCS is \", lcs(B, B)\n",
    "print \"Length of LCS is \", lcs(B, C)\n",
    "print \"Length of LCS is \", lcs(B, D)\n",
    "print \"Length of LCS is \", lcs(B, E)\n",
    "print \"Length of LCS is \", lcs(B, F)\n",
    "print \"Length of LCS is \", lcs(B, G)\n",
    "print \"Length of LCS is \", lcs(C, C)\n",
    "print \"Length of LCS is \", lcs(C, D)\n",
    "print \"Length of LCS is \", lcs(C, E)\n",
    "print \"Length of LCS is \", lcs(C, F)\n",
    "print \"Length of LCS is \", lcs(C, G)\n",
    "print \"Length of LCS is \", lcs(D, D)\n",
    "print \"Length of LCS is \", lcs(D, E)\n",
    "print \"Length of LCS is \", lcs(D, F)\n",
    "print \"Length of LCS is \", lcs(D, G)\n",
    "print \"Length of LCS is \", lcs(E, E)\n",
    "print \"Length of LCS is \", lcs(E, F)\n",
    "print \"Length of LCS is \", lcs(E, G)\n",
    "print \"Length of LCS is \", lcs(F, F)\n",
    "print \"Length of LCS is \", lcs(F, G)\n",
    "print \"Length of LCS is \", lcs(G, G)"
   ]
  },
  {
   "cell_type": "code",
   "execution_count": null,
   "metadata": {
    "collapsed": true
   },
   "outputs": [],
   "source": []
  }
 ],
 "metadata": {
  "anaconda-cloud": {},
  "kernelspec": {
   "display_name": "Python 3",
   "language": "python",
   "name": "python3"
  },
  "language_info": {
   "codemirror_mode": {
    "name": "ipython",
    "version": 3
   },
   "file_extension": ".py",
   "mimetype": "text/x-python",
   "name": "python",
   "nbconvert_exporter": "python",
   "pygments_lexer": "ipython3",
   "version": "3.6.5"
  }
 },
 "nbformat": 4,
 "nbformat_minor": 1
}
