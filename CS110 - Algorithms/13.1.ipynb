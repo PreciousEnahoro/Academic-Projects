{
 "cells": [
  {
   "cell_type": "code",
   "execution_count": 1,
   "metadata": {
    "collapsed": false
   },
   "outputs": [
    {
     "name": "stdout",
     "output_type": "stream",
     "text": [
      "baggage\n"
     ]
    }
   ],
   "source": [
    "import hashlib\n",
    "\n",
    "\n",
    "def which_problem(email, seminar, problems):\n",
    "    email = email.strip().lower()\n",
    "    assert \"@minerva.kgi.edu\" in email\n",
    "    seminar = seminar.strip().lower()\n",
    "    md5 = hashlib.md5(email + seminar).hexdigest()\n",
    "    ind = int(md5, 16) % len(problems)\n",
    "    return problems[ind]\n",
    "\n",
    "\n",
    "email = 'precious.enahoro@minerva.kgi.edu'\n",
    "print(which_problem(email, '12.1', ['directions', 'aquarium', 'baggage']))\n"
   ]
  },
  {
   "cell_type": "code",
   "execution_count": null,
   "metadata": {
    "collapsed": true
   },
   "outputs": [],
   "source": [
    "\n",
    "#  3. Solve your assigned problem.  Since the assignment is deterministic, you\n",
    "#     can also find out who else is working on the same problem.  Feel free to\n",
    "#     approach other students if you get stuck conceptually, but write your\n",
    "#     code by yourself.\n",
    "#  4. Now answer the following questions on your solution\n",
    "#     a) Define variables which will be useful in determining the computational\n",
    "#        complexity of your solution.\n",
    "#     b) How does it scale in terms of time (using your variables from a)?\n",
    "#     c) How does it scale in terms of space (using your variables from a)?\n",
    "#     d) Each problem has an example so that you can see how to structure your\n",
    "#        solution.  However the answers to the examples are wrong.  What is the\n",
    "#        actual answer for your example documentation?"
   ]
  },
  {
   "cell_type": "code",
   "execution_count": 3,
   "metadata": {
    "collapsed": false
   },
   "outputs": [
    {
     "ename": "SyntaxError",
     "evalue": "invalid syntax (<ipython-input-3-6b62f5c1d296>, line 12)",
     "output_type": "error",
     "traceback": [
      "\u001b[0;36m  File \u001b[0;32m\"<ipython-input-3-6b62f5c1d296>\"\u001b[0;36m, line \u001b[0;32m12\u001b[0m\n\u001b[0;31m    >>> weights = {'glasses': 1.0,'plates': 0.7, 'coffee': 1.1,'keyboard': 1.1,\u001b[0m\n\u001b[0m     ^\u001b[0m\n\u001b[0;31mSyntaxError\u001b[0m\u001b[0;31m:\u001b[0m invalid syntax\n"
     ]
    }
   ],
   "source": [
    "# Baggage:\n",
    "# -----------\n",
    "\n",
    "# Next semester you need to move to a new country.  You have lots of useful things\n",
    "# that you'd like to take with you, but your baggage allowance for the flight is\n",
    "# very small.  The airline does allow you to pay extra for each bag that you want\n",
    "# to take.  Anything that you don't pack you will need to buy in the new country.\n",
    "\n",
    "# You need to decide how many extra bags to take, and what you should pack in\n",
    "# those bags.\n",
    "\n",
    ">>> weights = {'glasses': 1.0,'plates': 0.7, 'coffee': 1.1,'keyboard': 1.1,\n",
    "               'pens': 2.1, 'socks': 0.5, 'undies': 0.3, 'laptop': 2.1,\n",
    "               'jersey': 0.5, 'shoes': 0.7, 'jeans': 1.1}\n",
    ">>> values = {'glasses': 0.1,'plates': 0.1, 'coffee': 0.1,'keyboard': 0.1,\n",
    "              'pens': 1.1, 'socks': 3.1, 'undies': 3.1, 'laptop': 10.1,\n",
    "              'jersey': 2.1, 'shoes': 2.1, 'jeans': 2.1}\n",
    ">>> baggage_limit = 3\n",
    ">>> extra_cost = 10\n",
    ">>> print(baggage(weights, values, baggage_limit, extra_cost))\n",
    "[['socks', 'undies', 'laptop'], ['jersey', 'shoes', 'jeans']]\n",
    "\n"
   ]
  },
  {
   "cell_type": "code",
   "execution_count": null,
   "metadata": {
    "collapsed": true
   },
   "outputs": [],
   "source": []
  }
 ],
 "metadata": {
  "anaconda-cloud": {},
  "kernelspec": {
   "display_name": "Python [Root]",
   "language": "python",
   "name": "Python [Root]"
  },
  "language_info": {
   "codemirror_mode": {
    "name": "ipython",
    "version": 2
   },
   "file_extension": ".py",
   "mimetype": "text/x-python",
   "name": "python",
   "nbconvert_exporter": "python",
   "pygments_lexer": "ipython2",
   "version": "2.7.12"
  }
 },
 "nbformat": 4,
 "nbformat_minor": 0
}
