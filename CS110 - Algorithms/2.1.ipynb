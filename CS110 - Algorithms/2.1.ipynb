{
 "cells": [
  {
   "cell_type": "code",
   "execution_count": 30,
   "metadata": {
    "collapsed": false
   },
   "outputs": [
    {
     "name": "stdout",
     "output_type": "stream",
     "text": [
      "Merge sort run time is: 6.19888305664e-06 seconds.\n",
      "Merge sort run time is: 5.96046447754e-06 seconds.\n",
      "Merge sort run time is: 9.89437103271e-05 seconds.\n",
      "Merge sort run time is: 5.00679016113e-06 seconds.\n",
      "Merge sort run time is: 6.19888305664e-06 seconds.\n",
      "Merge sort run time is: 0.000123977661133 seconds.\n",
      "Merge sort run time is: 0.000402927398682 seconds.\n",
      "[3, 9, 26, 38, 41, 49, 52, 57]\n"
     ]
    }
   ],
   "source": [
    "import time\n",
    "def mergeSort(alist):\n",
    "    #print(\"Splitting \",alist)\n",
    "    start = time.time()\n",
    "    if len(alist)>1:\n",
    "        mid = len(alist)//2\n",
    "        lefthalf = alist[:mid]\n",
    "        righthalf = alist[mid:]\n",
    "\n",
    "        mergeSort(lefthalf)\n",
    "        mergeSort(righthalf)\n",
    "\n",
    "        i=0\n",
    "        j=0\n",
    "        k=0\n",
    "        while i < len(lefthalf) and j < len(righthalf):\n",
    "            if lefthalf[i] < righthalf[j]:\n",
    "                alist[k]=lefthalf[i]\n",
    "                i=i+1\n",
    "            else:\n",
    "                alist[k]=righthalf[j]\n",
    "                j=j+1\n",
    "            k=k+1\n",
    "\n",
    "        while i < len(lefthalf):\n",
    "            alist[k]=lefthalf[i]\n",
    "            i=i+1\n",
    "            k=k+1\n",
    "\n",
    "        while j < len(righthalf):\n",
    "            alist[k]=righthalf[j]\n",
    "            j=j+1\n",
    "            k=k+1\n",
    "    #print(\"Merging \",alist)\n",
    "        end = time.time()\n",
    "        print \"Merge sort run time is: \" + str(end - start) + \" seconds.\"\n",
    "\n",
    "    \n",
    "alist = [3,41,52,26,38,57,9,49]\n",
    "mergeSort(alist)\n",
    "print(alist)\n"
   ]
  },
  {
   "cell_type": "code",
   "execution_count": null,
   "metadata": {
    "collapsed": true
   },
   "outputs": [],
   "source": [
    "def Insert(list):\n",
    "    for j in xrange(1,len(list)):\n",
    "        key = list[j]\n",
    "        i = j - 1\n",
    "        while i > -1 and list[i]>key:\n",
    "            list[i+1] = list[i]\n",
    "            i = i - 1\n",
    "        list[i+1] = key\n",
    "    return list"
   ]
  },
  {
   "cell_type": "code",
   "execution_count": 1,
   "metadata": {
    "collapsed": false
   },
   "outputs": [],
   "source": [
    "def Merge(M,p,q,r):\n",
    "    a = q-p+1\n",
    "    b = r-q\n",
    "    \n",
    "    A = [range(0, a+1)]\n",
    "    B = [range(0, b+1)]\n",
    "        \n",
    "    A[a+1]= float(\"inf\")\n",
    "    B[b+1]= float(\"inf\")\n",
    "    \n",
    "    for i in range(0, a):\n",
    "        A[i] = M[p + i-1]\n",
    "    for j in range(0, b):\n",
    "        B[i] = M[q+j]\n",
    "        \n",
    "        \n",
    "    i=1\n",
    "    j=1\n",
    "    k=1\n",
    "    \n",
    "    for k in range(p,r):\n",
    "        if A[i]<= B[j]:\n",
    "            M[k] = A[i]\n",
    "            i = i+1\n",
    "        else: \n",
    "            M[k] = B[j]\n",
    "            j = j+1\n",
    "            "
   ]
  },
  {
   "cell_type": "code",
   "execution_count": 10,
   "metadata": {
    "collapsed": false
   },
   "outputs": [
    {
     "name": "stdout",
     "output_type": "stream",
     "text": [
      "[3, 9, 1, 5, 2, 56, 23, 4]\n",
      "Left list is [3] and Right list is [9]\n",
      "[3, 9, 1, 5, 2, 56, 23, 4]\n",
      "Left list is [1] and Right list is [5]\n",
      "[3, 9, 1, 5, 2, 56, 23, 4]\n",
      "Left list is [3, 9] and Right list is [1, 5]\n",
      "[1, 3, 5, 9, 2, 56, 23, 4]\n",
      "Left list is [2] and Right list is [56]\n",
      "[1, 3, 5, 9, 2, 56, 23, 4]\n",
      "Left list is [23] and Right list is [4]\n",
      "[1, 3, 5, 9, 2, 56, 4, 23]\n",
      "Left list is [2, 56] and Right list is [4, 23]\n",
      "[1, 3, 5, 9, 2, 4, 23, 56]\n",
      "Left list is [1, 3, 5, 9] and Right list is [2, 4, 23, 56]\n",
      "[1, 2, 3, 4, 5, 9, 23, 56]\n"
     ]
    },
    {
     "data": {
      "text/plain": [
       "[1, 2, 3, 4, 5, 9, 23, 56]"
      ]
     },
     "execution_count": 10,
     "metadata": {},
     "output_type": "execute_result"
    }
   ],
   "source": [
    "def Merge(M,p,q,r):\n",
    "    a = q-p+1\n",
    "    b = r-q\n",
    "    \n",
    "    A = []\n",
    "    B = []\n",
    "    \n",
    "    for i in range(0,a):\n",
    "        A.append(M[p+i])     \n",
    "    for j in range(0,b):\n",
    "        B.append(M[q+j+1])\n",
    "    print \"Left list is\",A ,\"and Right list is\",B\n",
    "    \n",
    "    A.append(float('inf'))\n",
    "    B.append (float('inf')) \n",
    "        \n",
    "    i=0\n",
    "    j=0\n",
    "    \n",
    "    for k in range(p,r+1):\n",
    "        if A[i]<= B[j]:\n",
    "            M[k] = A[i]\n",
    "            i = i+1\n",
    "        else: \n",
    "            M[k] = B[j]\n",
    "            j = j+1\n",
    "            \n",
    "def Mergesort(M, p, r):\n",
    "    if p < r:\n",
    "        q = (p+r)/2\n",
    "\n",
    "        Mergesort(M,p,q)\n",
    "        Mergesort(M,q+1,r)\n",
    "        \n",
    "        Merge(M,p,q,r)\n",
    "        print M\n",
    "    return M\n",
    "\n",
    "hey = [3,9,1,5,2,56,23,4]\n",
    "print hey\n",
    "Mergesort(hey, 0, 7)\n"
   ]
  },
  {
   "cell_type": "code",
   "execution_count": 6,
   "metadata": {
    "collapsed": false
   },
   "outputs": [],
   "source": [
    "import time\n",
    "\n",
    "def Mergesort(M, p, r):\n",
    "    start = time.time()\n",
    "    if p < r:\n",
    "        q = (p+r)/2\n",
    "\n",
    "        Mergesort(M,p,q)\n",
    "        Mergesort(M,q+1,r)\n",
    "        \n",
    "        a = q-p+1\n",
    "        b = r-q\n",
    "\n",
    "        A = [1, float(\"inf\")]\n",
    "        B = [1, float(\"inf\")]\n",
    "\n",
    "        #A[a+1]= float(\"inf\")\n",
    "        #B[b+1]= float(\"inf\")\n",
    "\n",
    "        for i in range(0, a):\n",
    "            A[i] = M[p + i]\n",
    "        for j in range(0, b):\n",
    "            B[i] = M[q+j+1]\n",
    "        i=0\n",
    "        j=0\n",
    "\n",
    "        for k in range(p, r+1):\n",
    "            if i <= j:\n",
    "                M[k] = A[i]\n",
    "                i = i+1\n",
    "            else: \n",
    "                M[k] = B[j]\n",
    "                j = j+1\n",
    "        end = time.time()\n",
    "        print \"Merge sort run time is: \" + str(end - start) + \" seconds\""
   ]
  },
  {
   "cell_type": "code",
   "execution_count": 7,
   "metadata": {
    "collapsed": false
   },
   "outputs": [
    {
     "name": "stdout",
     "output_type": "stream",
     "text": [
      "Merge sort run time is: 1.00135803223e-05 seconds\n",
      "Merge sort run time is: 1.31130218506e-05 seconds\n",
      "Merge sort run time is: 0.00025486946106 seconds\n",
      "Merge sort run time is: 8.10623168945e-06 seconds\n",
      "Merge sort run time is: 6.91413879395e-06 seconds\n",
      "Merge sort run time is: 5.41210174561e-05 seconds\n"
     ]
    },
    {
     "ename": "IndexError",
     "evalue": "list assignment index out of range",
     "output_type": "error",
     "traceback": [
      "\u001b[0;31m---------------------------------------------------------------------------\u001b[0m",
      "\u001b[0;31mIndexError\u001b[0m                                Traceback (most recent call last)",
      "\u001b[0;32m<ipython-input-7-1fdce9273f33>\u001b[0m in \u001b[0;36m<module>\u001b[0;34m()\u001b[0m\n\u001b[1;32m      1\u001b[0m \u001b[0mM\u001b[0m \u001b[0;34m=\u001b[0m \u001b[0;34m[\u001b[0m\u001b[0;36m3\u001b[0m\u001b[0;34m,\u001b[0m\u001b[0;36m41\u001b[0m\u001b[0;34m,\u001b[0m\u001b[0;36m52\u001b[0m\u001b[0;34m,\u001b[0m\u001b[0;36m26\u001b[0m\u001b[0;34m,\u001b[0m\u001b[0;36m38\u001b[0m\u001b[0;34m,\u001b[0m\u001b[0;36m57\u001b[0m\u001b[0;34m,\u001b[0m\u001b[0;36m9\u001b[0m\u001b[0;34m,\u001b[0m\u001b[0;36m49\u001b[0m\u001b[0;34m]\u001b[0m\u001b[0;34m\u001b[0m\u001b[0m\n\u001b[0;32m----> 2\u001b[0;31m \u001b[0mMergesort\u001b[0m\u001b[0;34m(\u001b[0m\u001b[0mM\u001b[0m\u001b[0;34m,\u001b[0m \u001b[0;36m0\u001b[0m\u001b[0;34m,\u001b[0m \u001b[0;36m7\u001b[0m\u001b[0;34m)\u001b[0m\u001b[0;34m\u001b[0m\u001b[0m\n\u001b[0m",
      "\u001b[0;32m<ipython-input-6-4b86a653c078>\u001b[0m in \u001b[0;36mMergesort\u001b[0;34m(M, p, r)\u001b[0m\n\u001b[1;32m     19\u001b[0m \u001b[0;34m\u001b[0m\u001b[0m\n\u001b[1;32m     20\u001b[0m         \u001b[0;32mfor\u001b[0m \u001b[0mi\u001b[0m \u001b[0;32min\u001b[0m \u001b[0mrange\u001b[0m\u001b[0;34m(\u001b[0m\u001b[0;36m0\u001b[0m\u001b[0;34m,\u001b[0m \u001b[0ma\u001b[0m\u001b[0;34m)\u001b[0m\u001b[0;34m:\u001b[0m\u001b[0;34m\u001b[0m\u001b[0m\n\u001b[0;32m---> 21\u001b[0;31m             \u001b[0mA\u001b[0m\u001b[0;34m[\u001b[0m\u001b[0mi\u001b[0m\u001b[0;34m]\u001b[0m \u001b[0;34m=\u001b[0m \u001b[0mM\u001b[0m\u001b[0;34m[\u001b[0m\u001b[0mp\u001b[0m \u001b[0;34m+\u001b[0m \u001b[0mi\u001b[0m\u001b[0;34m]\u001b[0m\u001b[0;34m\u001b[0m\u001b[0m\n\u001b[0m\u001b[1;32m     22\u001b[0m         \u001b[0;32mfor\u001b[0m \u001b[0mj\u001b[0m \u001b[0;32min\u001b[0m \u001b[0mrange\u001b[0m\u001b[0;34m(\u001b[0m\u001b[0;36m0\u001b[0m\u001b[0;34m,\u001b[0m \u001b[0mb\u001b[0m\u001b[0;34m)\u001b[0m\u001b[0;34m:\u001b[0m\u001b[0;34m\u001b[0m\u001b[0m\n\u001b[1;32m     23\u001b[0m             \u001b[0mB\u001b[0m\u001b[0;34m[\u001b[0m\u001b[0mi\u001b[0m\u001b[0;34m]\u001b[0m \u001b[0;34m=\u001b[0m \u001b[0mM\u001b[0m\u001b[0;34m[\u001b[0m\u001b[0mq\u001b[0m\u001b[0;34m+\u001b[0m\u001b[0mj\u001b[0m\u001b[0;34m+\u001b[0m\u001b[0;36m1\u001b[0m\u001b[0;34m]\u001b[0m\u001b[0;34m\u001b[0m\u001b[0m\n",
      "\u001b[0;31mIndexError\u001b[0m: list assignment index out of range"
     ]
    }
   ],
   "source": [
    "M = [3,41,52,26,38,57,9,49]\n",
    "Mergesort(M, 0, 7)"
   ]
  },
  {
   "cell_type": "code",
   "execution_count": 97,
   "metadata": {
    "collapsed": false
   },
   "outputs": [
    {
     "data": {
      "text/plain": [
       "inf"
      ]
     },
     "execution_count": 97,
     "metadata": {},
     "output_type": "execute_result"
    }
   ],
   "source": [
    "A=float(\"inf\")\n",
    "A"
   ]
  },
  {
   "cell_type": "code",
   "execution_count": null,
   "metadata": {
    "collapsed": true
   },
   "outputs": [],
   "source": []
  }
 ],
 "metadata": {
  "anaconda-cloud": {},
  "kernelspec": {
   "display_name": "Python [Root]",
   "language": "python",
   "name": "Python [Root]"
  },
  "language_info": {
   "codemirror_mode": {
    "name": "ipython",
    "version": 2
   },
   "file_extension": ".py",
   "mimetype": "text/x-python",
   "name": "python",
   "nbconvert_exporter": "python",
   "pygments_lexer": "ipython2",
   "version": "2.7.12"
  }
 },
 "nbformat": 4,
 "nbformat_minor": 0
}
