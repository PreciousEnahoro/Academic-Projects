{
 "cells": [
  {
   "cell_type": "code",
   "execution_count": 1,
   "metadata": {
    "collapsed": false
   },
   "outputs": [],
   "source": [
    "from sys import maxint\n",
    "def maxSubArraySum(a, size):\n",
    "    \n",
    "    max_so_far = -maxint - 1\n",
    "    max_ending_here = 0\n",
    "      \n",
    "    for i in range(0, len(a)):\n",
    "        max_ending_here = max_ending_here + a[i]\n",
    "        if (max_so_far < max_ending_here):\n",
    "            max_so_far = max_ending_here\n",
    " \n",
    "        if max_ending_here < 0:\n",
    "            max_ending_here = 0  \n",
    "    return max_so_far"
   ]
  },
  {
   "cell_type": "code",
   "execution_count": 6,
   "metadata": {
    "collapsed": false
   },
   "outputs": [],
   "source": [
    "x = [-2,-3,4,5,6,7,9]\n",
    "mx = maxSubArraySum(x[0:-1], (len(x)-1))"
   ]
  },
  {
   "cell_type": "code",
   "execution_count": 7,
   "metadata": {
    "collapsed": false
   },
   "outputs": [
    {
     "data": {
      "text/plain": [
       "(28, 37)"
      ]
     },
     "execution_count": 7,
     "metadata": {},
     "output_type": "execute_result"
    }
   ],
   "source": [
    "def incremental_max_subarray(x, mx):\n",
    "    finalsum = mx\n",
    "    if mx > maxSubArraySum(x, len(x)):\n",
    "        finalsum = mx\n",
    "    else:\n",
    "        finalsum = maxSubArraySum(x, len(x))  \n",
    "    return mx,finalsum\n",
    "\n",
    "incremental_max_subarray(x, mx)"
   ]
  },
  {
   "cell_type": "code",
   "execution_count": 8,
   "metadata": {
    "collapsed": false
   },
   "outputs": [
    {
     "data": {
      "text/plain": [
       "9"
      ]
     },
     "execution_count": 8,
     "metadata": {},
     "output_type": "execute_result"
    }
   ],
   "source": [
    "def recursive_mx_subarray(A):\n",
    "    if len(A) == 0: #base case\n",
    "        return (0, 0)\n",
    "    (mx_subarray, mx_endarray) = recursive_mx_subarray(A[:-1])\n",
    "    mx_endarray = max(mx_endarray + A[-1], 0)\n",
    "    mx_subarray = max(mx_subarray, mx_endarray)\n",
    "    return mx_subarray, mx_endarray\n",
    "\n",
    "\n",
    "def mx_subarray(A):\n",
    "    (x,_) = recursive_mx_subarray(A)\n",
    "    return x\n",
    "    \n",
    "A = [7,1,-2,2,1,-3,-3,4]\n",
    "mx_subarray(A)\n"
   ]
  },
  {
   "cell_type": "code",
   "execution_count": null,
   "metadata": {
    "collapsed": true
   },
   "outputs": [],
   "source": []
  }
 ],
 "metadata": {
  "kernelspec": {
   "display_name": "Python [Root]",
   "language": "python",
   "name": "Python [Root]"
  },
  "language_info": {
   "codemirror_mode": {
    "name": "ipython",
    "version": 2
   },
   "file_extension": ".py",
   "mimetype": "text/x-python",
   "name": "python",
   "nbconvert_exporter": "python",
   "pygments_lexer": "ipython2",
   "version": "2.7.12"
  }
 },
 "nbformat": 4,
 "nbformat_minor": 0
}
