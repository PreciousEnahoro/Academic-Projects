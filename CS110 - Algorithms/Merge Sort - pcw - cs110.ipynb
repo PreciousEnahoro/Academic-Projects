{
 "cells": [
  {
   "cell_type": "code",
   "execution_count": 6,
   "metadata": {},
   "outputs": [],
   "source": [
    "def merge(left,middle, right):\n",
    "    t = len(left)+len(middle) + len(right)\n",
    "    result = []\n",
    "    i,j,k = 0,0,0\n",
    "    left.append(float(\"inf\"))\n",
    "    middle.append(float(\"inf\"))\n",
    "    right.append(float(\"inf\"))\n",
    "    while i < len(left) and j < len(middle) and k < len(right)and t-1>=len(result):\n",
    "        if (left[i] <= middle[j] and left[i] <= right[k]):\n",
    "            result.append(left[i])\n",
    "            i+=1\n",
    "        elif (middle[j] <= left[i]  and middle[j] <= right[k]):\n",
    "            result.append(middle[j])\n",
    "            j+=1\n",
    "        elif right[k]:\n",
    "            result.append(right[k])\n",
    "            k+=1\n",
    "    return result\n",
    "\n",
    "def mergesort(lst):\n",
    "    if len(lst) == 1:\n",
    "        return lst\n",
    "    if len(lst)== 2:\n",
    "        return sorted(lst)\n",
    "    else:\n",
    "        s = len(lst)//3\n",
    "        left = mergesort(lst[:s])\n",
    "        middle = mergesort(lst[s:(2*s)])\n",
    "        right = mergesort(lst[(2*s):])\n",
    "        return merge(left,middle, right)"
   ]
  },
  {
   "cell_type": "code",
   "execution_count": 7,
   "metadata": {},
   "outputs": [
    {
     "name": "stdout",
     "output_type": "stream",
     "text": [
      "Original list:  [16, 59, 77, 72, 24, 54, 38, 83, 42, 6]\n",
      "Sorted List:  [6, 16, 24, 38, 42, 54, 59, 72, 77, 83]\n",
      "Run time for 3-way Mergesort is: 0.000265836715698 seconds.\n"
     ]
    }
   ],
   "source": [
    "import time,random\n",
    "\n",
    "alist = [random.randint(1,100) for _ in range(10)]    \n",
    "print \"Original list: \",alist \n",
    "start = time.time()\n",
    "print \"Sorted List: \", mergesort(alist)\n",
    "end = time.time()\n",
    "print \"Run time for 3-way Mergesort is: \" + str(end - start) + \" seconds.\""
   ]
  },
  {
   "cell_type": "code",
   "execution_count": null,
   "metadata": {
    "collapsed": true
   },
   "outputs": [],
   "source": []
  }
 ],
 "metadata": {
  "kernelspec": {
   "display_name": "Python 3",
   "language": "python",
   "name": "python3"
  },
  "language_info": {
   "codemirror_mode": {
    "name": "ipython",
    "version": 3
   },
   "file_extension": ".py",
   "mimetype": "text/x-python",
   "name": "python",
   "nbconvert_exporter": "python",
   "pygments_lexer": "ipython3",
   "version": "3.6.5"
  }
 },
 "nbformat": 4,
 "nbformat_minor": 1
}
