{
 "cells": [
  {
   "cell_type": "code",
   "execution_count": 7,
   "metadata": {},
   "outputs": [],
   "source": [
    "def MaxHeapify(A,i):\n",
    "    l = 2*i + 1\n",
    "    r = l + 1\n",
    "    #largest = i\n",
    "    A_heapsize = len(A)\n",
    "    \n",
    "    if l <= A_heapsize and A[l] > A[i]:\n",
    "        largest = l\n",
    "    else:\n",
    "        largest = i   \n",
    "    if r <= A_heapsize and A[r] > A[largest]:\n",
    "        largest = r\n",
    "\n",
    "    if largest != i:\n",
    "        A[i], A[largest] = A[largest], A[i]\n",
    "        MaxHeapify(A, largest)"
   ]
  },
  {
   "cell_type": "code",
   "execution_count": 5,
   "metadata": {},
   "outputs": [
    {
     "name": "stdout",
     "output_type": "stream",
     "text": [
      "Sorted array is\n",
      "7 15 16 21 28 29 30 31 39 49 49 76 85 85 92\n"
     ]
    }
   ],
   "source": [
    "# Python program for implementation of heap Sort\n",
    " \n",
    "# To heapify subtree rooted at index i.\n",
    "# n is size of heap\n",
    "def heapify(arr, n, i):\n",
    "    largest = i  # Initialize largest as root\n",
    "    l = 2 * i + 1     # left = 2*i + 1\n",
    "    r = 2 * i + 2     # right = 2*i + 2\n",
    " \n",
    "    # See if left child of root exists and is\n",
    "    # greater than root\n",
    "    if l < n and arr[i] < arr[l]:\n",
    "        largest = l\n",
    " \n",
    "    # See if right child of root exists and is\n",
    "    # greater than root\n",
    "    if r < n and arr[largest] < arr[r]:\n",
    "        largest = r\n",
    " \n",
    "    # Change root, if needed\n",
    "    if largest != i:\n",
    "        arr[i],arr[largest] = arr[largest],arr[i]  # swap\n",
    " \n",
    "        # Heapify the root.\n",
    "        heapify(arr, n, largest)\n",
    " \n",
    "# The main function to sort an array of given size\n",
    "def heapSort(arr):\n",
    "    n = len(arr)\n",
    " \n",
    "    # Build a maxheap.\n",
    "    for i in range(n, -1, -1):\n",
    "        heapify(arr, n, i)\n",
    " \n",
    "    # One by one extract elements\n",
    "    for i in range(n-1, 0, -1):\n",
    "        arr[i], arr[0] = arr[0], arr[i]   # swap\n",
    "        heapify(arr, i, 0)\n",
    " \n",
    "# Driver code to test above\n",
    "arr = [39, 85, 85, 16, 49, 7, 49, 92, 76, 15, 21, 30, 29, 31, 28]\n",
    "\n",
    "heapSort(arr)\n",
    "n = len(arr)\n",
    "print (\"Sorted array is\")\n",
    "for i in range(n):\n",
    "    print (\"%d\" %arr[i]),"
   ]
  },
  {
   "cell_type": "code",
   "execution_count": 51,
   "metadata": {},
   "outputs": [],
   "source": [
    "def BuildMaxHeap(A):\n",
    "    A_heapsize = len(A) - 1\n",
    "    for i in range(len(A)/2,0):\n",
    "        MaxHeapify(A,i)"
   ]
  },
  {
   "cell_type": "code",
   "execution_count": 16,
   "metadata": {},
   "outputs": [
    {
     "data": {
      "text/plain": [
       "39"
      ]
     },
     "execution_count": 16,
     "metadata": {},
     "output_type": "execute_result"
    }
   ],
   "source": [
    "def heap_pop(alist):\n",
    "    if len(alist)<1:\n",
    "        raise ValueError('Empty Heap')\n",
    "    maximum = alist[0]\n",
    "    alist[0] = alist[len(alist)-1]\n",
    "    alist.pop(0)\n",
    "    MaxHeapify(alist,0)\n",
    "    return maximum\n",
    "\n",
    "b = [39, 85, 85, 16, 49, 7, 49, 92, 76, 15, 21, 30, 29, 31, 28]\n",
    "heap_pop(b)"
   ]
  },
  {
   "cell_type": "code",
   "execution_count": 27,
   "metadata": {},
   "outputs": [
    {
     "name": "stdout",
     "output_type": "stream",
     "text": [
      "None\n"
     ]
    }
   ],
   "source": [
    "def heap_pop(array):\n",
    "    if len(array)<1: #if list/ heap is empty\n",
    "        raise ValueError('Empty Heap')\n",
    "        \n",
    "    BuildMaxHeap(array) #Make array into a heap\n",
    "    to_be_popped = array[0] #pop off first element in list\n",
    "    del array[0] #remove it from list\n",
    "    BuildMaxHeaparray,max(array)) #the remaining heap after heappop is done\n",
    "    print b\n",
    "\n",
    "\n",
    "b = [39,85, 85, 16, 49, 7, 49, 92, 76, 15, 21, 30, 29, 31, 28]\n",
    "heap_pop(b)"
   ]
  },
  {
   "cell_type": "code",
   "execution_count": null,
   "metadata": {
    "collapsed": true
   },
   "outputs": [],
   "source": []
  }
 ],
 "metadata": {
  "anaconda-cloud": {},
  "kernelspec": {
   "display_name": "Python 3",
   "language": "python",
   "name": "python3"
  },
  "language_info": {
   "codemirror_mode": {
    "name": "ipython",
    "version": 3
   },
   "file_extension": ".py",
   "mimetype": "text/x-python",
   "name": "python",
   "nbconvert_exporter": "python",
   "pygments_lexer": "ipython3",
   "version": "3.6.5"
  }
 },
 "nbformat": 4,
 "nbformat_minor": 1
}
