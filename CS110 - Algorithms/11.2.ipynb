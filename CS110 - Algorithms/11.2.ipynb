{
 "cells": [
  {
   "cell_type": "markdown",
   "metadata": {},
   "source": [
    "Rod-cutting without dynamic programming\n",
    "\n",
    "Implement CUT-ROD(p, n) in python code (NB - not the dynamic programming version)\n",
    "\n",
    "Time the function for different values of n.\n",
    "\n",
    "Plot the results.\n",
    "\n",
    "Estimate how big n has to be before it will take a million years to finish. (Call this value: N, and use it in the next section)\n",
    "\n"
   ]
  },
  {
   "cell_type": "code",
   "execution_count": 40,
   "metadata": {
    "collapsed": false
   },
   "outputs": [
    {
     "data": {
      "text/plain": [
       "10"
      ]
     },
     "execution_count": 40,
     "metadata": {},
     "output_type": "execute_result"
    }
   ],
   "source": [
    "import math\n",
    "import numpy as np\n",
    "\n",
    "def cut_rod(p,n):\n",
    "    if n == 0:\n",
    "        return 0\n",
    "    q = -float('inf')\n",
    "    for i in range(1,n+1):\n",
    "        q = max(q,p[i] + cut_rod(p, n-i))\n",
    "    return q\n",
    "\n",
    "p = [0,1,5,8,9,10,17,17,20,24,30]\n",
    "#put 0 in the indexing\n",
    "\n",
    "cut_rod(p,4)"
   ]
  },
  {
   "cell_type": "code",
   "execution_count": null,
   "metadata": {
    "collapsed": true
   },
   "outputs": [],
   "source": [
    "#Memoized Fib\n",
    "#want it to check if fib for that number has already happened, if yes take the stored value\n",
    "\n",
    "def memoized_fib(n):\n",
    "    #if it's already been computed, take the stored value\n",
    "    #set up storage\n",
    "    r = [0 for x in range(n)]\n",
    "    for i in range(n):\n",
    "        r[i] = float('-inf')\n",
    "    return memoized_fib_aux(n,r)\n",
    "\n",
    "def memoized_fib_aux(n, r):\n",
    "    if r[n-1] >= 0:\n",
    "        return r[n-1]\n",
    "    if n <= 0:\n",
    "        return 0\n",
    "    if n == 1:\n",
    "        return 1\n",
    "    else:\n",
    "        q = float('-inf')\n",
    "        for i in range(n):\n",
    "            q = memoized_fib_aux(n-1, r) + memoized_fib_aux(n-2, r)\n",
    "            r[n-1] = q\n",
    "    return q\n",
    "In [ ]:\n",
    "\n",
    "#Bottom-up Fib\n",
    "#would sort the problems from smallest to largest, solve smallest first and store the values\n",
    "​\n",
    "def bottom_up_fib(n):\n",
    "    if n == 0:\n",
    "        return 0\n",
    "    if n == 1:\n",
    "        return 1\n",
    "    r = [0 for x in range(n)]\n",
    "    r[0] = 0\n",
    "    r[1] = 1\n",
    "    for j in range(2, n):\n",
    "        r[j] = r[j-2] + r[j-1]\n",
    "    return r[n-1]\n",
    "In [ ]:\n",
    "##dynamic programming cut rod\n",
    "\n",
    "In [5]:\n",
    "\n",
    "def extended_bottom_up_cut_rod(p,n):\n",
    "    r = [0 for x in range(n)]\n",
    "    s = [0 for x in range(n)]\n",
    "    r[0] = 0\n",
    "    for j in range(n):\n",
    "        q = float('-inf')\n",
    "        for i in range(j): # consider taking a cut of length i\n",
    "            if q < p[i] + r[j-1]: # if this cut has a better max value\n",
    "                q = p[i] + r[j-1] # replace the max value stored in q\n",
    "                s[j] = i # and also change the saved length of cut taken at this value of j\n",
    "        r[j]= q\n",
    "    return r, s\n",
    "14 minutes ago\n",
    "0.009 seconds\n",
    "In [6]:\n",
    "\n",
    "def print_cut_rod_solution(p,n):\n",
    "    (r,s) = extended_bottom_up_cut_rod(p,n)\n",
    "    while n > 0:\n",
    "        print(s[n])\n",
    "        n = n - s[n]\n",
    "14 minutes ago\n",
    "0.007 seconds\n"
   ]
  },
  {
   "cell_type": "code",
   "execution_count": 33,
   "metadata": {
    "collapsed": false
   },
   "outputs": [
    {
     "ename": "IndexError",
     "evalue": "list index out of range",
     "output_type": "error",
     "traceback": [
      "\u001b[0;31m---------------------------------------------------------------------------\u001b[0m",
      "\u001b[0;31mIndexError\u001b[0m                                Traceback (most recent call last)",
      "\u001b[0;32m<ipython-input-33-18b17d9d7b9e>\u001b[0m in \u001b[0;36m<module>\u001b[0;34m()\u001b[0m\n\u001b[1;32m     15\u001b[0m \u001b[0;32mfor\u001b[0m \u001b[0mn\u001b[0m \u001b[0;32min\u001b[0m \u001b[0mn_index_true\u001b[0m\u001b[0;34m:\u001b[0m\u001b[0;34m\u001b[0m\u001b[0m\n\u001b[1;32m     16\u001b[0m     \u001b[0mstart\u001b[0m \u001b[0;34m=\u001b[0m \u001b[0mtime\u001b[0m\u001b[0;34m.\u001b[0m\u001b[0mtime\u001b[0m\u001b[0;34m(\u001b[0m\u001b[0;34m)\u001b[0m\u001b[0;34m\u001b[0m\u001b[0m\n\u001b[0;32m---> 17\u001b[0;31m     \u001b[0mcut_rod\u001b[0m\u001b[0;34m(\u001b[0m\u001b[0mp\u001b[0m\u001b[0;34m,\u001b[0m\u001b[0mn\u001b[0m\u001b[0;34m)\u001b[0m\u001b[0;34m\u001b[0m\u001b[0m\n\u001b[0m\u001b[1;32m     18\u001b[0m     \u001b[0mend\u001b[0m \u001b[0;34m=\u001b[0m \u001b[0mtime\u001b[0m\u001b[0;34m.\u001b[0m\u001b[0mtime\u001b[0m\u001b[0;34m(\u001b[0m\u001b[0;34m)\u001b[0m\u001b[0;34m\u001b[0m\u001b[0m\n\u001b[1;32m     19\u001b[0m \u001b[0;31m#     print \"Run time for 3-way Mergesort with Insertion is: \" + str(end - start) + \" seconds.\"\u001b[0m\u001b[0;34m\u001b[0m\u001b[0;34m\u001b[0m\u001b[0m\n",
      "\u001b[0;32m<ipython-input-20-e926f831d7f4>\u001b[0m in \u001b[0;36mcut_rod\u001b[0;34m(p, n)\u001b[0m\n\u001b[1;32m      7\u001b[0m     \u001b[0mq\u001b[0m \u001b[0;34m=\u001b[0m \u001b[0;34m-\u001b[0m\u001b[0mfloat\u001b[0m\u001b[0;34m(\u001b[0m\u001b[0;34m'inf'\u001b[0m\u001b[0;34m)\u001b[0m\u001b[0;34m\u001b[0m\u001b[0m\n\u001b[1;32m      8\u001b[0m     \u001b[0;32mfor\u001b[0m \u001b[0mi\u001b[0m \u001b[0;32min\u001b[0m \u001b[0mrange\u001b[0m\u001b[0;34m(\u001b[0m\u001b[0;36m1\u001b[0m\u001b[0;34m,\u001b[0m\u001b[0mn\u001b[0m\u001b[0;34m+\u001b[0m\u001b[0;36m1\u001b[0m\u001b[0;34m)\u001b[0m\u001b[0;34m:\u001b[0m\u001b[0;34m\u001b[0m\u001b[0m\n\u001b[0;32m----> 9\u001b[0;31m         \u001b[0mq\u001b[0m \u001b[0;34m=\u001b[0m \u001b[0mmax\u001b[0m\u001b[0;34m(\u001b[0m\u001b[0mq\u001b[0m\u001b[0;34m,\u001b[0m\u001b[0mp\u001b[0m\u001b[0;34m[\u001b[0m\u001b[0mi\u001b[0m\u001b[0;34m]\u001b[0m \u001b[0;34m+\u001b[0m \u001b[0mcut_rod\u001b[0m\u001b[0;34m(\u001b[0m\u001b[0mp\u001b[0m\u001b[0;34m,\u001b[0m \u001b[0mn\u001b[0m\u001b[0;34m-\u001b[0m\u001b[0mi\u001b[0m\u001b[0;34m)\u001b[0m\u001b[0;34m)\u001b[0m\u001b[0;34m\u001b[0m\u001b[0m\n\u001b[0m\u001b[1;32m     10\u001b[0m     \u001b[0;32mreturn\u001b[0m \u001b[0mq\u001b[0m\u001b[0;34m\u001b[0m\u001b[0m\n\u001b[1;32m     11\u001b[0m \u001b[0;34m\u001b[0m\u001b[0m\n",
      "\u001b[0;31mIndexError\u001b[0m: list index out of range"
     ]
    }
   ],
   "source": [
    "import random\n",
    "import time\n",
    "%matplotlib inline\n",
    "import matplotlib.pyplot as py\n",
    "\n",
    "\n",
    "#n_index = [[random.randint(1, i) for _ in range(i)] for i in range(1, 10)]\n",
    "p = [1,2,4,5,6,8,9,13,16]\n",
    "n_index = range(10+1)\n",
    "n_index_true = n_index[1:]\n",
    "\n",
    "#arr_length = [len(n_index[i]) for i in range(len(n_index))]\n",
    "\n",
    "timings = []\n",
    "for n in n_index_true:\n",
    "    start = time.time()\n",
    "    cut_rod(p,n)\n",
    "    end = time.time()\n",
    "#     print \"Run time for 3-way Mergesort with Insertion is: \" + str(end - start) + \" seconds.\"\n",
    "    timings.append(end - start)\n",
    "    \n",
    "py.plot(n_index_true, timings)\n"
   ]
  },
  {
   "cell_type": "code",
   "execution_count": 31,
   "metadata": {
    "collapsed": false
   },
   "outputs": [
    {
     "name": "stdout",
     "output_type": "stream",
     "text": [
      "[1, 2, 3, 4, 5, 6, 7, 8, 9, 10, 11, 12, 13, 14, 15, 16, 17, 18, 19]\n"
     ]
    }
   ],
   "source": [
    "n_index = range(20)\n",
    "print n_index[1:]"
   ]
  },
  {
   "cell_type": "code",
   "execution_count": 34,
   "metadata": {
    "collapsed": true
   },
   "outputs": [],
   "source": [
    "def fib(n):\n",
    "    if n <= 0:\n",
    "        return 0\n",
    "    if n == 1:\n",
    "        return 1\n",
    "    return fib(n-1) + fib(n-2)"
   ]
  },
  {
   "cell_type": "code",
   "execution_count": 37,
   "metadata": {
    "collapsed": false
   },
   "outputs": [
    {
     "data": {
      "text/plain": [
       "44.84206491502975"
      ]
     },
     "execution_count": 37,
     "metadata": {},
     "output_type": "execute_result"
    }
   ],
   "source": [
    "math.log(1000000*365*24*60*60)/ math.log(2)"
   ]
  },
  {
   "cell_type": "code",
   "execution_count": 38,
   "metadata": {
    "collapsed": false
   },
   "outputs": [
    {
     "data": {
      "text/plain": [
       "0.6931471805599453"
      ]
     },
     "execution_count": 38,
     "metadata": {},
     "output_type": "execute_result"
    }
   ],
   "source": [
    "math.log(2)"
   ]
  },
  {
   "cell_type": "code",
   "execution_count": null,
   "metadata": {
    "collapsed": true
   },
   "outputs": [],
   "source": [
    "%matplotlib inline\n",
    "import matplotlib.pyplot as py\n",
    "\n",
    "py.plot(n_index_true, timings)\n",
    "py.ylabel('Time in seconds')\n",
    "# py.plot(arr_length, time_insertion, color = 'y', label = 'Insertion Sort')\n",
    "#py.legend(loc = 0)\n",
    "py.show()"
   ]
  },
  {
   "cell_type": "code",
   "execution_count": null,
   "metadata": {
    "collapsed": true
   },
   "outputs": [],
   "source": [
    "def fib(n):\n",
    "    if n <= 0:\n",
    "        return 0\n",
    "    if n == 1:\n",
    "        return 1\n",
    "    return fib(n-1) + fib(n-2)\n",
    "\n",
    "def dyn_fib(n):\n",
    "    if n <= 0:\n",
    "        return 0\n",
    "    if n == 1:\n",
    "        return 1\n",
    "    array = [0 for i in range(n+1)]\n",
    "    array[1] = 1\n",
    "    for j in range(2,n+1):\n",
    "        array[j] = array[j-1]+array[j-2]\n",
    "    return array[-1]\n",
    "            \n",
    "num = 10  \n",
    "print (dyn_fib(num))\n",
    "print (fib(num))"
   ]
  }
 ],
 "metadata": {
  "anaconda-cloud": {},
  "kernelspec": {
   "display_name": "Python [Root]",
   "language": "python",
   "name": "Python [Root]"
  },
  "language_info": {
   "codemirror_mode": {
    "name": "ipython",
    "version": 2
   },
   "file_extension": ".py",
   "mimetype": "text/x-python",
   "name": "python",
   "nbconvert_exporter": "python",
   "pygments_lexer": "ipython2",
   "version": "2.7.12"
  }
 },
 "nbformat": 4,
 "nbformat_minor": 0
}
