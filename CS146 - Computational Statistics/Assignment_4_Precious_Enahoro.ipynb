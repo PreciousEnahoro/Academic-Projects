{
  "nbformat": 4,
  "nbformat_minor": 0,
  "metadata": {
    "colab": {
      "name": "Assignment 4- Precious Enahoro.ipynb",
      "version": "0.3.2",
      "provenance": []
    },
    "kernelspec": {
      "name": "python3",
      "display_name": "Python 3"
    }
  },
  "cells": [
    {
      "metadata": {
        "id": "sGtuMjuF3Yjz",
        "colab_type": "code",
        "colab": {
          "base_uri": "https://localhost:8080/",
          "height": 34
        },
        "outputId": "ab0fecd1-aae3-4b02-9685-189f9c60d060"
      },
      "cell_type": "code",
      "source": [
        "#Importing Packages\n",
        "import matplotlib.pyplot as plt\n",
        "import numpy as np\n",
        "from scipy.stats import beta, binom\n",
        "\n",
        "#Prior hyperparameters\n",
        "alpha0= 1\n",
        "beta0 = 1\n",
        "\n",
        "#Control data\n",
        "data = np.array([[9, 11, 4, 21, 12, 0], [6, 7, 6, 18, 17, 10]])\n",
        "\n",
        "#Posterior hyperparameters\n",
        "alpha1 = alpha0 + sum(data[0, :])\n",
        "beta1 = beta0 + sum(data[1, :])\n",
        "\n",
        "#Summing the number of trials (patients) in each study\n",
        "n = data[0, :] + data[1, :]\n",
        "\n",
        "#Test statistics - using min and range of the number of successes\n",
        "\n",
        "def test_statistic(data): \n",
        "    return min(data)  \n",
        "  \n",
        "#Number of successes in control group\n",
        "data_c_treated = data_control[0, :]\n",
        "\n",
        "#Running test statistics on original data\n",
        "tester = test_statistic(data_c_treated)\n",
        "\n",
        "#Generate posterior data samples\n",
        "samples = beta.rvs(alpha1, beta1, size=1000)\n",
        "\n",
        "data= []\n",
        "\n",
        "for i in range(len(samples)):\n",
        "  a= binom.rvs(n,samples[i]) \n",
        "  data.append(test_statistic(a)) #Computing test statistics\n",
        "  \n",
        "\n",
        "#Counting to get the p-value\n",
        "counts = 0\n",
        "for i in range(len(data)):\n",
        "    if data[i] > tester:\n",
        "        counts+=1\n",
        "        \n",
        "#P-value\n",
        "print ('P-value:', counts/len(data))"
      ],
      "execution_count": 128,
      "outputs": [
        {
          "output_type": "stream",
          "text": [
            "P-value: 0.99\n"
          ],
          "name": "stdout"
        }
      ]
    },
    {
      "metadata": {
        "id": "dLt8ve1GifjH",
        "colab_type": "code",
        "colab": {
          "base_uri": "https://localhost:8080/",
          "height": 364
        },
        "outputId": "69fcc30f-8412-4189-8407-013747d7f577"
      },
      "cell_type": "code",
      "source": [
        "#Plotting histogram\n",
        "\n",
        "plt.hist(data,alpha=0.5, density=True)\n",
        "plt.axvline(tester, color='black')"
      ],
      "execution_count": 129,
      "outputs": [
        {
          "output_type": "execute_result",
          "data": {
            "text/plain": [
              "<matplotlib.lines.Line2D at 0x7f051542b278>"
            ]
          },
          "metadata": {
            "tags": []
          },
          "execution_count": 129
        },
        {
          "output_type": "display_data",
          "data": {
            "image/png": "[encoded data removed]",
            "text/plain": [
              "<matplotlib.figure.Figure at 0x7f0515422b38>"
            ]
          },
          "metadata": {
            "tags": []
          }
        }
      ]
    },
    {
      "metadata": {
        "id": "jI73aKG2jCyi",
        "colab_type": "text"
      },
      "cell_type": "markdown",
      "source": [
        "## Justification and Report\n",
        "\n",
        "I chose to use the minimum of the number of successful trials as my test statistic, and as we see above, the p-value gotten (0.99) is greater than 0.95, which shows that the non - hierarchical model does not explain the control group data well. \n",
        "\n",
        "I chose this test statistic because one of the studies in the data has a huge outlier (with the number of successes being 0) and it is important that this information is captured in the posterior predictive distribution. For the model to explain the control group data well, getting a minimum value of 0 in the predicted samples of the number of successes in each of the studies should not be rare. \n",
        "\n",
        "A reason why this model might not explain the control group data well is that the same probability of success is used for all the studies. If the model was modified to make each study have its own probability of success, the control group data might be explained better."
      ]
    }
  ]
}