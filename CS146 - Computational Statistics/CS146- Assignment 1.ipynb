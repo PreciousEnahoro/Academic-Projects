{
 "cells": [
  {
   "cell_type": "code",
   "execution_count": 1,
   "metadata": {},
   "outputs": [
    {
     "data": {
      "text/plain": [
       "0.911"
      ]
     },
     "execution_count": 1,
     "metadata": {},
     "output_type": "execute_result"
    }
   ],
   "source": [
    "import numpy as np\n",
    "\n",
    "def greater_than_half(mu,sigma,repeats):\n",
    "    \n",
    "    x = np.random.normal(mu,sigma,repeats)\n",
    "    y= list(x**3 +3) #Passing random numbers through f(x)\n",
    "    counter = 0\n",
    "\n",
    "    for i in y:\n",
    "    '''Checking if number after passing through f(x) is greater than 0.5'''\n",
    "    \n",
    "        if i > 0.5: \n",
    "            counter+=1\n",
    "        \n",
    "    return counter/len(y)\n",
    "\n",
    "greater_than_half(0,1,1000)"
   ]
  },
  {
   "cell_type": "code",
   "execution_count": 30,
   "metadata": {},
   "outputs": [
    {
     "name": "stdout",
     "output_type": "stream",
     "text": [
      "Analytic solution: 6.905341975473016\n",
      "Integration solution: 7.000000000000001\n"
     ]
    }
   ],
   "source": [
    "import numpy as np\n",
    "import math\n",
    "\n",
    "m = 1 # mean\n",
    "st = 1 #standard deviation\n",
    "\n",
    "def analytic_solution(m,st,repeats):\n",
    "    x = np.random.normal(m,st,repeats)\n",
    "    y= list(x**3 +3) #Passing random numbers through f(x)\n",
    "    print ('Analytic solution:', (np.mean(y))) #Mean(y) would give us the expected value of f(x)\n",
    "\n",
    "def integration_calculation(m,st):\n",
    "     solution= (math.sqrt(2)*(math.sqrt(1/2)*math.sqrt(math.pi)*(m**3 + 3)/st + 3*math.sqrt(1/2)*math.sqrt(math.pi)*m/st**3)/(math.sqrt(math.pi)*st))\n",
    "     print ('Integration solution:', solution)\n",
    "    \n",
    "analytic_solution(m,st,10000)\n",
    "integration_calculation(m,st)"
   ]
  },
  {
   "cell_type": "code",
   "execution_count": 78,
   "metadata": {},
   "outputs": [
    {
     "data": {
      "text/plain": [
       "0.9126093947419986"
      ]
     },
     "execution_count": 78,
     "metadata": {},
     "output_type": "execute_result"
    }
   ],
   "source": [
    "from scipy.stats import norm\n",
    "1-norm.cdf(-1.357)"
   ]
  },
  {
   "cell_type": "code",
   "execution_count": null,
   "metadata": {},
   "outputs": [],
   "source": [
    "#cube root\n",
    "a = -8\n",
    "-(-a)**(1./3.)\n",
    "-2.0"
   ]
  }
 ],
 "metadata": {
  "kernelspec": {
   "display_name": "Python 3",
   "language": "python",
   "name": "python3"
  },
  "language_info": {
   "codemirror_mode": {
    "name": "ipython",
    "version": 3
   },
   "file_extension": ".py",
   "mimetype": "text/x-python",
   "name": "python",
   "nbconvert_exporter": "python",
   "pygments_lexer": "ipython3",
   "version": "3.6.5"
  }
 },
 "nbformat": 4,
 "nbformat_minor": 2
}
