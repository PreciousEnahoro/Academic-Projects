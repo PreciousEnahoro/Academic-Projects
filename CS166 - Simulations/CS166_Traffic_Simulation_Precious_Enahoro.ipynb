{
  "nbformat": 4,
  "nbformat_minor": 0,
  "metadata": {
    "colab": {
      "name": "CS166 - Traffic Simulation- Precious Enahoro",
      "version": "0.3.2",
      "provenance": []
    },
    "kernelspec": {
      "name": "python3",
      "display_name": "Python 3"
    }
  },
  "cells": [
    {
      "metadata": {
        "id": "EW8wh4AuHLku",
        "colab_type": "code",
        "colab": {}
      },
      "cell_type": "code",
      "source": [
        "#Importing packages\n",
        "\n",
        "import numpy as np\n",
        "import matplotlib.pyplot as plt"
      ],
      "execution_count": 0,
      "outputs": []
    },
    {
      "metadata": {
        "id": "ZdLW7UnYhsjg",
        "colab_type": "text"
      },
      "cell_type": "markdown",
      "source": [
        "# **Python Simulation Code **\n"
      ]
    },
    {
      "metadata": {
        "id": "KG6ksC6F44J5",
        "colab_type": "code",
        "colab": {}
      },
      "cell_type": "code",
      "source": [
        "class TrafficSimulation:\n",
        "    '''\n",
        "        Simulates the traffic flow and creates a new traffic simulation object. \n",
        "        \n",
        "        Inputs:\n",
        "\n",
        "            road_length (int) The number of cells in the road. Default: 100.\n",
        "\n",
        "            traffic_density (float) The fraction of cells that have a car in them.\n",
        "              Default: 0.2.\n",
        "\n",
        "            p_slowing (float) The probability that a car will randomly\n",
        "              slow down by 1 during an update step. Default: 0.5.\n",
        "\n",
        "            max_velocity (int) The maximum speed in car cells per update step.\n",
        "              Default: 5.\n",
        "              \n",
        "            num_lanes (int) The number of lanes in on road. Default: 1.\n",
        "            \n",
        "            p_of_swapping (float) The probability that a car would switch to \n",
        "            another lane if other conditions are met. Default: 0.5.\n",
        "              \n",
        "            good_behaviour (boolean) Deciding what strategy of swapping lanes to\n",
        "            use, to represent good or bad driver behaviour for stretch goal.\n",
        "            Default: True.         \n",
        "              \n",
        "    '''\n",
        "    \n",
        "    def __init__(self, road_length=100, traffic_density=0.2, p_slowing=0.5, \n",
        "        max_velocity=5, num_lanes = 1, p_of_swapping= 0.5,good_behaviour = True):\n",
        "      \n",
        "        \n",
        "        self.road_length = road_length\n",
        "        self.traffic_density = traffic_density\n",
        "        self.p_slowing = p_slowing\n",
        "        self.max_velocity = max_velocity\n",
        "        \n",
        "        self.num_lanes = num_lanes\n",
        "        self.p_of_swapping = p_of_swapping\n",
        "        self.good_behaviour = good_behaviour\n",
        "        \n",
        "        \n",
        "        # Track the time steps and total number of cars that passed the simulation\n",
        "        # periodic boundary to estimate average traffic flow.\n",
        "        \n",
        "        self.flow_counter = 0 \n",
        "        self.time_step = 0\n",
        "        \n",
        "        #Initialising the cars\n",
        "        self.initialize_cars()\n",
        "        \n",
        "        \n",
        "    def initialize_cars(self):\n",
        "        '''\n",
        "        Creating the cars with random starting velocities,\n",
        "        that are distributed randomly along the road, with the same density \n",
        "        of cars for each lane. -1 represents empty cells.\n",
        "        '''\n",
        "    \n",
        "        self.current_state = -np.ones((self.num_lanes, self.road_length), dtype=int)  \n",
        "        for lane in range(self.num_lanes):\n",
        "    \n",
        "            cars = np.random.choice(range(self.road_length), \n",
        "                                    size=int(round(self.road_length * self.traffic_density)), \n",
        "                                    replace=False)\n",
        "\n",
        "            self.current_state[lane][cars] = np.random.randint(0, self.max_velocity + 1, size=len(cars))\n",
        "            \n",
        "            \n",
        "    \n",
        "    def swap_lanes_good_behaviour(self):\n",
        "        \n",
        "        '''\n",
        "        Using the original lane changing rules from Ricket M et.al (1996)\n",
        "        for a multi-lane traffic simulation, to determine whether cars switch lanes or not.\n",
        "        The different checks/ rules before switching is approved are listed in order \n",
        "        and a lane switch happens if all conditions are met.\n",
        "        \n",
        "        '''\n",
        "       \n",
        "        change_of_lanes_state = -np.ones((self.num_lanes, self.road_length), dtype=int)\n",
        "        \n",
        "        #Storing the possible lane combinations for switching\n",
        "        \n",
        "        lane_switch_combinations = [[lane, 1+lane] for lane in range(self.num_lanes - 1)]\n",
        "        \n",
        "        for combo in lane_switch_combinations: #For each lane combination\n",
        "            change_of_lanes_state[min(combo)] = -np.ones(self.road_length, dtype=int) #Serves as a check\n",
        "            \n",
        "            for lane in combo: #For each lane in combination\n",
        "                for car in range(self.road_length): #For each cell in lane\n",
        "                    if self.current_state[lane][car] > -1: #If cell is a car \n",
        "\n",
        "                        #Rule 1: To switch, there should not be enough space for car to move forward in its current lane at its current speed.\n",
        "                        \n",
        "                        gap_in_lane = 0\n",
        "                        while self.current_state[lane][(car+gap_in_lane+1) % self.road_length] == -1: \n",
        "                                gap_in_lane +=1\n",
        "\n",
        "                        condition_one =  gap_in_lane < self.current_state[lane][car] +1\n",
        "\n",
        "                        \n",
        "                        #Rule 2: To switch, there should be enough space for car to move forward in the other lane at its current speed.\n",
        "                        #Checks first if there is a car beside it, at the same position in other lane.\n",
        "                        \n",
        "                        gap_in_other_lane = -1 \n",
        "                        while self.current_state[(max(combo)-lane)+ min(combo)][(car+gap_in_other_lane+1) % self.road_length] == -1:\n",
        "                            gap_in_other_lane +=1\n",
        "\n",
        "                        condition_two = gap_in_other_lane > self.current_state[lane][car] +1\n",
        "                           \n",
        "                            \n",
        "                        #Rule 3: To switch, it should not be possible for a car in the other lane to drive into car.\n",
        "                        #This is checked by ensuring the gap behind is greater than any car's max_velocity.\n",
        "                        #Checks first if there is a car beside it, at the same position in other lane.\n",
        "                           \n",
        "                        gap_behind_in_other_lane = 1 #so that the first cell checked is the one beside it\n",
        "                        while self.current_state[(max(combo)-lane)+ min(combo)][(car+gap_behind_in_other_lane-1) % self.road_length] == -1: \n",
        "                                gap_behind_in_other_lane -=1\n",
        "\n",
        "                        condition_three = abs(gap_behind_in_other_lane) > self.max_velocity    \n",
        "                           \n",
        "                            \n",
        "                        #Rule 4: Randomisation (a number randomly generated must be less than the probability of switching)\n",
        "                        condition_four = np.random.uniform() < self.p_of_swapping\n",
        "                            \n",
        "                        \n",
        "                        #If all conditions/ rules are met, car moves to other lane, else, stays in its own lane.   \n",
        "                        if condition_one and condition_two and condition_three and condition_four:\n",
        "                            change_of_lanes_state[(max(combo)-lane)+ min(combo)][car] = self.current_state[lane][car]\n",
        "                        else:\n",
        "                            change_of_lanes_state[lane][car] = self.current_state[lane][car]\n",
        "                            \n",
        "            \n",
        "            #Updates current state after switching cars(or not) for all lanes.            \n",
        "            for lane in combo:\n",
        "                self.current_state[lane] = change_of_lanes_state[lane]\n",
        "                \n",
        "            \n",
        "    \n",
        "    def swap_lanes_bad_behaviour(self):\n",
        "        \n",
        "        '''\n",
        "        For stretch goal. Models a bad driver behaviour for a multi-lane model, \n",
        "        where the driver switches definitely if there is more space in the other\n",
        "        lane ahead, compared to driver's current lane. Driver doesn't do a look \n",
        "        back.\n",
        "        \n",
        "        '''\n",
        "        change_of_lanes_state = -np.ones((self.num_lanes, self.road_length), dtype=int)\n",
        "        \n",
        "        #Storing the possible lane combinations for switching\n",
        "        \n",
        "        lane_switch_combinations = [[lane, 1+lane] for lane in range(self.num_lanes - 1)]\n",
        "            \n",
        "        for combo in lane_switch_combinations: #For each lane combination\n",
        "            change_of_lanes_state[min(combo)] = -np.ones(self.road_length, dtype=int) #Serves as a check\n",
        "            \n",
        "            for lane in combo: #For each lane in combination\n",
        "                for car in range(self.road_length): #For each cell in lane\n",
        "                    if self.current_state[lane][car] > -1: #If cell is a car \n",
        "\n",
        "                        #Get forward-looking gap in current lane.\n",
        "                        \n",
        "                        gap_in_lane = 0\n",
        "                        while self.current_state[lane][(car+gap_in_lane+1) % self.road_length] == -1: \n",
        "                                gap_in_lane +=1\n",
        "\n",
        "                        #Get forward-looking gap in other lane.          \n",
        "               \n",
        "                        gap_in_other_lane = -1 \n",
        "                        while self.current_state[(max(combo)-lane)+ min(combo)][(car+gap_in_other_lane+1) % self.road_length] == -1: \n",
        "                                gap_in_other_lane +=1\n",
        "\n",
        "                        #Switches definitely if the forward-looking gap in the other lane \n",
        "                        #is greater than the forward- looking gap in the current lane\n",
        "                        #Else,car stays in its own lane.\n",
        "                        \n",
        "                        if gap_in_other_lane > gap_in_lane:\n",
        "                            change_of_lanes_state[(max(combo)-lane)+ min(combo)][car] = self.current_state[lane][car]\n",
        "                        else:\n",
        "                            change_of_lanes_state[lane][car] = self.current_state[lane][car]\n",
        "                            \n",
        "                            \n",
        "        #Updates current state after switching cars(or not) for all lanes.                    \n",
        "        for lane in combo:\n",
        "                self.current_state[lane] = change_of_lanes_state[lane]\n",
        "                \n",
        "               \n",
        "               \n",
        "    def update(self):\n",
        "        '''\n",
        "        Updates the simulation by one time step in one lane, using rules in \n",
        "        Nagel & Schreckenberg and Ricket M et.al (1996)\n",
        "        '''\n",
        "        \n",
        "        for lane in range(self.num_lanes): #For each lane\n",
        "                for car in range(self.road_length): #For each cell\n",
        "                    if self.current_state[lane][car] > -1: #If cell is a car\n",
        "\n",
        "                        # Step 1: Acceleration: by default increasing it 1\n",
        "                        if self.current_state[lane][car]< self.max_velocity:\n",
        "                            self.current_state[lane][car] += 1\n",
        "\n",
        "                        # Step 2: Slowing Down car based on neighbors\n",
        "\n",
        "                        distance = 1\n",
        "                        while self.current_state[lane][(car+distance) % self.road_length] == -1: \n",
        "                                distance +=1\n",
        "\n",
        "                        if self.current_state[lane][car] >= distance:\n",
        "                             self.current_state[lane][car] = distance - 1\n",
        "\n",
        "                        # Step 3: Slowing down the car based on random probability if the car's velocity is greater than 0\n",
        "                        \n",
        "                        if (np.random.uniform() < self.p_slowing) and (self.current_state[lane][car] > 0):                        \n",
        "                            self.current_state[lane][car] -= 1\n",
        "                \n",
        "\n",
        "        #Move cars using their updated velocities\n",
        "        \n",
        "        next_state = -np.ones((self.num_lanes, self.road_length), dtype=int) \n",
        "\n",
        "        for lane in range(self.num_lanes):\n",
        "            for car in range(self.road_length):\n",
        "                if self.current_state[lane][car] > -1:\n",
        "                    next_state[lane][(car + self.current_state[lane][car]) % self.road_length] =  self.current_state[lane][car]\n",
        "        \n",
        "        self.current_state = next_state         \n",
        "              \n",
        "\n",
        "\n",
        "    def flow_updater(self, display= True):\n",
        "        \n",
        "        '''\n",
        "        Combines all the other functions and runs the simulation, \n",
        "        to update time and traffic flow.\n",
        "        '''\n",
        "        \n",
        "        if self.num_lanes >1: #Calls swap lanes function only for multi-lane models\n",
        "            if self.good_behaviour: #Choosing the strategy for swapping lanes to show good or bad driver behaviour(stretch goal)\n",
        "                self.swap_lanes_good_behaviour()\n",
        "            else:\n",
        "                self.swap_lanes_bad_behaviour()\n",
        "        self.update() \n",
        "        if display:\n",
        "            self.display()\n",
        "\n",
        "        #Updating time and traffic flow\n",
        "        \n",
        "        self.time_step += 1       \n",
        "    \n",
        "        for lane in range(self.num_lanes):\n",
        "            for car in range(self.road_length):\n",
        "                if (car+ self.current_state[lane][car]) >= self.road_length:\n",
        "                    self.flow_counter += 1\n",
        "                \n",
        "    def display(self):\n",
        "        '''\n",
        "            Displays the current state of simulation, the cars are represented by\n",
        "            a number greater than or equals to 0. The number represents the velocity\n",
        "            of car. The empty spaces is shown as dots.\n",
        "        '''\n",
        "        for lane in self.current_state:\n",
        "            print(''.join(['.' if x == -1 else str(x) for x in lane]))\n",
        "        if self.num_lanes >1: print ('\\n') #Printing new line to show difference in lane updates for multi-lane models."
      ],
      "execution_count": 0,
      "outputs": []
    },
    {
      "metadata": {
        "id": "Qz0X2zKih_Iy",
        "colab_type": "text"
      },
      "cell_type": "markdown",
      "source": [
        "## **Plotting and Running Experiment Code **"
      ]
    },
    {
      "metadata": {
        "id": "Pwg68FOahLrX",
        "colab_type": "code",
        "colab": {}
      },
      "cell_type": "code",
      "source": [
        "#Plotting the mean and confidence interval for each average flow, and for each density.\n",
        "\n",
        "def plotting_means_and_CI(density_list, mean_average_flow, mean_average_flow_lower_bound, mean_average_flow_upper_bound, label_name):\n",
        "    \n",
        "    plt.fill_between(density_list, mean_average_flow_upper_bound, mean_average_flow_lower_bound, alpha=.2)\n",
        "    plt.plot(density_list, mean_average_flow, label = label_name)\n",
        "    plt.xlabel('Densities')\n",
        "    plt.ylabel('Flow')\n",
        "\n",
        "    \n",
        "\n",
        "def run_experiment(num_simulations, num_steps, simulation, densities, num_lanes, good_behaviour):\n",
        "    '''\n",
        "        Running the simulation *num_simulations* times to find the average flow of the simulation\n",
        "        for different *densities* (list) after *num_steps* time steps.\n",
        "    '''\n",
        "    \n",
        "    density_list = [] #list containing densities\n",
        "    mean_average_flow = [] \n",
        "    mean_average_flow_upper_bound = []\n",
        "    mean_average_flow_lower_bound = []\n",
        "\n",
        "    \n",
        "    for density in densities:\n",
        "        avg_flow = []\n",
        "        for i in range(num_simulations):\n",
        "            sim = TrafficSimulation(traffic_density=density,num_lanes = num_lanes, good_behaviour = good_behaviour)\n",
        "            for _ in range(num_steps):\n",
        "                sim.flow_updater(display= False)\n",
        "            avg_flow.append(sim.flow_counter / float((sim.num_lanes*sim.time_step)))\n",
        "        \n",
        "        # Finding mean and confidence interval for average flows\n",
        "        confidence_interval = np.percentile(avg_flow, [2.5, 97.5])\n",
        "        mean_average_flow.append(np.mean(avg_flow))\n",
        "        mean_average_flow_lower_bound.append(confidence_interval[0])\n",
        "        mean_average_flow_upper_bound.append(confidence_interval[1])\n",
        "        density_list.append(density)\n",
        "\n",
        "    return (density_list, mean_average_flow, mean_average_flow_lower_bound, mean_average_flow_upper_bound)\n"
      ],
      "execution_count": 0,
      "outputs": []
    },
    {
      "metadata": {
        "id": "EXr_gLQfmpGT",
        "colab_type": "text"
      },
      "cell_type": "markdown",
      "source": [
        "#Part 1: Traffic jams on a circular road"
      ]
    },
    {
      "metadata": {
        "id": "5tInZNhcmsBO",
        "colab_type": "text"
      },
      "cell_type": "markdown",
      "source": [
        "### Visualizing the state of this model over time, to show how traffic jams can appear when traffic density is high enough."
      ]
    },
    {
      "metadata": {
        "id": "hvbogbbAmx_1",
        "colab_type": "code",
        "outputId": "560d72a3-509b-4b6b-94ef-fd1e38f64eed",
        "colab": {
          "base_uri": "https://localhost:8080/",
          "height": 1037
        }
      },
      "cell_type": "code",
      "source": [
        "def traffic_jam_display(sim):\n",
        "    print('Initial State')\n",
        "    sim.display()\n",
        "\n",
        "    print('-'*20)\n",
        "    print('Simulation Starts')\n",
        "    print('-'*20)\n",
        "    for i in range(10):\n",
        "        sim.flow_updater()\n",
        "        \n",
        "        \n",
        "for i in [0.2, 0.5, 0.8]:\n",
        "    sim = TrafficSimulation(traffic_density = i,num_lanes = 1)\n",
        "    print('When density is {0}'.format(i))\n",
        "    print ('\\n')\n",
        "    traffic_jam_display(sim)\n",
        "    print ('\\n')"
      ],
      "execution_count": 116,
      "outputs": [
        {
          "output_type": "stream",
          "text": [
            "When density is 0.2\n",
            "\n",
            "\n",
            "Initial State\n",
            "............2......0..3............30....4...2.............5.4....05..0..4........2.3..4.5...55....3\n",
            "--------------------\n",
            "Simulation Starts\n",
            "--------------------\n",
            "..3............3....1.....4........0.1.....2...2...........0....3.0..20.......5...0...20....30...3..\n",
            ".4...3.............4.1........4....0..1.......3..2.........0.....10..0.1.........30...00....00......\n",
            "...2....3..........0..1..........3..1..1........2..2........1....0.1.0..1........00...00....00......\n",
            "......3.....4.......1...2.........1..1..1........1....3......1...0..10...1.......00...0.1...0.1.....\n",
            ".........3.......5....2....3.......1...2.1........1.......4....2..1.00.....2.....00...0..1...1.1....\n",
            ".............4.......4...3.....4....1..0..1........1..........4.1..10.1.......3..0.1...1...2..1.1...\n",
            ".................4.....2.....4....3..1.0....2........2........0...20.1..2.......20..1...1...1..1.1..\n",
            "......................5...3......4..20.0.......3........3.....0...00..1...2.....0.1...2...2..1.0...2\n",
            ".2......................2.....4...1.0.1.1.........3.........4..1..00....2....3...1.1....2...20.0....\n",
            "...2......................2.....2..10.0...2...........4......1..1.0.1......3....30...2....2.00..1...\n",
            "\n",
            "\n",
            "When density is 0.5\n",
            "\n",
            "\n",
            "Initial State\n",
            "3.3..3..00..2.5..052.21.2.0.322431.0.1.41...025424...55...02..25.2.31..5.4....3..024..3..0..3...0.2.\n",
            "--------------------\n",
            "Simulation Starts\n",
            "--------------------\n",
            ".1..2..200..0...2000.00.0..100000.1.1.10..2.00000...30..2.0..200..10..2.1....4..200..2..2.1...2..1.1\n",
            "1.1...2000..0...000.100.0..000000.0.0.0.1.0.00000...0.1..10..00.1.0.1..1..2....200.1...20..1....2.1.\n",
            "0..1..0000...1..00.100.10..00000.10.0..1.10.00000....1..20.1.0.10..1..2.1....3.00.1..2.0.1...2..0..1\n",
            ".1...20000.....200.00.10.1.00000.0.1.1..100.00000.....1.0.10..10.1...2.1.1...0.00...2.10..1....2.1.0\n",
            "...2.00000.....00.10.10.1.10000.1.1.1..2000.00000......10.0.1.0.1.1..0.0...2.0.0.1..0.00...1....10.0\n",
            "....100000.....00.0.100.0.00000.0.0..1.000.100000......00..10.0.0..1.0..1...10..1.1..100.....2..0.10\n",
            "....000000.....0.1.100.10.00000.0.0..0.00.1000000......0.1.00..10...1.1...2.00...1..2000......1.0.00\n",
            "1...000000.....0..1000.00.00000.0..1.0.00.000000.1......1.100..0.1...1.1..0.0.1....20000.......1.10.\n",
            ".1..00000.1....0..000.100.00000.0...1.10.1000000..1......1000..0..1...1..20..1.1...0000.1......0.00.\n",
            "..1.0000.1.1...0..00.100.100000.0....100.000000.1...2....000.1..1...2...200..0...2.000.1.1.....0.00.\n",
            "\n",
            "\n",
            "When density is 0.8\n",
            "\n",
            "\n",
            "Initial State\n",
            "315451330541.451231.1314224021323411.31.5.40...00.5432450020.521..4.4.1443.0002410.553..01352315.04.\n",
            "--------------------\n",
            "Simulation Starts\n",
            "--------------------\n",
            "000000000000.00000.10000000000000000.0.1.10.1..0.1000000000.100.1.0..10000.000000.100.1.00000000.00.\n",
            "000000000000.00000.0000000000000000.1.1.10.1.1.0.0000000000.000.0.0..00000.000000.00.1.10000000.10.1\n",
            "00000000000.100000.0000000000000000..10.00.0.0..10000000000.00.10..1.0000.100000.10.10.0000000.100.0\n",
            "00000000000.00000.1000000000000000.1.00.0.1.1.1.00000000000.00.00..0.000.1000000.0.100.0000000.000.0\n",
            "00000000000.0000.1000000000000000.10.0.10.0..10.00000000000.0.100...100.10000000.0.00.1000000.100.10\n",
            "0000000000.1000.1000000000000000.10.1.100..1.00.0000000000.1.100.1..000.0000000.10.00.000000.100.100\n",
            "0000000000.0000.0000000000000000.0.10.000...100.0000000000..100.1.1.00.10000000.00.00.00000.1000.000\n",
            "0000000000.0000.0000000000000000.0.0.1000...00.1000000000.1.00.10.0.00.0000000.10.100.0000.10000.000\n",
            "0000000000.000.10000000000000000..10.0000...00.000000000.1.10.10.1.10.1000000.100.00.10000.0000.1000\n",
            "0000000000.000.0000000000000000.1.00.0000...0.100000000.1.10.100.0.0.1000000.1000.0.100000.0000.0000\n",
            "\n",
            "\n"
          ],
          "name": "stdout"
        }
      ]
    },
    {
      "metadata": {
        "id": "Hl-P8XZCnVnw",
        "colab_type": "text"
      },
      "cell_type": "markdown",
      "source": [
        "### Analyzing how the overall average traffic flow rate varies with traffic density"
      ]
    },
    {
      "metadata": {
        "id": "64Q_GxxunXlw",
        "colab_type": "code",
        "outputId": "17c5afd5-a9dd-4548-e7da-606677c7bd43",
        "colab": {
          "base_uri": "https://localhost:8080/",
          "height": 378
        }
      },
      "cell_type": "code",
      "source": [
        "densities = np.arange(0,0.8,0.1)\n",
        "num_simulations = 100\n",
        "num_steps = 200\n",
        "num_lanes = 1\n",
        "good_behaviour = True\n",
        "\n",
        "results = run_experiment(num_simulations, num_steps, TrafficSimulation, densities, num_lanes, good_behaviour)\n",
        "\n",
        "plotting_means_and_CI(*results, '1 lane')\n",
        "plt.legend()\n",
        "\n",
        "print(results[1])"
      ],
      "execution_count": 117,
      "outputs": [
        {
          "output_type": "stream",
          "text": [
            "[0.0, 0.3834, 0.2975, 0.26695, 0.23660000000000003, 0.2022, 0.16475, 0.13055000000000003]\n"
          ],
          "name": "stdout"
        },
        {
          "output_type": "display_data",
          "data": {
            "image/png": "[encoded data removed]",
            "text/plain": [
              "<Figure size 576x396 with 1 Axes>"
            ]
          },
          "metadata": {
            "tags": []
          }
        }
      ]
    },
    {
      "metadata": {
        "id": "6p0VGppErzL5",
        "colab_type": "text"
      },
      "cell_type": "markdown",
      "source": [
        "#Part 2: Multi-lane highways"
      ]
    },
    {
      "metadata": {
        "id": "YBazGjZHr-_d",
        "colab_type": "text"
      },
      "cell_type": "markdown",
      "source": [
        "### Visualizing the state of this model over time, to show how traffic jams can appear when traffic density is high enough."
      ]
    },
    {
      "metadata": {
        "id": "BiYciBrEsBmf",
        "colab_type": "code",
        "outputId": "b40b3d2e-b9f0-427c-8ce3-1d0c26174953",
        "colab": {
          "base_uri": "https://localhost:8080/",
          "height": 2720
        }
      },
      "cell_type": "code",
      "source": [
        "for i in [0.2, 0.5, 0.8]:\n",
        "    sim = TrafficSimulation(traffic_density = i,num_lanes = 2)\n",
        "    print('When density is {0}'.format(i))\n",
        "    print ('\\n')\n",
        "    traffic_jam_display(sim)\n",
        "    print ('\\n')"
      ],
      "execution_count": 118,
      "outputs": [
        {
          "output_type": "stream",
          "text": [
            "When density is 0.2\n",
            "\n",
            "\n",
            "Initial State\n",
            "....4.3....3..45....2...4.......................0.4...5...4...........3..412.........021..4......3..\n",
            "...........0.5.2..5.5...0.............4....14.....5...5.2..3...1.....2.....3....5...1...2.......1...\n",
            "\n",
            "\n",
            "--------------------\n",
            "Simulation Starts\n",
            "--------------------\n",
            "3....1....4.1.0...3....3....4.............4......1..2....3.....5........200...3......00..2.....5....\n",
            "............1.1.1..1...30..................0....4...2..1.1....3.1.......3.....3...2...2...2......1..\n",
            "\n",
            "\n",
            "...3..1...0..10......3....3......5.............5..1...2......4.....4....000......3...00....2.......4\n",
            "............0..1..2..2.0.1..................1.....2...20..1...0...2.........4....3..2...2...2.....1.\n",
            "\n",
            "\n",
            ".2...2.1...1.0.1........3....3........5.........1..1....2.........5....400.1........30.1......3.....\n",
            "2............1...2..2.10...2..................2......30.1...2.0......3..........4..2..2....3...3....\n",
            "\n",
            "\n",
            "....30...2.0.0..1..........3....3..........5.....1..1.....2...........4000..1.......00...2........4.\n",
            "...3..........1....2.100......3.................2....0.1.1..0.0..........4........2..2..2.....3....4\n",
            "\n",
            "\n",
            "...50.1...1.10...1.............4....4..........4...2..2.....2.........0000...1......00......3.......\n",
            "..3....4.......1...0.000..........4...............2..0..1..20..1.............4......2.1....3.....3..\n",
            "\n",
            "\n",
            "...0.1.1...10.1....2...............4.....5.......2..1...2.....2........00.1...1.....0.1.........4...\n",
            "3....3......5....2..1000...............5...........1.0...1.00...1......1.........4..0..1.......4....\n",
            "\n",
            "\n",
            "4..0..1..2.0.1.1......3.................5.....5....2.1....2.....2......0.1.1....2...0..1............\n",
            "...3.....4......4.1.0000....................5.......10...0.00....1......1..........20...1..........4\n",
            "\n",
            "\n",
            ".1..1..1.0..1.1..2.......3..................4....3.0...2....2......3...0.0...2....2..1..1...........\n",
            ".2....3......4...10.000.1........................5..0.1...10.1....1......1.........0.1....2.........\n",
            "\n",
            "\n",
            "...2.1..10...1..2..2.........4..................40.0.....2....2.......30.0.....2...1..1..1..........\n",
            "....3....3......30.1000..1.........................20..1..0.1.1.....2.....1.........1.1.....2.......\n",
            "\n",
            "\n",
            "....1..200.....2.1....3..........4..............00.0.......2....2.....0.10.......2..1...2..2........\n",
            ".......3....3...00.0000...1........................0.1...2.10...2......3...1.........1..2.....2.....\n",
            "\n",
            "\n",
            "\n",
            "\n",
            "When density is 0.5\n",
            "\n",
            "\n",
            "Initial State\n",
            ".450.243.0...125....03010..4..1..1...2..3..203..3.....410.20...3.40.3..204214..54.....132...1514.32.\n",
            "1.3.50.21...015...14....5..254.3.5.0.1.140.1.4.33...3.3.1.3...343.1....4.2.4..42535....2.4..35.2015.\n",
            "\n",
            "\n",
            "--------------------\n",
            "Simulation Starts\n",
            "--------------------\n",
            "200.100.10...00...3.00000...1..1...2..1...200..2...3..000.00....100..1.00000..20....4.00...30000.0..\n",
            ".10.00.0.1..00..2.0...3...2000..1.10..100.10..10..2..10..1...300.1.1....1.1.1.0000....40..1.00.0000.\n",
            "\n",
            "\n",
            "000.00.100...00...0.0000.1...1..1....2..2.000....2..1.00.10.1...000..0.00000..00.....100...0000.10..\n",
            ".00.0.10..1.00...1.1....2.000.1..10.1.00.100..00....200....2.000.0..1....10..1000.1...00..0.00.0000.\n",
            "\n",
            "\n",
            "00.100.000...00...0.000.1..2..1...2...1..1000......2.100.0.1..2.000...10000.1.0.1....000...0000.0.1.\n",
            ".00..10.1..10.1...1.1....1000...20.1.100.00.1.0.1...000.....100.1.1...2..00..000.1..2.00..0.0.10000.\n",
            "\n",
            "\n",
            "0.100.100.1..0.1...1000..1..1..1.....3..2000.1......1000..1.1.0.000...00000..1.1.1...000...000.1.1.1\n",
            ".0.1.0.1.1.0.1..2..1..2..000.1..00.0.000.0.10.0..1..00.1....00.1.1.1....200..00.1..20.00..0..10000.1\n",
            "\n",
            "\n",
            ".1000.00.1..20..1..0000....2.1...2....1.0000..1.....000.1.0..10.000...00000..0..1..2.000...00.10..10\n",
            "10..10.0.0..1..2.1...2.1.000..1.00..100.10.00..1..1.00..1...00.0..1.1...000..00...200.0.1.0..0000.1.\n",
            "\n",
            "\n",
            "10000.0.1.1.00...1.0000.....1..2....3.0.0000....2...00.1.1.1.0.1000...00000..0...1..100.1..0.100..0.\n",
            "00..00..1.1..1.0...2..1.100.1..10.1.00.100.00....20.00....2.00..1.0..1..00.1.00...00.10.0..1.0000..1\n",
            "\n",
            "\n",
            "00000..10.0.00....1000.1.....1....3..10.000.1.....2.0.10..10.0.0000...0000.1.0....1.000...20.00.1..1\n",
            "00..00...1..2.10....1..1000...200.0.0.1000.0.1...00.0.1...0.00..0..1...20.1.100...0.10.1.1..10000..0\n",
            "\n",
            "\n",
            "00000..00..100....000.1.1.....1.....20.100.1..2....10.00..00.0.0000...0000..10.....1000...00.0.1.1.0\n",
            "0.1.00.....2.10.1....1.0000...00.1.10.0000.0...2.00.0..1..0.00..0...1..0.1.1000...0.0.10..1.0000.1.0\n",
            "\n",
            "\n",
            "0000.1.00..000....000..1..2....1....00.000..1...2..0.100..0.1.1000.1..0000..0.1....000.1..0.1.10..10\n",
            "0..100.....0.0.1..2...1000.1..0.10.00.0000..1..0.00..1..1.0.0.1..1....20.0.000.1..0..100...1000.10.0\n",
            "\n",
            "\n",
            "0000.0.0.1.00.1...000...1...2...1...0.100.1..1....2.1000..0..10000..1.000.1.0..1...000...2.10.00..00\n",
            "0..00.1.....1.1..2...3000.1.1.0.0.100.000.1..1..10.1...20..10..1...2..00.0.00.1.1..1.00.1..0000.0.10\n",
            "\n",
            "\n",
            "\n",
            "\n",
            "When density is 0.8\n",
            "\n",
            "\n",
            "Initial State\n",
            "42..235505423551313001044244..0.4.332.43352.5.5222.4.3525005.0110.3.031.2.31.20.440.20505044323.5313\n",
            "5.55..024114.14144410.314335033.0.5.1.5211111235215..51322.5410.2.4.4452.3.5010.003343.445225453.403\n",
            "\n",
            "\n",
            "--------------------\n",
            "Simulation Starts\n",
            "--------------------\n",
            "0.1.00000000000000000000000.1..1.1000.0000.10.0000..10000000.000.1.1000..10.10.100.10000000000.10000\n",
            "0.0.1.00000.100000000.00000000.1.1.10.000000000000.1.0000.1000.1.1.1000.1.10000.000000.00000000.1000\n",
            "\n",
            "\n",
            ".10.00000000000000000000000...2.10000.000.10.1000.1.00000000.00.10.000.1.00.0.1000.00000000000.00000\n",
            ".1.10.0000.100000000.10000000.10.0.0.100000000000.1.10000.000.1.1.10000.0.00000.00000.100000000.0000\n",
            "\n",
            "\n",
            ".0.100000000000000000000000...0.00000.00.10.10000..100000000.00.0.100.10.0.1.10000.0000000000.100000\n",
            ".0.0.10000.00000000.10000000.10.1.10.000000000000..100000.000.0..10000.1.10000.100000.000000000.0000\n",
            "\n",
            "\n",
            ".0.00000000000000000000000.1..0.0000.10.100.0000.1.00000000.10.10.00.10.10..10000.1000000000.1000000\n",
            "1.10.00000.0000000.10000000.10.1.10.1000000000000..000000.00.10..0000.1.100000.00000.100000000.1000.\n",
            "\n",
            "\n",
            "10.0000000000000000000000.1..20.0000.00.000.000.10.0000000.100.00.0.100.0.1.00000.0000000000.000000.\n",
            "0.0.100000.0000000.00000000.00.0.00.000000000000.1.00000.100.00..000.10.000000.00000.00000000.1000.1\n",
            "\n",
            "\n",
            "00.000000000000000000000.1.1.0.1000.100.000.000.00.000000.100.100.0.000..10.00000.0000000000.00000.1\n",
            ".10.00000.1000000.100000000.00..10.100000000000.10.0000.1000.00..00.10.100000.100000.0000000.1000.10\n",
            "\n",
            "\n",
            "00.000000000000000000000.0..10.000.100.1000.00.100.00000.100.100.10.000..0.10000.1000000000.100000.0\n",
            ".00.0000.10000000.00000000.10.1.0.1000000000000.0.1000.10000.00..00.0.1000000.00000.10000000.0000.00\n",
            "\n",
            "\n",
            "0.100000000000000000000.10..0.1000.00.10000.00.000.0000.1000.000.0.1000...100000.000000000.100000.10\n",
            ".00.0000.0000000.10000000.100..10.0000000000000.0.000.10000.100..00..10000000.0000.10000000.10000.00\n",
            "\n",
            "\n",
            ".100000000000000000000.10.1.0.0000.00.0000.100.00.10000.0000.000..10000...000000.000000000.000000.00\n",
            "100.000.10000000.00000000.000..00.000000000000.10.000.0000.100.1.0.1.00000000.0000.0000000.100000.0.\n",
            "\n",
            "\n",
            "100000000000000000000.10.10..10000.00.0000.00.100.0000.1000.100.1.0000.1..000000.000000000.000000.0.\n",
            "00.100.100000000.00000000.000..0.100000000000.100.00.1000.100.10.0.0.0000000.10000.0000000.000000..1\n",
            "\n",
            "\n",
            "\n",
            "\n"
          ],
          "name": "stdout"
        }
      ]
    },
    {
      "metadata": {
        "id": "86kOFl42sVWv",
        "colab_type": "text"
      },
      "cell_type": "markdown",
      "source": [
        "### Analyzing how much more traffic can flow through a 2-lane road, compared to a single lane road, at the same traffic density"
      ]
    },
    {
      "metadata": {
        "id": "AGotgG1sstnB",
        "colab_type": "code",
        "outputId": "589897b8-2dbf-463d-820d-c4b94925b323",
        "colab": {
          "base_uri": "https://localhost:8080/",
          "height": 412
        }
      },
      "cell_type": "code",
      "source": [
        "densities = np.arange(0,0.8,0.1)\n",
        "num_simulations = 100\n",
        "num_steps = 200\n",
        "num_lanes = [1,2]\n",
        "good_behaviour = True\n",
        "\n",
        "for i in num_lanes:\n",
        "    results = run_experiment(num_simulations, num_steps, TrafficSimulation, densities, i, good_behaviour)\n",
        "    plotting_means_and_CI(*results,'{0} lane(s)'.format(i))\n",
        "    print(results[1])\n",
        "   \n",
        "\n",
        "plt.legend()"
      ],
      "execution_count": 119,
      "outputs": [
        {
          "output_type": "stream",
          "text": [
            "[0.0, 0.3718000000000001, 0.29795, 0.2707, 0.23959999999999998, 0.20250000000000004, 0.16670000000000001, 0.1297]\n",
            "[0.0, 0.38055000000000005, 0.3098, 0.2779, 0.24097499999999997, 0.202025, 0.1666, 0.129875]\n"
          ],
          "name": "stdout"
        },
        {
          "output_type": "execute_result",
          "data": {
            "text/plain": [
              "<matplotlib.legend.Legend at 0x7fc60a607860>"
            ]
          },
          "metadata": {
            "tags": []
          },
          "execution_count": 119
        },
        {
          "output_type": "display_data",
          "data": {
            "image/png": "[encoded data removed]",
            "text/plain": [
              "<Figure size 576x396 with 1 Axes>"
            ]
          },
          "metadata": {
            "tags": []
          }
        }
      ]
    },
    {
      "metadata": {
        "id": "kWwaezPSsmxN",
        "colab_type": "text"
      },
      "cell_type": "markdown",
      "source": [
        "### Analyzing how much more traffic can flow through a 3-lane road, compared to a single lane road, at the same traffic density"
      ]
    },
    {
      "metadata": {
        "id": "ohdaGEKPst9-",
        "colab_type": "code",
        "outputId": "e9471691-766c-4e42-ef89-ed7b1d0cccaa",
        "colab": {
          "base_uri": "https://localhost:8080/",
          "height": 432
        }
      },
      "cell_type": "code",
      "source": [
        "densities = np.arange(0,0.8,0.1)\n",
        "num_simulations = 100\n",
        "num_steps = 200\n",
        "num_lanes = [1,3]\n",
        "good_behaviour = True\n",
        "\n",
        "for i in num_lanes:\n",
        "    results = run_experiment(num_simulations, num_steps, TrafficSimulation, densities, i, good_behaviour)\n",
        "    plotting_means_and_CI(*results,'{0} lane(s)'.format(i))\n",
        "    print(results[1])\n",
        "   \n",
        "plt.legend()"
      ],
      "execution_count": 120,
      "outputs": [
        {
          "output_type": "stream",
          "text": [
            "[0.0, 0.3767000000000001, 0.2981, 0.2698, 0.23935000000000003, 0.20159999999999997, 0.16580000000000006, 0.12735]\n",
            "[0.0, 0.38886666666666664, 0.31805000000000005, 0.28008333333333346, 0.24009999999999998, 0.20295000000000002, 0.16738333333333333, 0.12860000000000002]\n"
          ],
          "name": "stdout"
        },
        {
          "output_type": "execute_result",
          "data": {
            "text/plain": [
              "<matplotlib.legend.Legend at 0x7fc60a581860>"
            ]
          },
          "metadata": {
            "tags": []
          },
          "execution_count": 120
        },
        {
          "output_type": "display_data",
          "data": {
            "image/png": "[encoded data removed]",
            "text/plain": [
              "<Figure size 576x396 with 1 Axes>"
            ]
          },
          "metadata": {
            "tags": []
          }
        }
      ]
    },
    {
      "metadata": {
        "id": "o4D2QxFisqsp",
        "colab_type": "text"
      },
      "cell_type": "markdown",
      "source": [
        "### Analyzing how much more traffic can flow through a 4-lane road, compared to a single lane road, at the same traffic density"
      ]
    },
    {
      "metadata": {
        "id": "__5gcTPZsuwv",
        "colab_type": "code",
        "outputId": "3c245d46-08b6-451f-94b8-cc3a2176a94b",
        "colab": {
          "base_uri": "https://localhost:8080/",
          "height": 412
        }
      },
      "cell_type": "code",
      "source": [
        "densities = np.arange(0,0.8,0.1)\n",
        "num_simulations = 100\n",
        "num_steps = 200\n",
        "num_lanes = [1,4]\n",
        "good_behaviour = True\n",
        "\n",
        "for i in num_lanes:\n",
        "    results = run_experiment(num_simulations, num_steps, TrafficSimulation, densities, i, good_behaviour)\n",
        "    plotting_means_and_CI(*results,'{0} lane(s)'.format(i))\n",
        "    print(results[1])\n",
        "   \n",
        "plt.legend()"
      ],
      "execution_count": 121,
      "outputs": [
        {
          "output_type": "stream",
          "text": [
            "[0.0, 0.376, 0.29685, 0.27099999999999996, 0.2342, 0.20489999999999997, 0.16670000000000001, 0.12885]\n",
            "[0.0, 0.388425, 0.3172375, 0.2804999999999999, 0.24226249999999996, 0.20403749999999998, 0.1682625, 0.12988750000000002]\n"
          ],
          "name": "stdout"
        },
        {
          "output_type": "execute_result",
          "data": {
            "text/plain": [
              "<matplotlib.legend.Legend at 0x7fc60a2c9be0>"
            ]
          },
          "metadata": {
            "tags": []
          },
          "execution_count": 121
        },
        {
          "output_type": "display_data",
          "data": {
            "image/png": "[encoded data removed]",
            "text/plain": [
              "<Figure size 576x396 with 1 Axes>"
            ]
          },
          "metadata": {
            "tags": []
          }
        }
      ]
    },
    {
      "metadata": {
        "id": "7UOjCSkX4wTt",
        "colab_type": "text"
      },
      "cell_type": "markdown",
      "source": [
        "### Analyzing how much more traffic can flow through a 3-lane road, compared to a single lane and a 2-lane road, at the same traffic density"
      ]
    },
    {
      "metadata": {
        "id": "CnVUz0hV4uU8",
        "colab_type": "code",
        "outputId": "f0b8a100-8c42-4c71-e5cc-9a70d58a1b34",
        "colab": {
          "base_uri": "https://localhost:8080/",
          "height": 429
        }
      },
      "cell_type": "code",
      "source": [
        "densities = np.arange(0,0.8,0.1)\n",
        "num_simulations = 100\n",
        "num_steps = 200\n",
        "num_lanes = [1,2,3]\n",
        "good_behaviour = True\n",
        "\n",
        "for i in num_lanes:\n",
        "    results = run_experiment(num_simulations, num_steps, TrafficSimulation, densities, i, good_behaviour)\n",
        "    plotting_means_and_CI(*results,'{0} lane(s)'.format(i))\n",
        "    print(results[1])\n",
        "   \n",
        "plt.legend()"
      ],
      "execution_count": 122,
      "outputs": [
        {
          "output_type": "stream",
          "text": [
            "[0.0, 0.36920000000000003, 0.30005000000000004, 0.27265, 0.2385, 0.20130000000000003, 0.16905, 0.1298]\n",
            "[0.0, 0.38275000000000015, 0.312225, 0.27275000000000005, 0.2405749999999999, 0.20650000000000002, 0.16605, 0.1285]\n",
            "[0.0, 0.3904166666666667, 0.31245, 0.2784333333333333, 0.24020000000000002, 0.20331666666666667, 0.16811666666666666, 0.12906666666666664]\n"
          ],
          "name": "stdout"
        },
        {
          "output_type": "execute_result",
          "data": {
            "text/plain": [
              "<matplotlib.legend.Legend at 0x7fc609c1feb8>"
            ]
          },
          "metadata": {
            "tags": []
          },
          "execution_count": 122
        },
        {
          "output_type": "display_data",
          "data": {
            "image/png": "[encoded data removed]",
            "text/plain": [
              "<Figure size 576x396 with 1 Axes>"
            ]
          },
          "metadata": {
            "tags": []
          }
        }
      ]
    },
    {
      "metadata": {
        "id": "Wt1Y6yII5MRO",
        "colab_type": "text"
      },
      "cell_type": "markdown",
      "source": [
        "# Stretch Goal 1: Good and Bad Driver Behaviour"
      ]
    },
    {
      "metadata": {
        "id": "brLMx5rb5Vmf",
        "colab_type": "text"
      },
      "cell_type": "markdown",
      "source": [
        "For this stretch goal, I focused on changing the original switching lanes function, to reflect good and bad driver behaviour. \n",
        "The original switching lanes function serves as good driver behaviour, because the driver looks back to see if there is enough space behind him/her so as to not cause traffic if he/ she switches lanes. \n",
        "In the bad driver behaviour, the driver does not look back at all, and switches definitely if the space in front in the other lane is more than the space in his current lane.\n",
        "\n",
        "For this analysis, I would be using a 2-lane model."
      ]
    },
    {
      "metadata": {
        "id": "xwLEw2o26VxS",
        "colab_type": "text"
      },
      "cell_type": "markdown",
      "source": [
        "## Traffic jams"
      ]
    },
    {
      "metadata": {
        "id": "luO2CSX-6OaN",
        "colab_type": "text"
      },
      "cell_type": "markdown",
      "source": [
        "### Good driver behaviour"
      ]
    },
    {
      "metadata": {
        "id": "wK_VgP-z5U63",
        "colab_type": "code",
        "outputId": "c61c76c6-1e7b-43e3-eea7-fcdcc6d60902",
        "colab": {
          "base_uri": "https://localhost:8080/",
          "height": 2720
        }
      },
      "cell_type": "code",
      "source": [
        "for i in [0.2, 0.5, 0.8]:\n",
        "    sim = TrafficSimulation(traffic_density = i,num_lanes = 2)\n",
        "    print('When density is {0}'.format(i))\n",
        "    print ('\\n')\n",
        "    traffic_jam_display(sim)\n",
        "    print ('\\n')"
      ],
      "execution_count": 0,
      "outputs": [
        {
          "output_type": "stream",
          "text": [
            "When density is 0.2\n",
            "\n",
            "\n",
            "Initial State\n",
            "..355........4..5...2...5.44......3.......3.2...4.3..........24.1....1....0.......5.................\n",
            "..1..21.......3....3.0....4...3.......1...4.5.4.0....5.0.4..........................5....20......4..\n",
            "\n",
            "\n",
            "--------------------\n",
            "Simulation Starts\n",
            "--------------------\n",
            "..00....4.....1....3..2.0.0.....5....3....0...2.0....3.......00..1.....2..0...........4.....3.......\n",
            ".4..20.1..........40..1.....2.....4....1..0.0..10.....1.1....4..........................4..1........\n",
            "\n",
            "\n",
            "..0.1........5.1.....20.0..1........4....4.1...1.1.......4...0.1..1.....1.0................5...3....\n",
            "..1.00...2........00...1......2......3...2.1.1.0.1.....1..2......4........................2.1.......\n",
            "\n",
            "\n",
            "...1.1.......0..1....0.1.1...2..........40..1...1..2........3.1..2.1....0.0..................2....3.\n",
            "...100.....2......0.1...1.......2.......30.0..1.1..2.....2...3.......4....................0...2.....\n",
            "\n",
            "\n",
            ".3..1..2.....0...1...0..1.1.....3.......00....2..1...2......0..1.0...2..0..1...................2....\n",
            "...000........3....1.1....2........3....00..1.0...2..2......3....4........5...............0.....2...\n",
            "\n",
            "\n",
            "..1...2...3..0....1...1.0..1........4...00......2..2....3....1.0.0....1.0...1.....................3.\n",
            "...000............40..1.....2..........400...10.....2..2.......3.....4........4............1......2.\n",
            "\n",
            "\n",
            ".3.1.....3..20......2..10....2........2.0.1......1....3....3.0..1.1....10....1......................\n",
            ".3.000............00....2.....2........000...00......1...2.........4......5........5........1.......\n",
            "\n",
            "\n",
            ".0..1......2..1......1.00......2.......10..1.......2......4.1.1.0..1...0.1.....2....................\n",
            "..1000........2...0.1.....2......3.....000...0.1.......2...2...........4.......5.......4.....1......\n",
            "\n",
            "\n",
            "..1..1......1...2....0.0.1........3....0.1..1........2.....10..1.1...2.0...2......3.................\n",
            "..0000..........2..1.1......2........4.000....1.1.........3..2..............5.......5.......5..2....\n",
            "\n",
            "\n",
            "...1..1......1.....3.0..1.1..........3..1.1...2.........3..0.1.0...2..10......3......3..........4...\n",
            "..000.1...........2.1..2......2.......1000....0...2.........2..2.................5......4.........3.\n",
            "\n",
            "\n",
            ".5...2.1......1....0..1.0...2..........2.1..2....3.......1..10..1....200.........3......3...........\n",
            ".3000..1...........1.1...2.......3....000.1....1.....3.......1....3...................5......5......\n",
            "\n",
            "\n",
            "\n",
            "\n",
            "When density is 0.5\n",
            "\n",
            "\n",
            "Initial State\n",
            "23.2.1.5....4......4.004...4551..31.5.42.....1...4.5335.44105.0.2..3441.1.5......3.25.221.03455.2...\n",
            "..0..0..40.5...04..5.54.0..30..132....32..1.4....23.3.2.303234.33.3..5.3252..3...505.24.1403....3.3.\n",
            "\n",
            "\n",
            "--------------------\n",
            "Simulation Starts\n",
            "--------------------\n",
            "0.1.1.1...3.....4...100...3000.1.0.10.0..2.....2.0.0000.00000.0..1.0000..1....4...100.00.10000.1...3\n",
            ".3.1.0..00....30..2.10.1.1.0.1.00..2..0.1.0....3.00.0..100000.10.1.1..1000.1....300.100.000....40...\n",
            "\n",
            "\n",
            "0..10...2.....4...2.00.1..0000.0.0.00.0.....3..0..1000.10000.1.1..1000.1...2.....300.10.10000.1..2.0\n",
            ".0.0.0..0.1...0.1.0.0.1.1.1.1.10.1...2.1.10.....100..1.00000.100..1.1.000.1.1...000.000.00.1...0.1..\n",
            "\n",
            "\n",
            "0..0.1....2.....2.0.00..1.0000..10.00.0.......2.1.0000.00000..1..2000.1..2...2...00.100.00000...2.10\n",
            "..10.0...1.1..0..1.1.1.1.10.0.00..1..0.0.00.....00.1.0.00000.00.1..1.100.1.1.1..00.1000.00...2.0...2\n",
            "\n",
            "\n",
            ".1.0..1......3..0.0.0.1..10000..00.0.10........1.10000.0000.1..1.000.1..2...3..2.0.100.10000.1..0.00\n",
            ".20.1.1..0...2.1..10..10.00..100...1..1.10.1....0.1.1.100000.0.1.1..1000.0.0..1.0.1000.100...0..1...\n",
            "\n",
            "\n",
            "10..1...2.....1.0.0..1..200000..00..10.1.......0.00000.0000..1.0.000..1...2...20..1000.0000.1..20.0.\n",
            ".00..1..20...0...200..0.100..00.1....20.0.1.1...0..1.1000000.0.0...2000.10.0..0..1000.1000...0...1..\n",
            "\n",
            "\n",
            "00...1....2...0.0..1..1.00000.1.0.1.0.1..2.....0.00000.0000...10.000...1.....300..0000.0000...20.10.\n",
            ".00....20.1..0...00.1..1000..0.1.1...0.10.0..1...1..1000000.1.10...000.100.0...1.000.10000....1....2\n",
            "\n",
            "\n",
            "00....1......30.0....2.100000.0.0.0.0...2..2...0.0000.10000...00.000....1....000..000.10000...0.100.\n",
            "10.1...00..1.0...00..1.0000...1.1.1..0.0.10...1....2000000.10.0.1..000.00.1.1..0.00.100000......2...\n",
            "\n",
            "\n",
            "0.1.....2....00.0.....100000.1.10.0.0.....2..2.0.000.10000.1..00.00.1....1...000..000.0000.1..0.00.1\n",
            "0.1.1..0.1.0..1..0.1..10000...0..1..2.1.10.1...1...000000.100..1.1.000.0.10..1.0.00.00000.1.......2.\n",
            "\n",
            "\n",
            "0..1......2..00.0.....000000.0.0.1.10.......2.1.100.10000.1.1.00.0.1..2....2.00.1.00.1000.1.1..10.10\n",
            ".10..1..1.10...1..1.1.0000.1..0....2.10.0.1..2...2.000000.000...1.100.10.00..0.0.0.100000..1.......1\n",
            "\n",
            "\n",
            ".1...2......20.10.....00000.10..10.00.......0.0.00.100000..10.0.1.1.1...2...10.10.0.10000.0...200.00\n",
            "10.1...20.00.....2.10.000.1.1..1...0.00..1..2..2..100000.100.1..0.00.10.10.1..1.1.1000000...1.......\n",
            "\n",
            "\n",
            "\n",
            "\n",
            "When density is 0.8\n",
            "\n",
            "\n",
            "Initial State\n",
            "1..25302303.1410.4.5..05451551.1250001053213310.121235..3344242.100.01.5..21302.545311.0.4512013330.\n",
            "23535435..003.320031..101301100.3124525..333.3..0.5..24400.03423.23220510.3315.100.5532532503223545.\n",
            "\n",
            "\n",
            "--------------------\n",
            "Simulation Starts\n",
            "--------------------\n",
            ".1.00000000.000.10...200000000.0000000000000000.00000.1.000000.100.10.1.1.0000.100000.10.000000000.1\n",
            "0000000..200.100000..200000000.1000000.1.00.1.1.0...20000.100000.00000000.0000.000.0000000000000000.\n",
            "\n",
            "\n",
            ".0.00000000.00.10.1..00000000.10000000000000000.0000.10.00000.1000.0.10.0.000.100000.10.1000000000.0\n",
            "0000000..00.100000.1.000000000.0000000..10.1.1.1.1..0000.100000.100000000.0000.000.000000000000000.1\n",
            "\n",
            "\n",
            "10.0000000.100.00...200000000.0000000000000000.10000.00.00000.000.10.00..1000.00000.100.000000000.1.\n",
            "0000000..0.1000000..1000000000.000000.1.0.1.1.1.1.1.0000.000000.000000000.000.1000.000000000000000.0\n",
            "\n",
            "\n",
            "0.1000000.100.100...00000000.1000000000000000.100000.00.0000.100.100.00..000.10000.1000.000000000..1\n",
            "0000000..0.000000.1.0000000000.000000.0..10..1.10.0.0000.000000.00000000.1000.000.100000000000000.10\n",
            "\n",
            "\n",
            ".1000000.100.1000...00000000.0000000000000000.000000.00.000.1000.00.100..00.100000.000.1000000000..0\n",
            "000000.1.0.00000.1.10000000000.00000.1.1.00..0.00..1000.1000000.00000000.0000.00.1000000000000000.00\n",
            "\n",
            "\n",
            ".0000000.000.000.1..0000000.1000000000000000.1000000.0.100.1000.10.100.1.00.00000.1000.0000000000..0\n",
            "00000.1.10.0000.10.0000000000.10000.10..100...10.1.000.1000000.10000000.10000.00.0000000000000000.00\n",
            "\n",
            "\n",
            "10000000.000.000...2000000.1000000000000000.10000000..1000.0000.00.000..10.100000.000.1000000000.1..\n",
            "00000..100.0000.0.10000000000.0000.10.1.000...00.0.00.10000000.0000000.10000.100.000000000000000.100\n",
            "\n",
            "\n",
            "00000000.000.000...000000.1000000000000000.10000000.1.0000.0000.0.100.1.00.00000.100.1000000000.1..2\n",
            "0000.1.000.0000..10000000000.10000.00..1000...00..100.00000000.000000.10000.100.100000000000000.1000\n",
            "\n",
            "\n",
            "0000000.100.1000...000000.000000000000000.100000000..10000.000.10.00.10.00.00000.00.10000000000...20\n",
            "0000.0.000.000.1.00000000000.0000.100..000.1..00..00.100000000.000000.00000.00.1000000000000000.0000\n",
            "\n",
            "\n",
            "000000.1000.000.1..00000.100000000000000.100000000.1.0000.1000.00.00.0.10.10000.10.100000000000...00\n",
            "0000..100.100.10.00000000000.0000.00.1.00.1.1.0.1.0.1000000000.00000.10000.10.10000000000000000.0000\n",
            "\n",
            "\n",
            "\n",
            "\n"
          ],
          "name": "stdout"
        }
      ]
    },
    {
      "metadata": {
        "id": "r7dJzudv6Yxy",
        "colab_type": "text"
      },
      "cell_type": "markdown",
      "source": [
        "### Bad driver behaviour"
      ]
    },
    {
      "metadata": {
        "id": "wuu2Doj06e3Q",
        "colab_type": "code",
        "outputId": "b4337f7b-4ffd-4e8b-8f33-f5887d5719da",
        "colab": {
          "base_uri": "https://localhost:8080/",
          "height": 2720
        }
      },
      "cell_type": "code",
      "source": [
        "for i in [0.2, 0.5, 0.8]:\n",
        "    sim = TrafficSimulation(traffic_density = i,num_lanes = 2, good_behaviour = False)\n",
        "    print('When density is {0}'.format(i))\n",
        "    print ('\\n')\n",
        "    traffic_jam_display(sim)\n",
        "    print ('\\n')"
      ],
      "execution_count": 0,
      "outputs": [
        {
          "output_type": "stream",
          "text": [
            "When density is 0.2\n",
            "\n",
            "\n",
            "Initial State\n",
            "3..............4..0.540....4..0.5.4..3..1.3...........1.....0..............4............5..00......5\n",
            "...15..1.5...2..........2............4.3......4.5...035.5........0.....52...3..5...........3........\n",
            "\n",
            "\n",
            "--------------------\n",
            "Simulation Starts\n",
            "--------------------\n",
            "..20..2.1.....5........1............2...3....30...2..1..2....1....1.......30...3..........20........\n",
            "...4.........0...20.0..2..2..2.1...3..10..2..........00......5.............3.......4.......0.1......\n",
            "\n",
            "\n",
            "..0.1....1......200......2.1.0...2..0.0....3.......1...2..2....2..........00......3.......0.1.......\n",
            ".....2...3....1......1....3..........2..1..1.0.1.....0.1.........4..2..........4.......4....1.1.....\n",
            "\n",
            "\n",
            ".....1.....2......0.........3.......0.0.....1.1.....1.....3.....1.....5.....1........3.....1.1......\n",
            "..0....2.....40.00....1...0.10......3..2..2.1....2...0...2...3........2...0.........5......40..1....\n",
            "\n",
            "\n",
            ".......2...0.0.1.1.1....2.......4...0.0..2..0...2...00.......3...1.........5..2..........4.0.0...2..\n",
            "..0......2........1.......0.00..........4.0...2.....3.......3...3........3.1.............5.0.1......\n",
            "\n",
            "\n",
            "..........3.......1......1.1.1.........1...20......300.........2...2.........2...3........1.1.1....2\n",
            "...1......10.0..1.0.1........0.....30...0..1....2.......4.....2....3.....0...2...........0.0...2....\n",
            "\n",
            "\n",
            ".2........00..1....1........1..2......3.1..0.1.......0.......5...2...2..........3....4.....1...1....\n",
            "....1......1.....1.1..2...1..0......0...0...1....1.0.1...........3.....4..1.....3........0.0..2..2..\n",
            "\n",
            "\n",
            "....3.....00....2...1....3...1....3...0..1.0..1....2..1........2...2.0.....4........4.....5..2..1...\n",
            ".....1.......2...0...2......20.......1...1....2....0...2.............4......2.......4.....10...1...2\n",
            "\n",
            "\n",
            ".......3....1......3.1......3.1......3.1.0.0...1.....2.1...........0..1.........5........5.1...2..2.\n",
            ".2....1....1....3.1....2....00........1...1......3..1.....3.......3......4....2.........4.0.1...1...\n",
            "\n",
            "\n",
            "2..2.......4..2.....4..2........4......2.0.....0....3...1....3.........1.....4......4.....1..2..1...\n",
            ".......1....1.....0..2....3.00..2.....0..20.1.......0...3.........0.1...........2.......0.0..1....2.\n",
            "\n",
            "\n",
            "......3.....1....3...1..1..10........5..10.1....1.....2..1......3..1..............5.....4...2.1..1..\n",
            "...3.....2....2....1...2......1....3..0....2..2......1......4........1..1..........3....0..1...2..0.\n",
            "\n",
            "\n",
            "\n",
            "\n",
            "When density is 0.5\n",
            "\n",
            "\n",
            "Initial State\n",
            "50.2..2....0.32....0.2....1.43.24.1.0.41...1015..12.....3550.135044..02...3..1.0.0044.2..521..0...35\n",
            "02.....53..1.2...50..211...2....3415.2..444.352..3.1...50....01.33.....203305541...2.11..05...02231.\n",
            "\n",
            "\n",
            "--------------------\n",
            "Simulation Starts\n",
            "--------------------\n",
            "0.1...0..2.0.0.1.0.0.0..2...2..0.10.0..000.000..200.1.....20.0000...3.00.10.10.0..000...200.1.00.100\n",
            "00....3..1..1...3.0..0..1..00..2000.10..2.0.00.1....3..000.1.00.00.1..1..00.0000.0..10.1.0...3.1.00.\n",
            "\n",
            "\n",
            ".1..2..1..10...0..10..1...2...2.10.10..000.00.1...0..1.00.0.100000..0.00.00.00.0...000..0.1.0.00.000\n",
            "00......2..20.1.0.0...1..1.00..0000.00...1.10.100.1....3..10.00..1...2..20.10000.0.1..20.0.1..1.10.1\n",
            "\n",
            "\n",
            "1.1.....1.000...1.00...1..0.1.0.0.100...0.100.00..0...10.1.1000.00..0...10.100..1..0.0.10..10.0.100.\n",
            "00.....3.1...20..1.1...1..1.0..0000.0.1.1.100..10..1....1.0.1000..1..00.0.100000.0.0.1..1.1..2.10.10\n",
            "\n",
            "\n",
            ".1.1.....1..0.1.0.00....1.0.0..10.00.1...1000.00...1...0.0.0000..0..0.1.00.0000..1..10.00....1.1000.\n",
            "00.....0.000...1..1.1....20..1.0000..10.0.00.1.00....20..10.00000..1...10.000.1.1.10..1.0.00.0.0.100\n",
            "\n",
            "\n",
            ".0...2...0.1..0..100....0..10..0.100.00..0000.00...0.0.0.0.0000.10....0.00.000.1.0..2.10.1.1.0.00000\n",
            "0.1.....1.10.1..1..1.1...00...1000.1...2.100..10.1.....1.0.100.10..00..0.100.10..1.0.10..1..10..100.\n",
            "\n",
            "\n",
            "10......30...2.1..00....0.1.0..0.000..0..0000.00......1.1.10000.0.1.1..100.00.1.10..0.0.10.0..10000.\n",
            ".1..2....10.1..200..1..2..0.1.000.1.10..100.1.0.1.1.1..0.0.00.10.1..0..0.000.00...10.0.1..1.0.1.00.1\n",
            "\n",
            "\n",
            "0.1.....000..0.00..0..2.0.0.0...1000.1.1.0000.00.1.1..0.0.00000..1.1..200.10.1.1.0.1.1.1.0.0..00000.\n",
            "..1....3..1..1.0.00......20..1000...2.1.00.1.1.1.....1.0.0.0.100...2.1..100.100..1..1.10.1.1.1.10.10\n",
            "\n",
            "\n",
            "0...2....0.1.0.000.......10.000..1.0.0..10000.00.....2.10.00000..0..1..0.10.10..10.0..1.10.0..00000.\n",
            "1..1...00...2.1.1.0.1..1.00....000.10..10.1.10..1.1...10.0.0.00.1...100.00.1000...1.0.00..10..100.0.\n",
            "\n",
            "\n",
            ".1...1.0...0.0.0000..1...0.1..00.0..1.1.00000..0.1...0.00.00000..0..00.0.0.10.1...1.1...20..1.00000.\n",
            "..2..2..0.1..1.1.1......10.10.1.0.10.1.0.1.1000....1..00..10.00...2.0..10.10000..10..1000.00..000..1\n",
            "\n",
            "\n",
            "..1..0.00...1.100.1...1...1..20.100.0..100000.1....2..10.100000..0..0.10..100..1...1000.000..100.10.\n",
            ".2..2..2...1..10.0.1....00.00..10...1.1.1.100.0.1....200..00.0.1..0.0..0.100000..00....00..0..0000..\n",
            "\n",
            "\n",
            "\n",
            "\n",
            "When density is 0.8\n",
            "\n",
            "\n",
            "Initial State\n",
            "1414354201.44335353.205155.014234320...312242134032..31.1020..03.24.135...253..1.51.2312151052301001\n",
            "235210214.02.52214.525.34.313154..5.3155114.43031200044.0.04145152.34522.404.434552.11435405...1.2.2\n",
            "\n",
            "\n",
            "--------------------\n",
            "Simulation Starts\n",
            "--------------------\n",
            "000000000.10000000.1000000.00000.00000.000000000000.100.00000.0.100.000.1.000.10.00.00000000..000000\n",
            "000000000.00.00000.00.100.000000.1..2.00000.0000000.00.10.0.10000.1000..200..20000.10000000000.0..10\n",
            "\n",
            "\n",
            "00000000.100000000.000000.100000.0.00.1000000000000.00.100000.0.000.00.10.0..10.100.000000000.0.1000\n",
            "00000000.10.100000.0.1000.00000.10.1.10000.1000000.100.00..10000.10000..000.10000.100000000.10.00.00\n",
            "\n",
            "\n",
            "0000000.100000000.100000.1000000.0.0.1000000000000.100.0.100.1.100.10.10.10..00.000.00000000.10.0000\n",
            "00000000.0.1000000.0.0000.0000.10.1.10000.1000000.1000.00.100000.0000.1.00.10000.100000000.10.100.00\n",
            "\n",
            "\n",
            "0000000.000000000.00000.1000000.1.1.1000000000000.100.10.000..1000.00.00.000.00.000.00000000.00.0000\n",
            "0000000.10.000000.1.1000.1000.10.10.00000.0000000.0000.00.000000.0000.0.0.1.0000.00000000.10.100.100\n",
            "\n",
            "\n",
            "000000.100000000.10000.10000000.0..1000000000000.1000.0.10000.000.100.0.100.100.00.100000000.00.0000\n",
            "000000.10.100000.10.0000.000.100.00.0000.10000000.0000.00.0.1000.000.1.1.10.0000.0000000.10.1000.000\n",
            "\n",
            "\n",
            "00000.100000000.10000.10000000.100.0000000000000.000.1.10000.1000.00.1.1000.00.100.00000000.10.10000\n",
            "000000.00.00000.10.10000.00.1000...10000.00000000.000.100..1000.1000.0.0.0.1000.1000000.100.000.1000\n",
            "\n",
            "\n",
            "0000.1000000000.00000.0000000.10.0.000000000000.1000.0.0.10.1000.100..1000.100.000.0000000.100.00000\n",
            "00000.10.10000.100.00000.0.10000.1.0000.100000000.00.10000.0000.0000.0.0.0.000.10000000.00.100.10000\n",
            "\n",
            "\n",
            "0000.000000000.100000.000000.10.10.000000000000.0000..1.10.10000.000..000.100.1000.0000000.00.100000\n",
            "0000.100.00000.00.100000..100000..10000.000000000.0.10000.1000.10000..10.0.00.100000000.00.000.00000\n",
            "\n",
            "\n",
            "0000.00000000.1000000.0.1000.0.1.0.000000000000.0000.1.10.100000.000..00.1000.0000.0000000.0.1000000\n",
            "0000.00.100000.00.0000000.000000.10000.1000000000.0..0000.000.10000.1.00..10.1000000000.0.100.100000\n",
            "\n",
            "\n",
            "0000.0000000.10000000..1000.10.0..1000000000000.000.10.0.100000.1000..00.0000.0000.0000000..10000000\n",
            "000.10.100000.100.000000.1000000.00000.0000000000.0..0000.000.0000.1.100..0.1000000000.10.000.000000\n",
            "\n",
            "\n",
            "\n",
            "\n"
          ],
          "name": "stdout"
        }
      ]
    },
    {
      "metadata": {
        "id": "hchI4NBf6bpr",
        "colab_type": "text"
      },
      "cell_type": "markdown",
      "source": [
        "## Traffic flow"
      ]
    },
    {
      "metadata": {
        "id": "r43EoONf6fZi",
        "colab_type": "code",
        "outputId": "ecefd1b0-763c-4586-eaac-adcf1866b2ae",
        "colab": {
          "base_uri": "https://localhost:8080/",
          "height": 412
        }
      },
      "cell_type": "code",
      "source": [
        "densities = np.arange(0,0.8,0.1)\n",
        "num_simulations = 100\n",
        "num_steps = 200\n",
        "num_lanes = 2\n",
        "good_behaviour = [True, False]\n",
        "\n",
        "for i in good_behaviour:\n",
        "    results = run_experiment(num_simulations, num_steps, TrafficSimulation, densities, num_lanes, i)\n",
        "    plotting_means_and_CI(*results,'Good behaviour = {0}'.format(i))\n",
        "    print(results[1])\n",
        "   \n",
        "plt.legend()"
      ],
      "execution_count": 0,
      "outputs": [
        {
          "output_type": "stream",
          "text": [
            "[0.0, 0.38595, 0.312525, 0.27615, 0.240625, 0.20382499999999998, 0.16662500000000002, 0.128575]\n",
            "[0.0, 0.230625, 0.25785, 0.257075, 0.23904999999999998, 0.20764999999999997, 0.173275, 0.135225]\n"
          ],
          "name": "stdout"
        },
        {
          "output_type": "execute_result",
          "data": {
            "text/plain": [
              "<matplotlib.legend.Legend at 0x7fc60a5c7400>"
            ]
          },
          "metadata": {
            "tags": []
          },
          "execution_count": 107
        },
        {
          "output_type": "display_data",
          "data": {
            "image/png": "[encoded data removed]",
            "text/plain": [
              "<Figure size 576x396 with 1 Axes>"
            ]
          },
          "metadata": {
            "tags": []
          }
        }
      ]
    },
    {
      "metadata": {
        "id": "pC6n4i-u9qOW",
        "colab_type": "text"
      },
      "cell_type": "markdown",
      "source": [
        "From the graph above, we can see that with bad driver behaviour, traffic flow is greatly reduced in comparison to good driver behaviour. The implications of this result in relation to self-driving cars would be discussed in the report.\n",
        "\n"
      ]
    }
  ]
}