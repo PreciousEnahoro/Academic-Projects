{
 "cells": [
  {
   "cell_type": "code",
   "execution_count": 20,
   "metadata": {},
   "outputs": [
    {
     "name": "stdout",
     "output_type": "stream",
     "text": [
      "Coefficients: \n",
      " [0.27205835]\n",
      "Mean squared error: 76.60\n",
      "R^2 score: -0.31\n",
      "Mean absolute error: 7.77\n",
      "Median absolute error: 7.77\n"
     ]
    },
    {
     "data": {
      "image/png": "[encoded data removed]",
      "text/plain": [
       "<Figure size 432x288 with 1 Axes>"
      ]
     },
     "metadata": {},
     "output_type": "display_data"
    }
   ],
   "source": [
    "#Facebook Classification\n",
    "\n",
    "import matplotlib.pyplot as plt\n",
    "import numpy as np\n",
    "from sklearn import datasets, linear_model\n",
    "from sklearn.metrics import mean_squared_error, r2_score, mean_absolute_error, median_absolute_error\n",
    "import pandas as pd\n",
    "import numpy as np\n",
    "\n",
    "data = pd.read_csv(\"facebook_train.csv\")\n",
    "test = pd.read_csv(\"facebook_test.csv\")\n",
    "\n",
    "followers = data['total_followers']\n",
    "paid = data['paid']\n",
    "category = data['category']\n",
    "months = data['month']\n",
    "weekdays = data['weekday']\n",
    "hours = data['hour']\n",
    "comments = data['comment']\n",
    "\n",
    "paid_t = test['paid']\n",
    "months_t = test['month']\n",
    "weekdays_t = test['weekday']\n",
    "comments_t = test['comment']\n",
    "category_t = test['category']\n",
    "\n",
    "#Load datasets\n",
    "i_v = np.array(paid+weekdays+months).reshape(-1,1) #training\n",
    "i_v_t = np.array(paid_t+weekdays_t+months_t).reshape(-1,1) #test\n",
    "\n",
    "# # Create linear regression object\n",
    "regr = linear_model.LinearRegression()\n",
    "\n",
    "# # # Train the model using the training sets\n",
    "regr.fit(i_v, comments)\n",
    "\n",
    "# Make predictions using the testing set\n",
    "comments_pred = regr.predict(i_v_t)\n",
    "\n",
    "# The coefficients\n",
    "print('Coefficients: \\n', regr.coef_)\n",
    "# The mean squared error\n",
    "print(\"Mean squared error: %.2f\"\n",
    "      % mean_squared_error(comments_t, comments_pred))\n",
    "# Explained variance score: 1 is perfect prediction\n",
    "print('R^2 score: %.2f' % r2_score(comments_t, comments_pred))\n",
    "#Mean absolute error (MAS)\n",
    "print(\"Mean absolute error: %.2f\"\n",
    "      % mean_absolute_error(comments_t, comments_pred))\n",
    "#Median absolute error\n",
    "print(\"Median absolute error: %.2f\"\n",
    "      % mean_absolute_error(comments_t, comments_pred))\n",
    "\n",
    "# Plot outputs\n",
    "plt.scatter(i_v_t, comments_t,  color='black')\n",
    "plt.plot(i_v_t, comments_pred, color='blue', linewidth=3)\n",
    "plt.xticks(())\n",
    "plt.yticks(())\n",
    "plt.show()"
   ]
  },
  {
   "cell_type": "code",
   "execution_count": 23,
   "metadata": {},
   "outputs": [
    {
     "data": {
      "text/plain": [
       "0.8036292186777624"
      ]
     },
     "execution_count": 23,
     "metadata": {},
     "output_type": "execute_result"
    }
   ],
   "source": [
    "from numpy import array, argmax\n",
    "from sklearn.preprocessing import LabelEncoder, OneHotEncoder\n",
    "from sklearn.model_selection import train_test_split\n",
    "from sklearn.svm import SVC\n",
    "label_encoder = LabelEncoder()\n",
    "\n",
    "casualty = pd.read_csv(\"casualty_train.csv\")\n",
    "casualty = casualty.dropna()\n",
    "\n",
    "severe= np.array(casualty['severe'])\n",
    "severe = label_encoder.fit_transform(severe)\n",
    "\n",
    "gender= np.array(casualty['gender'])\n",
    "gender = label_encoder.fit_transform(gender)\n",
    "\n",
    "age= np.array(casualty['age'])\n",
    "age = label_encoder.fit_transform(age)\n",
    "\n",
    "casualty_class= np.array(casualty['casualty_class'])\n",
    "casualty_class=label_encoder.fit_transform(casualty_class)\n",
    "\n",
    "travel= np.array(casualty['travel'])\n",
    "travel = label_encoder.fit_transform(travel)\n",
    "\n",
    "year= np.array(casualty['year'])\n",
    "year = label_encoder.fit_transform(year)\n",
    "\n",
    "pedestrian_location= np.array(casualty['pedestrian_location'])\n",
    "pedestrian_location=label_encoder.fit_transform(pedestrian_location)\n",
    "\n",
    "pedestrian_movement= np.array(casualty['pedestrian_movement'])\n",
    "pedestrian_movement=label_encoder.fit_transform(pedestrian_movement)\n",
    "\n",
    "variables = pd.DataFrame(age, gender)\n",
    "variables\n",
    "\n",
    "X_train, X_test, y_train, y_test = train_test_split(variables, severe, test_size=0.4, random_state=0)\n",
    "\n",
    "clf = SVC(kernel='linear', C=1).fit(X_train, y_train)\n",
    "clf.score(X_test, y_test)     "
   ]
  },
  {
   "cell_type": "code",
   "execution_count": 56,
   "metadata": {},
   "outputs": [],
   "source": [
    "from numpy import array\n",
    "from numpy import argmax\n",
    "import pandas as pd\n",
    "import numpy as np\n",
    "from sklearn.preprocessing import LabelEncoder\n",
    "from sklearn.preprocessing import OneHotEncoder\n",
    "label_encoder = LabelEncoder()\n",
    "from sklearn.svm import SVC\n",
    "\n",
    "casualty_t = pd.read_csv(\"casualty_test.csv\")\n",
    "casualty_t = casualty_t.dropna()\n",
    "\n",
    "severe_t= np.array(casualty_t['severe'])\n",
    "severe_t = label_encoder.fit_transform(severe_t)\n",
    "\n",
    "gender_t= np.array(casualty_t['gender'])\n",
    "gender_t = label_encoder.fit_transform(gender_t)\n",
    "\n",
    "age_t= np.array(casualty_t['age'])\n",
    "age_t = label_encoder.fit_transform(age_t)\n",
    "\n",
    "casualty_class_t= np.array(casualty_t['casualty_class'])\n",
    "casualty_class_t=label_encoder.fit_transform(casualty_class_t)\n",
    "\n",
    "travel_t= np.array(casualty_t['travel'])\n",
    "travel_t = label_encoder.fit_transform(travel_t)\n",
    "\n",
    "year_t= np.array(casualty_t['year'])\n",
    "year_t = label_encoder.fit_transform(year_t)\n",
    "\n",
    "pedestrian_location_t= np.array(casualty_t['pedestrian_location'])\n",
    "pedestrian_location_t=label_encoder.fit_transform(pedestrian_location_t)\n",
    "\n",
    "pedestrian_movement_t= np.array(casualty_t['pedestrian_movement'])\n",
    "pedestrian_movement_t=label_encoder.fit_transform(pedestrian_movement_t)\n",
    "\n",
    "variables = pd.DataFrame(age, gender)\n",
    "variables_t = pd.DataFrame(age_t, gender_t)\n",
    "\n",
    "# clf = SVC(kernel='linear', C=1).fit(variables, severe)\n",
    "clf = SVC(kernel='linear', C=1, probability = True)\n",
    "clf.fit(variables, severe)  \n",
    "severe_pred = clf.predict(variables_t)"
   ]
  },
  {
   "cell_type": "code",
   "execution_count": 68,
   "metadata": {},
   "outputs": [
    {
     "name": "stderr",
     "output_type": "stream",
     "text": [
      "/anaconda3/lib/python3.6/site-packages/sklearn/metrics/classification.py:1135: UndefinedMetricWarning: Precision is ill-defined and being set to 0.0 due to no predicted samples.\n",
      "  'precision', 'predicted', average, warn_for)\n",
      "/anaconda3/lib/python3.6/site-packages/sklearn/metrics/classification.py:1135: UndefinedMetricWarning: Precision and F-score are ill-defined and being set to 0.0 in labels with no predicted samples.\n",
      "  'precision', 'predicted', average, warn_for)\n"
     ]
    },
    {
     "name": "stdout",
     "output_type": "stream",
     "text": [
      "0.8034291010194624 0.0 0.0 0.49204789223051637 0.2601523878757533 0.19478781938579484 0.5785007072135785\n",
      "(array([0.8034291, 0.       ]), array([1., 0.]), array([0.89100159, 0.        ]), array([8669, 2121]))\n"
     ]
    },
    {
     "data": {
      "image/png": "[encoded data removed]",
      "text/plain": [
       "<Figure size 432x288 with 1 Axes>"
      ]
     },
     "metadata": {},
     "output_type": "display_data"
    }
   ],
   "source": [
    "from sklearn.metrics import accuracy_score, precision_score, recall_score, roc_curve, roc_auc_score, precision_recall_curve,average_precision_score, precision_recall_fscore_support\n",
    "\n",
    "a_score = accuracy_score(severe_t, severe_pred, normalize=True)\n",
    "p_score = precision_score(severe_t, severe_pred)\n",
    "r_score = recall_score(severe_t, severe_pred)\n",
    "#p_f = precision_recall_fscore_support(severe_t, severe_pred)\n",
    "\n",
    "severe_scores = clf.predict_proba(variables_t)[:,1]\n",
    "\n",
    "fpr, tpr, thresholds = roc_curve(severe_t, severe_scores)\n",
    "\n",
    "r = roc_auc_score(severe_t, severe_scores)\n",
    "\n",
    "plt.plot(fpr,tpr)\n",
    "\n",
    "plt.xlabel('False Positive')\n",
    "plt.ylabel('True Positive')\n",
    "\n",
    "precision, recall, threshold_p = precision_recall_curve(severe_t, severe_scores)\n",
    "av_r_score= np.mean(recall)\n",
    "av_p_score= np.mean(precision)\n",
    "av_p_score_2 = average_precision_score(severe_t, severe_scores)\n",
    "\n",
    "print(a_score,p_score,r_score,r, av_p_score, av_p_score_2, av_r_score)\n",
    "#Why do I get prediction is ill-defined\n"
   ]
  },
  {
   "cell_type": "code",
   "execution_count": null,
   "metadata": {},
   "outputs": [],
   "source": []
  }
 ],
 "metadata": {
  "kernelspec": {
   "display_name": "Python 3",
   "language": "python",
   "name": "python3"
  },
  "language_info": {
   "codemirror_mode": {
    "name": "ipython",
    "version": 3
   },
   "file_extension": ".py",
   "mimetype": "text/x-python",
   "name": "python",
   "nbconvert_exporter": "python",
   "pygments_lexer": "ipython3",
   "version": "3.6.5"
  }
 },
 "nbformat": 4,
 "nbformat_minor": 2
}
