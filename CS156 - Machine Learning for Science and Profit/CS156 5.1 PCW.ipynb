{
 "cells": [
  {
   "cell_type": "code",
   "execution_count": 5,
   "metadata": {},
   "outputs": [],
   "source": [
    "from PIL import Image\n",
    "import PIL.ImageOps\n",
    "\n",
    "from collections import defaultdict\n",
    "from glob import glob\n",
    "from random import shuffle, seed\n",
    "import numpy as np\n",
    "import pylab as pl\n",
    "import pandas as pd\n",
    "import re\n",
    "from sklearn.decomposition import RandomizedPCA\n",
    "from sklearn.linear_model import LogisticRegression\n",
    "\n",
    "\n",
    "# this is the size of all the Target.com images\n",
    "STANDARD_SIZE = (138,138)\n",
    "HALF_SIZE = (STANDARD_SIZE[0]/2,STANDARD_SIZE[1]/2)\n",
    "\n",
    "def img_to_array(filename):\n",
    "    \"\"\"\n",
    "    takes a filename and turns it into a numpy array of RGB pixels\n",
    "    \"\"\"\n",
    "    img = Image.open(filename)\n",
    "    img = img.resize(STANDARD_SIZE)\n",
    "    img = list(img.getdata())\n",
    "    img = map(list, img)\n",
    "    img = np.array(img)\n",
    "    return img\n",
    "#     s = img.shape[0] * img.shape[1]\n",
    "#     img_wide = img.reshape(1, s)\n",
    "#     return img_wide[0]\n",
    "\n",
    "# my files are set up like \"images/girls/gapkids/image1.jpg\" and \"images/boys/oldnavy/image1.jpg\"\n",
    "jerseys = glob('Documents/Jersey - n03595614/*')\n",
    "shirts = glob('Documents/Shirt - n04197391/*')\n",
    "\n",
    "process_file = img_to_array\n",
    "\n",
    "raw_data = [(process_file(filename),'jersey',filename) for filename in jerseys] + \\\n",
    "           [(process_file(filename),'shirt',filename) for filename in shirts]\n"
   ]
  },
  {
   "cell_type": "code",
   "execution_count": 6,
   "metadata": {},
   "outputs": [
    {
     "data": {
      "text/plain": [
       "[]"
      ]
     },
     "execution_count": 6,
     "metadata": {},
     "output_type": "execute_result"
    }
   ],
   "source": [
    "raw_data"
   ]
  },
  {
   "cell_type": "code",
   "execution_count": null,
   "metadata": {},
   "outputs": [],
   "source": []
  }
 ],
 "metadata": {
  "kernelspec": {
   "display_name": "Python 3",
   "language": "python",
   "name": "python3"
  },
  "language_info": {
   "codemirror_mode": {
    "name": "ipython",
    "version": 3
   },
   "file_extension": ".py",
   "mimetype": "text/x-python",
   "name": "python",
   "nbconvert_exporter": "python",
   "pygments_lexer": "ipython3",
   "version": "3.6.5"
  }
 },
 "nbformat": 4,
 "nbformat_minor": 2
}
