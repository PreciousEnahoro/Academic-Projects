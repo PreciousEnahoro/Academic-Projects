{
 "cells": [
  {
   "cell_type": "code",
   "execution_count": 5,
   "metadata": {},
   "outputs": [
    {
     "name": "stdout",
     "output_type": "stream",
     "text": [
      "The probability of a positive test result is: 0.020\n",
      "The probability of a negative test result is: 0.980\n",
      "It is better to operate with a positive test result!\n",
      "It is better to ignore the negative test result!\n",
      "The expected utility of the test is: 94.050200\n"
     ]
    }
   ],
   "source": [
    "u = {\n",
    "     \"healthy\":100.0,\n",
    "     \"late-stage cancer\":-10000.0,\n",
    "     \"surgery\": -50.0,\n",
    "    }\n",
    "\n",
    "p = {\n",
    "     \"FP\": 0.01,  # False Positive\n",
    "     \"TP\": 0.01,  # True Positive\n",
    "     \"FN\": 0.0001,  # False Negative\n",
    "     \"TN\": 0.9799,  # True Negative\n",
    "     }\n",
    "\n",
    "assert 1.0 == p[\"FP\"]+p[\"TP\"]+p[\"FN\"]+p[\"TN\"]\n",
    "\n",
    "# Given the various outcomes of the test, we can infer stats on the test:\n",
    "p[\"positive\"] = p[\"TP\"] + p[\"FP\"]\n",
    "p[\"negative\"] = p[\"TN\"] + p[\"FN\"]\n",
    "\n",
    "print(\"The probability of a positive test result is: %0.3f\"%p[\"positive\"])\n",
    "print(\"The probability of a negative test result is: %0.3f\"%p[\"negative\"])\n",
    "\n",
    "\n",
    "# Calculate the expected utility of ignoring a positive test:\n",
    "expected_positive_ignore_utility = p[\"FP\"] * u[\"healthy\"] + p[\"TP\"]*u[\"late-stage cancer\"]\n",
    "\n",
    "# Calculate the expected utility of operating (given a positive test)\n",
    "# Also we assume that the surgery is 100% reliable:\n",
    "expected_positive_operate_utility = u[\"surgery\"]\n",
    "\n",
    "if expected_positive_ignore_utility > expected_positive_operate_utility:\n",
    "    print(\"It is better to ignore the positive test result!\")\n",
    "else:\n",
    "    print(\"It is better to operate with a positive test result!\")\n",
    "expected_positive = max(expected_positive_ignore_utility, expected_positive_operate_utility)\n",
    "\n",
    "expected_negative_ignore_utility = p[\"FN\"] * u[\"late-stage cancer\"] + p[\"TN\"]*u[\"healthy\"]\n",
    "\n",
    "# Calculate the expected utility of operating (given a negative test)\n",
    "# Also we assume that the surgery is 100% reliable:\n",
    "expected_negative_operate_utility = u[\"surgery\"]\n",
    "\n",
    "if expected_negative_ignore_utility > expected_negative_operate_utility:\n",
    "    print(\"It is better to ignore the negative test result!\")\n",
    "else:\n",
    "    print(\"It is better to operate with a negative test result!\")\n",
    "\n",
    "expected_negative = max(expected_negative_ignore_utility, expected_negative_operate_utility)\n",
    "\n",
    "expected_test_utility = p[\"positive\"]*expected_positive + p[\"negative\"]*expected_negative\n",
    "print(\"The expected utility of the test is: %f\" % expected_test_utility)"
   ]
  },
  {
   "cell_type": "code",
   "execution_count": 4,
   "metadata": {},
   "outputs": [
    {
     "data": {
      "text/plain": [
       "0.011"
      ]
     },
     "execution_count": 4,
     "metadata": {},
     "output_type": "execute_result"
    }
   ],
   "source": [
    "p[\"cancer\"] = p[\"TP\"] + p[\"FN\"]\n",
    "p[\"cancer\"]"
   ]
  },
  {
   "cell_type": "code",
   "execution_count": 2,
   "metadata": {},
   "outputs": [
    {
     "data": {
      "text/plain": [
       "24.134000000000015"
      ]
     },
     "execution_count": 2,
     "metadata": {},
     "output_type": "execute_result"
    }
   ],
   "source": [
    "100-expected_test_utility\n"
   ]
  },
  {
   "cell_type": "code",
   "execution_count": 8,
   "metadata": {},
   "outputs": [
    {
     "data": {
      "text/plain": [
       "0.989"
      ]
     },
     "execution_count": 8,
     "metadata": {},
     "output_type": "execute_result"
    }
   ],
   "source": [
    "1- 0.011\n"
   ]
  }
 ],
 "metadata": {
  "kernelspec": {
   "display_name": "Python 3",
   "language": "python",
   "name": "python3"
  },
  "language_info": {
   "codemirror_mode": {
    "name": "ipython",
    "version": 3
   },
   "file_extension": ".py",
   "mimetype": "text/x-python",
   "name": "python",
   "nbconvert_exporter": "python",
   "pygments_lexer": "ipython3",
   "version": "3.6.5"
  }
 },
 "nbformat": 4,
 "nbformat_minor": 2
}
