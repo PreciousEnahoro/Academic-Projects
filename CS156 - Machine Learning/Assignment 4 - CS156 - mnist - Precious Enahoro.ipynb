{
 "cells": [
  {
   "cell_type": "markdown",
   "metadata": {},
   "source": [
    "# Assignment 4 - CS156 - Precious Enahoro"
   ]
  },
  {
   "cell_type": "code",
   "execution_count": 6,
   "metadata": {},
   "outputs": [
    {
     "name": "stdout",
     "output_type": "stream",
     "text": [
      "Requirement already satisfied: tensorflow in /anaconda3/lib/python3.6/site-packages (1.11.0)\n",
      "Requirement already satisfied: absl-py>=0.1.6 in /anaconda3/lib/python3.6/site-packages (from tensorflow) (0.6.1)\n",
      "Requirement already satisfied: astor>=0.6.0 in /anaconda3/lib/python3.6/site-packages (from tensorflow) (0.7.1)\n",
      "Requirement already satisfied: six>=1.10.0 in /anaconda3/lib/python3.6/site-packages (from tensorflow) (1.11.0)\n",
      "Requirement already satisfied: setuptools<=39.1.0 in /anaconda3/lib/python3.6/site-packages (from tensorflow) (39.1.0)\n",
      "Requirement already satisfied: tensorboard<1.12.0,>=1.11.0 in /anaconda3/lib/python3.6/site-packages (from tensorflow) (1.11.0)\n",
      "Requirement already satisfied: keras-preprocessing>=1.0.3 in /anaconda3/lib/python3.6/site-packages (from tensorflow) (1.0.5)\n",
      "Requirement already satisfied: grpcio>=1.8.6 in /anaconda3/lib/python3.6/site-packages (from tensorflow) (1.16.0)\n",
      "Requirement already satisfied: gast>=0.2.0 in /anaconda3/lib/python3.6/site-packages (from tensorflow) (0.2.0)\n",
      "Requirement already satisfied: wheel>=0.26 in /anaconda3/lib/python3.6/site-packages (from tensorflow) (0.31.1)\n",
      "Requirement already satisfied: numpy>=1.13.3 in /anaconda3/lib/python3.6/site-packages (from tensorflow) (1.14.3)\n",
      "Requirement already satisfied: protobuf>=3.6.0 in /anaconda3/lib/python3.6/site-packages (from tensorflow) (3.6.1)\n",
      "Requirement already satisfied: termcolor>=1.1.0 in /anaconda3/lib/python3.6/site-packages (from tensorflow) (1.1.0)\n",
      "Requirement already satisfied: keras-applications>=1.0.5 in /anaconda3/lib/python3.6/site-packages (from tensorflow) (1.0.6)\n",
      "Requirement already satisfied: markdown>=2.6.8 in /anaconda3/lib/python3.6/site-packages (from tensorboard<1.12.0,>=1.11.0->tensorflow) (3.0.1)\n",
      "Requirement already satisfied: werkzeug>=0.11.10 in /anaconda3/lib/python3.6/site-packages (from tensorboard<1.12.0,>=1.11.0->tensorflow) (0.14.1)\n",
      "Requirement already satisfied: h5py in /anaconda3/lib/python3.6/site-packages (from keras-applications>=1.0.5->tensorflow) (2.7.1)\n",
      "\u001b[31mdistributed 1.21.8 requires msgpack, which is not installed.\u001b[0m\n",
      "\u001b[33mYou are using pip version 10.0.1, however version 18.1 is available.\n",
      "You should consider upgrading via the 'pip install --upgrade pip' command.\u001b[0m\n",
      "Extracting MNIST_data/train-images-idx3-ubyte.gz\n",
      "Extracting MNIST_data/train-labels-idx1-ubyte.gz\n",
      "Extracting MNIST_data/t10k-images-idx3-ubyte.gz\n",
      "Extracting MNIST_data/t10k-labels-idx1-ubyte.gz\n"
     ]
    }
   ],
   "source": [
    "!pip install tensorflow\n",
    "import matplotlib.pyplot as plt \n",
    "from tensorflow.examples.tutorials.mnist import input_data\n",
    "import numpy as np\n",
    "from sklearn.svm import SVC\n",
    "from sklearn.cross_validation import train_test_split\n",
    "from sklearn.metrics import accuracy_score\n",
    "import time\n",
    "from sklearn.model_selection import GridSearchCV\n",
    "\n",
    "#Importing data\n",
    "mnist = input_data.read_data_sets(\"MNIST_data/\")"
   ]
  },
  {
   "cell_type": "code",
   "execution_count": 4,
   "metadata": {},
   "outputs": [
    {
     "data": {
      "image/png": "[encoded data removed]",
      "text/plain": [
       "<Figure size 432x288 with 1 Axes>"
      ]
     },
     "metadata": {},
     "output_type": "display_data"
    },
    {
     "data": {
      "image/png": "[encoded data removed]",
      "text/plain": [
       "<Figure size 432x288 with 1 Axes>"
      ]
     },
     "metadata": {},
     "output_type": "display_data"
    }
   ],
   "source": [
    "#Splitting data into images and labels\n",
    "mnist_images = mnist.train.images\n",
    "mnist_labels = mnist.train.labels\n",
    "\n",
    "#Picking two number classes - 3 and 8\n",
    "\n",
    "data= np.concatenate((mnist_images[np.where(mnist_labels == 3)],mnist_images[np.where(mnist_labels == 8)])) #images\n",
    "labels = np.concatenate((mnist_labels[np.where(mnist_labels == 3)], mnist_labels[np.where(mnist_labels == 8)]))\n",
    "\n",
    "#Plotting examples\n",
    "\n",
    "#Plotting a 3\n",
    "first_image = data[0]\n",
    "first_image = np.array(first_image, dtype='float')\n",
    "pixels = first_image.reshape((28, 28)) #The reshape pixels are the squareroot of the image size\n",
    "plt.imshow(pixels, cmap='gray')\n",
    "plt.show()\n",
    "\n",
    "#Plotting an 8\n",
    "second_image = data[-1]\n",
    "second_image = np.array(second_image, dtype='float')\n",
    "pixels = second_image.reshape((28, 28))\n",
    "plt.imshow(pixels, cmap='gray')\n",
    "plt.show()"
   ]
  },
  {
   "cell_type": "code",
   "execution_count": 5,
   "metadata": {},
   "outputs": [
    {
     "name": "stdout",
     "output_type": "stream",
     "text": [
      "Linear\n",
      "Training time - 12.53911828994751 seconds\n",
      "Error rate: 0.01\n",
      "\n",
      "\n",
      "Poly\n",
      "Training time - 13.950353860855103 seconds\n",
      "Error rate: 0.00\n",
      "\n",
      "\n",
      "Rbf\n",
      "Training time - 81.89674401283264 seconds\n",
      "Error rate: 0.00\n",
      "\n",
      "\n"
     ]
    }
   ],
   "source": [
    "#Splitting data into training and test\n",
    "data_train, data_test, labels_train, labels_test = train_test_split(data, labels, test_size = 0.25, random_state = 0)\n",
    "\n",
    "#For loop that carries out the training of the model for the different kernels\n",
    "\n",
    "for i in ['linear', 'poly', 'rbf']:\n",
    "    \n",
    "    #Training start time\n",
    "    start= time.time()\n",
    "    \n",
    "    #Cross-validation of gamma and degree - important to get the least error rate for rbf and poly kernels\n",
    "    parameters = {'gamma':[1,3],'degree':[1, 3]}\n",
    "    svc = SVC(kernel= i)\n",
    "    clf = GridSearchCV(svc, parameters)\n",
    "    clf.fit(data_test, labels_test)\n",
    "    \n",
    "    #Training end time\n",
    "    end = time.time()\n",
    "    \n",
    "    #Predicting labels\n",
    "    labels_pred = clf.predict(data_test)\n",
    "    \n",
    "    #Printing training time and error rate for each kernel\n",
    "    print(i.title())\n",
    "    print('Training time -', end-start, 'seconds')\n",
    "    print(\"Error rate: %.2f\"\n",
    "      %(1- accuracy_score(labels_test, labels_pred, normalize=True)))\n",
    "    print('\\n')"
   ]
  },
  {
   "cell_type": "markdown",
   "metadata": {},
   "source": [
    "### Analysis of results\n",
    "\n",
    "For this classification problem, I used cross-validation to get the optimal *gamma* and *degree*, because according to the SVM kernel documentation (http://scikit-learn.org/stable/modules/svm.html#svm-kernels), they were important parameters we use, to get the minimal error rate for the **poly** and **rbf** kernels. \n",
    "\n",
    "From the results above, in terms of **training time**, we see that the linear kernel has the *least* time, followed by the poly kernel and then the rbf kernel. They all had excellent test error rates; the poly and rbf kernels accurately classifying all the datapoints, and the linear kernel having an error rate of 0.01. Because the test error rates are extremely low, I would be able to use these models in real-life applications.\n",
    "\n",
    "Although having a very low test error rate is important to show the optimality of a model, especially in a real-world scenario,for this particular problem of identifying 3s from 8s, I would not choose to use the *rbf kernel* because it has a very high training time, compared to the other two kernels which also have very low error rates. \n",
    "I would instead choose the *poly* kernel. This is because it has the least test error rate possible, and its training time is just one second slower than that of the linear kernel, which is very small and as such, we can ignore.\n",
    "\n",
    "However, if the number of datapoints increases and the test error rates remain fairly the same or are zero/ the same for both kernels, I would choose the kernel with the least running time, which would be the *linear* kernel. As shown below in the appendix, it has the same error rate as the poly kernel, but is 5 seconds faster to train. As the number of datapoints increases, I believe the linear model would be trained faster than the poly kernel, which is optimal, especially as they both have the same error rate."
   ]
  },
  {
   "cell_type": "code",
   "execution_count": 57,
   "metadata": {},
   "outputs": [
    {
     "name": "stdout",
     "output_type": "stream",
     "text": [
      "Linear\n",
      "Training time - 96.67296600341797 seconds\n",
      "Error rate: 0.00\n",
      "\n",
      "\n",
      "Poly\n",
      "Training time - 101.91827917098999 seconds\n",
      "Error rate: 0.00\n",
      "\n",
      "\n"
     ]
    }
   ],
   "source": [
    "# Appendix: Checking to see the training time and error rate when we use the entire dataset, which is considerably larger(5 times larger) than what we were using before.\n",
    "\n",
    "mnist_images = mnist.train.images\n",
    "mnist_labels = mnist.train.labels\n",
    "\n",
    "\n",
    "#Splitting data into training and test\n",
    "data_train, data_test, labels_train, labels_test = train_test_split(mnist_images, mnist_labels, test_size = 0.1, random_state = 0)\n",
    "\n",
    "#For loop that carries out the training of the model for the different kernels\n",
    "\n",
    "for i in ['linear', 'poly']:\n",
    "    \n",
    "    #Training start time\n",
    "    start= time.time()\n",
    "    \n",
    "    #Cross-validation of gamma and degree - important to get the least error rate for rbf and poly kernels\n",
    "    parameters = {'gamma':[1,3],'degree':[1, 3]}\n",
    "    svc = SVC(kernel= i)\n",
    "    clf = GridSearchCV(svc, parameters)\n",
    "    clf.fit(data_test, labels_test)\n",
    "    \n",
    "    #Training end time\n",
    "    end = time.time()\n",
    "    \n",
    "    #Predicting labels\n",
    "    labels_pred = clf.predict(data_test)\n",
    "    \n",
    "    #Printing training time and error rate for each kernel\n",
    "    print(i.title())\n",
    "    print('Training time -', end-start, 'seconds')\n",
    "    print(\"Error rate: %.2f\"\n",
    "      %(1- accuracy_score(labels_test, labels_pred, normalize=True)))\n",
    "    print('\\n')"
   ]
  }
 ],
 "metadata": {
  "kernelspec": {
   "display_name": "Python 3",
   "language": "python",
   "name": "python3"
  },
  "language_info": {
   "codemirror_mode": {
    "name": "ipython",
    "version": 3
   },
   "file_extension": ".py",
   "mimetype": "text/x-python",
   "name": "python",
   "nbconvert_exporter": "python",
   "pygments_lexer": "ipython3",
   "version": "3.6.5"
  }
 },
 "nbformat": 4,
 "nbformat_minor": 2
}
